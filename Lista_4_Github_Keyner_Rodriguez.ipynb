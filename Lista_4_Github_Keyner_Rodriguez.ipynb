{
  "nbformat": 4,
  "nbformat_minor": 0,
  "metadata": {
    "colab": {
      "provenance": []
    },
    "kernelspec": {
      "name": "python3",
      "display_name": "Python 3"
    },
    "language_info": {
      "name": "python"
    }
  },
  "cells": [
    {
      "cell_type": "markdown",
      "metadata": {
        "id": "b4f21c96"
      },
      "source": [
        "## Resumen de Ejercicios de Intervalo de Confianza\n",
        "\n",
        "Aquí se presenta un resumen conciso de los ejercicios de intervalo de confianza resueltos, mostrando el código para el cálculo y la interpretación final.\n",
        "\n",
        "---\n",
        "\n",
        "### Ejercicio 1: Altura promedio de estudiantes universitarios\n",
        "\n",
        "**Problema:** Estimar la altura promedio de estudiantes universitarios. Muestra: $n=50$, $\\bar{x}=170$ cm, $\\sigma=10$ cm. Nivel de confianza: 95%.\n",
        "\n",
        "**Código para el cálculo:**"
      ]
    },
    {
      "cell_type": "code",
      "metadata": {
        "colab": {
          "base_uri": "https://localhost:8080/"
        },
        "id": "0b91496b",
        "outputId": "ca4e4188-145a-42af-e79d-27040fad0b05"
      },
      "source": [
        "import numpy as np\n",
        "from scipy.stats import norm\n",
        "\n",
        "# Datos\n",
        "media_muestral = 170\n",
        "desviacion_estandar_poblacional = 10\n",
        "tamano_muestra = 50\n",
        "nivel_confianza = 0.95\n",
        "alpha = 1 - nivel_confianza\n",
        "z_critico = norm.ppf(1 - alpha / 2)\n",
        "error_estandar = desviacion_estandar_poblacional / np.sqrt(tamano_muestra)\n",
        "margen_error = z_critico * error_estandar\n",
        "limite_inferior_ic = media_muestral - margen_error\n",
        "limite_superior_ic = media_muestral + margen_error\n",
        "\n",
        "print(f\"Intervalo de Confianza del {nivel_confianza*100}%: [{limite_inferior_ic:.4f}, {limite_superior_ic:.4f}] cm\")"
      ],
      "execution_count": null,
      "outputs": [
        {
          "output_type": "stream",
          "name": "stdout",
          "text": [
            "Intervalo de Confianza del 95.0%: [167.2282, 172.7718] cm\n"
          ]
        }
      ]
    },
    {
      "cell_type": "markdown",
      "metadata": {
        "id": "fd1598ba"
      },
      "source": [
        "**Conclusión Breve:** Con un 95% de confianza, la altura promedio poblacional está entre ${limite_inferior_ic:.4f}$ cm y ${limite_superior_ic:.4f}$ cm.\n",
        "\n",
        "---\n",
        "\n",
        "### Ejercicio 2: Calificación promedio de examen nacional\n",
        "\n",
        "**Problema:** Determinar un intervalo de confianza para la calificación promedio poblacional de un examen. $\\sigma=15$ puntos. Muestra: $n=100$, $\\bar{x}=75$ puntos. Nivel de confianza: 90%.\n",
        "\n",
        "**Código para el cálculo:**"
      ]
    },
    {
      "cell_type": "code",
      "metadata": {
        "id": "f393ba31"
      },
      "source": [
        "import numpy as np\n",
        "from scipy.stats import norm\n",
        "\n",
        "# Datos\n",
        "media_muestral_ej2 = 75\n",
        "desviacion_estandar_poblacional_ej2 = 15\n",
        "tamano_muestra_ej2 = 100\n",
        "nivel_confianza_ej2 = 0.90\n",
        "alpha_ej2 = 1 - nivel_confianza_ej2\n",
        "z_critico_ej2 = norm.ppf(1 - alpha_ej2 / 2)\n",
        "error_estandar_ej2 = desviacion_estandar_poblacional_ej2 / np.sqrt(tamano_muestra_ej2)\n",
        "margen_error_ej2 = z_critico_ej2 * error_estandar_ej2\n",
        "limite_inferior_ic_ej2 = media_muestral_ej2 - margen_error_ej2\n",
        "limite_superior_ic_ej2 = media_muestral_ej2 + margen_error_ej2\n",
        "\n",
        "print(f\"Intervalo de Confianza del {nivel_confianza_ej2*100}%: [{limite_inferior_ic_ej2:.4f}, {limite_superior_ic_ej2:.4f}] puntos\")"
      ],
      "execution_count": null,
      "outputs": []
    },
    {
      "cell_type": "markdown",
      "metadata": {
        "id": "e69cbb85"
      },
      "source": [
        "**Conclusión Breve:** Con un 90% de confianza, la calificación promedio poblacional está entre ${limite_inferior_ic_ej2:.4f}$ puntos y ${limite_superior_ic_ej2:.4f}$ puntos.\n",
        "\n",
        "---\n",
        "\n",
        "### Ejercicio 3: Diámetro promedio de tornillos\n",
        "\n",
        "**Problema:** Calcular un intervalo de confianza para el diámetro promedio real de tornillos. $\\sigma=0.2$ cm. Muestra: $n=30$, $\\bar{x}=2.5$ cm. Nivel de confianza: 99%.\n",
        "\n",
        "**Código para el cálculo:**"
      ]
    },
    {
      "cell_type": "code",
      "metadata": {
        "id": "a4afe7fa"
      },
      "source": [
        "import numpy as np\n",
        "from scipy.stats import norm\n",
        "\n",
        "# Datos\n",
        "media_muestral_ej3 = 2.5\n",
        "desviacion_estandar_poblacional_ej3 = 0.2\n",
        "tamano_muestra_ej3 = 30\n",
        "nivel_confianza_ej3 = 0.99\n",
        "alpha_ej3 = 1 - nivel_confianza_ej3\n",
        "z_critico_ej3 = norm.ppf(1 - alpha_ej3 / 2)\n",
        "error_estandar_ej3 = desviacion_estandar_poblacional_ej3 / np.sqrt(tamano_muestra_ej3)\n",
        "margen_error_ej3 = z_critico_ej3 * error_estandar_ej3\n",
        "limite_inferior_ic_ej3 = media_muestral_ej3 - margen_error_ej3\n",
        "limite_superior_ic_ej3 = media_muestral_ej3 + margen_error_ej3\n",
        "\n",
        "print(f\"Intervalo de Confianza del {nivel_confianza_ej3*100}%: [{limite_inferior_ic_ej3:.4f}, {limite_superior_ic_ej3:.4f}] cm\")"
      ],
      "execution_count": null,
      "outputs": []
    },
    {
      "cell_type": "markdown",
      "metadata": {
        "id": "451b619e"
      },
      "source": [
        "**Conclusión Breve:** Con un 99% de confianza, el diámetro promedio poblacional está entre ${limite_inferior_ic_ej3:.4f}$ cm y ${limite_superior_ic_ej3:.4f}$ cm.\n",
        "\n",
        "---\n",
        "\n",
        "### Ejercicio 4: Duración media poblacional de baterías\n",
        "\n",
        "**Problema:** Encontrar un intervalo de confianza para la duración media poblacional de baterías. $\\sigma=1.5$ horas. Muestra: $n=25$, $\\bar{x}=12$ horas. Nivel de confianza: 95%.\n",
        "\n",
        "**Código para el cálculo:**"
      ]
    },
    {
      "cell_type": "code",
      "metadata": {
        "id": "3fa5313c"
      },
      "source": [
        "import numpy as np\n",
        "from scipy.stats import norm\n",
        "\n",
        "# Datos\n",
        "media_muestral_ej4 = 12\n",
        "desviacion_estandar_poblacional_ej4 = 1.5\n",
        "tamano_muestra_ej4 = 25\n",
        "nivel_confianza_ej4 = 0.95\n",
        "alpha_ej4 = 1 - nivel_confianza_ej4\n",
        "z_critico_ej4 = norm.ppf(1 - alpha_ej4 / 2)\n",
        "error_estandar_ej4 = desviacion_estandar_poblacional_ej4 / np.sqrt(tamano_muestra_ej4)\n",
        "margen_error_ej4 = z_critico_ej4 * error_estandar_ej4\n",
        "limite_inferior_ic_ej4 = media_muestral_ej4 - margen_error_ej4\n",
        "limite_superior_ic_ej4 = media_muestral_ej4 + margen_error_ej4\n",
        "\n",
        "print(f\"Intervalo de Confianza del {nivel_confianza_ej4*100}%: [{limite_inferior_ic_ej4:.4f}, {limite_superior_ic_ej4:.4f}] horas\")"
      ],
      "execution_count": null,
      "outputs": []
    },
    {
      "cell_type": "markdown",
      "metadata": {
        "id": "87529731"
      },
      "source": [
        "**Conclusión Breve:** Con un 95% de confianza, la duración media poblacional de las baterías está entre ${limite_inferior_ic_ej4:.4f}$ horas y ${limite_superior_ic_ej4:.4f}$ horas.\n",
        "\n",
        "---\n",
        "\n",
        "### Ejercicio 5: Crecimiento promedio de plantas con fertilizante\n",
        "\n",
        "**Problema:** Construir un intervalo de confianza para el crecimiento promedio poblacional de plantas con fertilizante. $\\sigma=4$ cm. Muestra: $n=40$, $\\bar{x}=20$ cm. Nivel de confianza: 95%.\n",
        "\n",
        "**Código para el cálculo:**"
      ]
    },
    {
      "cell_type": "code",
      "metadata": {
        "id": "9b2b327b"
      },
      "source": [
        "import numpy as np\n",
        "from scipy.stats import norm\n",
        "\n",
        "# Datos\n",
        "media_muestral_ej5 = 20\n",
        "desviacion_estandar_poblacional_ej5 = 4\n",
        "tamano_muestra_ej5 = 40\n",
        "nivel_confianza_ej5 = 0.95\n",
        "alpha_ej5 = 1 - nivel_confianza_ej5\n",
        "z_critico_ej5 = norm.ppf(1 - alpha_ej5 / 2)\n",
        "error_estandar_ej5 = desviacion_estandar_poblacional_ej5 / np.sqrt(tamano_muestra_ej5)\n",
        "margen_error_ej5 = z_critico_ej5 * error_estandar_ej5\n",
        "limite_inferior_ic_ej5 = media_muestral_ej5 - margen_error_ej5\n",
        "limite_superior_ic_ej5 = media_muestral_ej5 + margen_error_ej5\n",
        "\n",
        "print(f\"Intervalo de Confianza del {nivel_confianza_ej5*100}%: [{limite_inferior_ic_ej5:.4f}, {limite_superior_ic_ej5:.4f}] cm\")"
      ],
      "execution_count": null,
      "outputs": []
    },
    {
      "cell_type": "markdown",
      "metadata": {
        "id": "cbf53157"
      },
      "source": [
        "**Conclusión Breve:** Con un 95% de confianza, el crecimiento promedio poblacional de las plantas está entre ${limite_inferior_ic_ej5:.4f}$ cm y ${limite_superior_ic_ej5:.4f}$ cm."
      ]
    },
    {
      "cell_type": "markdown",
      "metadata": {
        "id": "3e770147"
      },
      "source": [
        "---\n",
        "\n",
        "### Ejercicio 6: Temperatura promedio del café\n",
        "\n",
        "**Problema:** Estimar la temperatura promedio (°C) del café servido. Muestra: $n=12$, $\\bar{x}=84$ °C, $s=5$ °C. Nivel de confianza: 95%.\n",
        "\n",
        "**Código para el cálculo:**"
      ]
    },
    {
      "cell_type": "code",
      "metadata": {
        "id": "3c125b18"
      },
      "source": [
        "import numpy as np\n",
        "from scipy.stats import t\n",
        "\n",
        "# Datos\n",
        "media_muestral_ej6 = 84\n",
        "desviacion_estandar_muestral_ej6 = 5 # Desviación estándar muestral\n",
        "tamano_muestra_ej6 = 12\n",
        "nivel_confianza_ej6 = 0.95\n",
        "alpha_ej6 = 1 - nivel_confianza_ej6\n",
        "\n",
        "# Grados de libertad para la distribución t\n",
        "grados_libertad_ej6 = tamano_muestra_ej6 - 1\n",
        "\n",
        "# Valor crítico t\n",
        "t_critico_ej6 = t.ppf(1 - alpha_ej6 / 2, grados_libertad_ej6)\n",
        "\n",
        "# Error estándar (usando desviación estándar muestral)\n",
        "error_estandar_ej6 = desviacion_estandar_muestral_ej6 / np.sqrt(tamano_muestra_ej6)\n",
        "\n",
        "# Margen de error\n",
        "margen_error_ej6 = t_critico_ej6 * error_estandar_ej6\n",
        "\n",
        "# Intervalo de Confianza\n",
        "limite_inferior_ic_ej6 = media_muestral_ej6 - margen_error_ej6\n",
        "limite_superior_ic_ej6 = media_muestral_ej6 + margen_error_ej6\n",
        "\n",
        "print(f\"Intervalo de Confianza del {nivel_confianza_ej6*100}%: [{limite_inferior_ic_ej6:.4f}, {limite_superior_ic_ej6:.4f}] °C\")"
      ],
      "execution_count": null,
      "outputs": []
    },
    {
      "cell_type": "markdown",
      "metadata": {
        "id": "5a3b7f9a"
      },
      "source": [
        "**Conclusión Breve:** Con un 95% de confianza, la temperatura promedio poblacional del café está entre ${limite_inferior_ic_ej6:.4f}$ °C y ${limite_superior_ic_ej6:.4f}$ °C."
      ]
    },
    {
      "cell_type": "markdown",
      "metadata": {
        "id": "0eb17632"
      },
      "source": [
        "---\n",
        "\n",
        "### Ejercicio 7: Duración media de la batería de un smartphone\n",
        "\n",
        "**Problema:** Determinar el intervalo de confianza para la duración media real de la batería de un nuevo modelo de smartphone. Muestra: $n=15$, $\\bar{x}=8$ horas, $s=1.2$ horas. Nivel de confianza: 90%.\n",
        "\n",
        "**Código para el cálculo:**"
      ]
    },
    {
      "cell_type": "code",
      "metadata": {
        "id": "8a86aa01"
      },
      "source": [
        "import numpy as np\n",
        "from scipy.stats import t\n",
        "\n",
        "# Datos\n",
        "media_muestral_ej7 = 8  # horas\n",
        "desviacion_estandar_muestral_ej7 = 1.2  # horas\n",
        "tamano_muestra_ej7 = 15\n",
        "nivel_confianza_ej7 = 0.90\n",
        "alpha_ej7 = 1 - nivel_confianza_ej7\n",
        "\n",
        "# Grados de libertad para la distribución t\n",
        "grados_libertad_ej7 = tamano_muestra_ej7 - 1\n",
        "\n",
        "# Valor crítico t\n",
        "t_critico_ej7 = t.ppf(1 - alpha_ej7 / 2, grados_libertad_ej7)\n",
        "\n",
        "# Error estándar (usando desviación estándar muestral)\n",
        "error_estandar_ej7 = desviacion_estandar_muestral_ej7 / np.sqrt(tamano_muestra_ej7)\n",
        "\n",
        "# Margen de error\n",
        "margen_error_ej7 = t_critico_ej7 * error_estandar_ej7\n",
        "\n",
        "# Intervalo de Confianza\n",
        "limite_inferior_ic_ej7 = media_muestral_ej7 - margen_error_ej7\n",
        "limite_superior_ic_ej7 = media_muestral_ej7 + margen_error_ej7\n",
        "\n",
        "print(f\"Intervalo de Confianza del {nivel_confianza_ej7*100}%: [{limite_inferior_ic_ej7:.4f}, {limite_superior_ic_ej7:.4f}] horas\")"
      ],
      "execution_count": null,
      "outputs": []
    },
    {
      "cell_type": "markdown",
      "metadata": {
        "id": "cfefb178"
      },
      "source": [
        "**Conclusión Breve:** Con un 90% de confianza, la duración media poblacional real de la batería del smartphone está entre ${limite_inferior_ic_ej7:.4f}$ horas y ${limite_superior_ic_ej7:.4f}$ horas."
      ]
    },
    {
      "cell_type": "markdown",
      "metadata": {
        "id": "4299d60d"
      },
      "source": [
        "---\n",
        "\n",
        "### Ejercicio 8: Altura promedio de plántulas de maíz\n",
        "\n",
        "**Problema:** Construir el intervalo de confianza para la altura media poblacional de las plántulas de maíz con un fertilizante experimental. Muestra: $n=10$, $\\bar{x}=25$ cm, $s=3$ cm. Nivel de confianza: 99%.\n",
        "\n",
        "**Código para el cálculo:**"
      ]
    },
    {
      "cell_type": "code",
      "metadata": {
        "id": "8065ce86"
      },
      "source": [
        "import numpy as np\n",
        "from scipy.stats import t\n",
        "\n",
        "# Datos\n",
        "media_muestral_ej8 = 25  # cm\n",
        "desviacion_estandar_muestral_ej8 = 3  # cm\n",
        "tamano_muestra_ej8 = 10\n",
        "nivel_confianza_ej8 = 0.99\n",
        "alpha_ej8 = 1 - nivel_confianza_ej8\n",
        "\n",
        "# Grados de libertad para la distribución t\n",
        "grados_libertad_ej8 = tamano_muestra_ej8 - 1\n",
        "\n",
        "# Valor crítico t\n",
        "t_critico_ej8 = t.ppf(1 - alpha_ej8 / 2, grados_libertad_ej8)\n",
        "\n",
        "# Error estándar (usando desviación estándar muestral)\n",
        "error_estandar_ej8 = desviacion_estandar_muestral_ej8 / np.sqrt(tamano_muestra_ej8)\n",
        "\n",
        "# Margen de error\n",
        "margen_error_ej8 = t_critico_ej8 * error_estandar_ej8\n",
        "\n",
        "# Intervalo de Confianza\n",
        "limite_inferior_ic_ej8 = media_muestral_ej8 - margen_error_ej8\n",
        "limite_superior_ic_ej8 = media_muestral_ej8 + margen_error_ej8\n",
        "\n",
        "print(f\"Intervalo de Confianza del {nivel_confianza_ej8*100}%: [{limite_inferior_ic_ej8:.4f}, {limite_superior_ic_ej8:.4f}] cm\")"
      ],
      "execution_count": null,
      "outputs": []
    },
    {
      "cell_type": "markdown",
      "metadata": {
        "id": "ffa78a89"
      },
      "source": [
        "**Conclusión Breve:** Con un 99% de confianza, la altura media poblacional de las plántulas de maíz con el fertilizante experimental está entre ${limite_inferior_ic_ej8:.4f}$ cm y ${limite_superior_ic_ej8:.4f}$ cm."
      ]
    },
    {
      "cell_type": "markdown",
      "metadata": {
        "id": "174bd5f9"
      },
      "source": [
        "---\n",
        "\n",
        "### Ejercicio 9: Tiempo promedio de entrega de pizza\n",
        "\n",
        "**Problema:** Estimar el intervalo de confianza para el tiempo medio de entrega con un nivel de confianza del 95 %. Muestra: $n=20$, $\\bar{x}=30$ minutos, $s=4$ minutos.\n",
        "\n",
        "**Código para el cálculo:**"
      ]
    },
    {
      "cell_type": "code",
      "metadata": {
        "id": "638345e6"
      },
      "source": [
        "import numpy as np\n",
        "from scipy.stats import t\n",
        "\n",
        "# Datos\n",
        "media_muestral_ej9 = 30  # minutos\n",
        "desviacion_estandar_muestral_ej9 = 4  # minutos\n",
        "tamano_muestra_ej9 = 20\n",
        "nivel_confianza_ej9 = 0.95\n",
        "alpha_ej9 = 1 - nivel_confianza_ej9\n",
        "\n",
        "# Grados de libertad para la distribución t\n",
        "grados_libertad_ej9 = tamano_muestra_ej9 - 1\n",
        "\n",
        "# Valor crítico t\n",
        "t_critico_ej9 = t.ppf(1 - alpha_ej9 / 2, grados_libertad_ej9)\n",
        "\n",
        "# Error estándar (usando desviación estándar muestral)\n",
        "error_estandar_ej9 = desviacion_estandar_muestral_ej9 / np.sqrt(tamano_muestra_ej9)\n",
        "\n",
        "# Margen de error\n",
        "margen_error_ej9 = t_critico_ej9 * error_estandar_ej9\n",
        "\n",
        "# Intervalo de Confianza\n",
        "limite_inferior_ic_ej9 = media_muestral_ej9 - margen_error_ej9\n",
        "limite_superior_ic_ej9 = media_muestral_ej9 + margen_error_ej9\n",
        "\n",
        "print(f\"Intervalo de Confianza del {nivel_confianza_ej9*100}%: [{limite_inferior_ic_ej9:.4f}, {limite_superior_ic_ej9:.4f}] minutos\")"
      ],
      "execution_count": null,
      "outputs": []
    },
    {
      "cell_type": "markdown",
      "metadata": {
        "id": "17bdf175"
      },
      "source": [
        "**Conclusión Breve:** Con un 95% de confianza, el tiempo medio poblacional de entrega de pizza está entre ${limite_inferior_ic_ej9:.4f}$ minutos y ${limite_superior_ic_ej9:.4f}$ minutos."
      ]
    },
    {
      "cell_type": "markdown",
      "metadata": {
        "id": "f03b212d"
      },
      "source": [
        "---\n",
        "\n",
        "### Ejercicio 10: Peso promedio de libros de matemáticas\n",
        "\n",
        "**Problema:** Estimar el peso promedio (kg) de los libros de matemáticas. Muestra: $n=8$, $\\bar{x}=1.5$ kg, $s=0.3$ kg. Nivel de confianza: 95%.\n",
        "\n",
        "**Código para el cálculo:**"
      ]
    },
    {
      "cell_type": "code",
      "metadata": {
        "id": "ec628f1b"
      },
      "source": [
        "import numpy as np\n",
        "from scipy.stats import t\n",
        "\n",
        "# Datos\n",
        "media_muestral_ej10 = 1.5  # kg\n",
        "desviacion_estandar_muestral_ej10 = 0.3  # kg\n",
        "tamano_muestra_ej10 = 8\n",
        "nivel_confianza_ej10 = 0.95\n",
        "alpha_ej10 = 1 - nivel_confianza_ej10\n",
        "\n",
        "# Grados de libertad para la distribución t\n",
        "grados_libertad_ej10 = tamano_muestra_ej10 - 1\n",
        "\n",
        "# Valor crítico t\n",
        "t_critico_ej10 = t.ppf(1 - alpha_ej10 / 2, grados_libertad_ej10)\n",
        "\n",
        "# Error estándar (usando desviación estándar muestral)\n",
        "error_estandar_ej10 = desviacion_estandar_muestral_ej10 / np.sqrt(tamano_muestra_ej10)\n",
        "\n",
        "# Margen de error\n",
        "margen_error_ej10 = t_critico_ej10 * error_estandar_ej10\n",
        "\n",
        "# Intervalo de Confianza\n",
        "limite_inferior_ic_ej10 = media_muestral_ej10 - margen_error_ej10\n",
        "limite_superior_ic_ej10 = media_muestral_ej10 + margen_error_ej10\n",
        "\n",
        "print(f\"Intervalo de Confianza del {nivel_confianza_ej10*100}%: [{limite_inferior_ic_ej10:.4f}, {limite_superior_ic_ej10:.4f}] kg\")"
      ],
      "execution_count": null,
      "outputs": []
    },
    {
      "cell_type": "markdown",
      "metadata": {
        "id": "e1ab0fa1"
      },
      "source": [
        "**Conclusión Breve:** Con un 95% de confianza, el peso promedio poblacional de los libros de matemáticas está entre ${limite_inferior_ic_ej10:.4f}$ kg y ${limite_superior_ic_ej10:.4f}$ kg."
      ]
    },
    {
      "cell_type": "markdown",
      "metadata": {
        "id": "b3692301"
      },
      "source": [
        "---\n",
        "\n",
        "## Ejercicio 11: Tamaño de Muestra para Estimar una Proporción Poblacional\n",
        "\n",
        "Para determinar el tamaño de muestra necesario al estimar una proporción poblacional ($p$), utilizamos la siguiente fórmula:\n",
        "\n",
        "$$ n = \\frac{Z_{\\alpha/2}^2 \\cdot p \\cdot (1-p)}{E^2} $$\n",
        "\n",
        "Donde:\n",
        "- $n$ es el tamaño de muestra requerido.\n",
        "- $Z_{\\alpha/2}$ es el valor crítico de la distribución Z para el nivel de confianza deseado.\n",
        "- $p$ es una estimación de la proporción poblacional (si está disponible).\n",
        "- $E$ es el margen de error deseado.\n",
        "\n",
        "Si no se tiene una estimación previa de $p$, se utiliza $p = 0.5$ para maximizar el producto $p(1-p)$ y obtener el tamaño de muestra más conservador (el más grande).\n",
        "\n",
        "### Escenario 1: Con estudio piloto (estimación de $p$ disponible)\n",
        "\n",
        "**Problema:** Estimar la proporción de residentes vacunados contra la influenza. En un estudio piloto, el 72 % de una muestra mostró estar vacunado. Margen de error: 3 %. Nivel de confianza: 95 %.\n",
        "\n",
        "**Datos:**\n",
        "- Estimación de $p$ (a partir del estudio piloto) = 0.72\n",
        "- Margen de error ($E$) = 0.03\n",
        "- Nivel de confianza = 95 % ($\\alpha = 0.05$)"
      ]
    },
    {
      "cell_type": "code",
      "metadata": {
        "id": "0514cb20"
      },
      "source": [
        "import numpy as np\n",
        "from scipy.stats import norm\n",
        "import math\n",
        "\n",
        "# Datos para el Escenario 1\n",
        "p_estimado = 0.72  # Proporción estimada del estudio piloto\n",
        "margen_error_ej11 = 0.03\n",
        "nivel_confianza_ej11 = 0.95\n",
        "alpha_ej11 = 1 - nivel_confianza_ej11\n",
        "\n",
        "# Valor crítico Z para un nivel de confianza del 95%\n",
        "z_critico_ej11 = norm.ppf(1 - alpha_ej11 / 2)\n",
        "\n",
        "# Calcular el tamaño de muestra\n",
        "n_ej11_escenario1 = (z_critico_ej11**2 * p_estimado * (1 - p_estimado)) / (margen_error_ej11**2)\n",
        "\n",
        "# Redondear hacia arriba para asegurar el margen de error deseado\n",
        "tamano_muestra_ej11_escenario1 = math.ceil(n_ej11_escenario1)\n",
        "\n",
        "print(f\"Estimación de p: {p_estimado}\")\n",
        "print(f\"Margen de error (E): {margen_error_ej11}\")\n",
        "print(f\"Nivel de confianza: {nivel_confianza_ej11}\")\n",
        "print(f\"Valor crítico Z: {z_critico_ej11:.4f}\")\n",
        "print(f\"Tamaño de muestra calculado (sin redondear): {n_ej11_escenario1:.4f}\")\n",
        "print(f\"Tamaño de muestra necesario (redondeado hacia arriba): {tamano_muestra_ej11_escenario1}\")"
      ],
      "execution_count": null,
      "outputs": []
    },
    {
      "cell_type": "markdown",
      "metadata": {
        "id": "8ce94ddc"
      },
      "source": [
        "**Conclusión Breve (Escenario 1):** Para estimar la proporción de residentes vacunados con un margen de error del 3% y un 95% de confianza, utilizando la estimación previa del 72%, se necesitan aproximadamente ${tamano_muestra_ej11_escenario1}$ residentes en la muestra.\n",
        "\n",
        "### Escenario 2: Sin estudio piloto (no hay estimación previa de $p$)\n",
        "\n",
        "**Problema:** Determine el tamaño de muestra necesario para estimar esta proporción con un margen de error del 3 % y un nivel de confianza del 95 %, si no se tuviera el estudio piloto.\n",
        "\n",
        "**Datos:**\n",
        "- Como no hay estimación previa de $p$, usamos $p = 0.5$.\n",
        "- Margen de error ($E$) = 0.03\n",
        "- Nivel de confianza = 95 % ($\\alpha = 0.05$)"
      ]
    },
    {
      "cell_type": "code",
      "metadata": {
        "id": "b376f31a"
      },
      "source": [
        "import numpy as np\n",
        "from scipy.stats import norm\n",
        "import math\n",
        "\n",
        "# Datos para el Escenario 2\n",
        "p_sin_estimacion = 0.5  # Valor conservador cuando no hay estimación previa\n",
        "margen_error_ej11 = 0.03\n",
        "nivel_confianza_ej11 = 0.95\n",
        "alpha_ej11 = 1 - nivel_confianza_ej11\n",
        "\n",
        "# Valor crítico Z para un nivel de confianza del 95% (es el mismo que en el Escenario 1)\n",
        "z_critico_ej11 = norm.ppf(1 - alpha_ej11 / 2)\n",
        "\n",
        "# Calcular el tamaño de muestra\n",
        "n_ej11_escenario2 = (z_critico_ej11**2 * p_sin_estimacion * (1 - p_sin_estimacion)) / (margen_error_ej11**2)\n",
        "\n",
        "# Redondear hacia arriba\n",
        "tamano_muestra_ej11_escenario2 = math.ceil(n_ej11_escenario2)\n",
        "\n",
        "print(f\"Valor conservador de p: {p_sin_estimacion}\")\n",
        "print(f\"Margen de error (E): {margen_error_ej11}\")\n",
        "print(f\"Nivel de confianza: {nivel_confianza_ej11}\")\n",
        "print(f\"Valor crítico Z: {z_critico_ej11:.4f}\")\n",
        "print(f\"Tamaño de muestra calculado (sin redondear): {n_ej11_escenario2:.4f}\")\n",
        "print(f\"Tamaño de muestra necesario (redondeado hacia arriba): {tamano_muestra_ej11_escenario2}\")"
      ],
      "execution_count": null,
      "outputs": []
    },
    {
      "cell_type": "markdown",
      "metadata": {
        "id": "9f7e82c2"
      },
      "source": [
        "**Conclusión Breve (Escenario 2):** Si no se tiene una estimación previa de la proporción de residentes vacunados, para lograr un margen de error del 3% con un 95% de confianza, se necesitaría una muestra más grande de aproximadamente ${tamano_muestra_ej11_escenario2}$ residentes. Esto se debe a que usar $p=0.5$ considera el peor escenario posible en términos de variabilidad."
      ]
    },
    {
      "cell_type": "markdown",
      "metadata": {
        "id": "d9fbee95"
      },
      "source": [
        "---\n",
        "\n",
        "## Ejercicio 12: Tamaño de Muestra para Estimar una Proporción Poblacional (Tasa de Devoluciones)\n",
        "\n",
        "Utilizaremos la misma fórmula para el tamaño de muestra para estimar una proporción poblacional:\n",
        "\n",
        "$$ n = \\frac{Z_{\\alpha/2}^2 \\cdot p \\cdot (1-p)}{E^2} $$\n",
        "\n",
        "Donde:\n",
        "- $n$ es el tamaño de muestra requerido.\n",
        "- $Z_{\\alpha/2}$ es el valor crítico de la distribución Z para el nivel de confianza deseado.\n",
        "- $p$ es la estimación de la proporción poblacional (a partir de datos históricos).\n",
        "- $E$ es el margen de error deseado.\n",
        "\n",
        "**Datos:**\n",
        "- Estimación de $p$ (a partir de datos históricos) = 0.07 (7 %)\n",
        "- Margen de error ($E$) = 0.04 (4 %)\n",
        "- Nivel de confianza = 90 % ($\\alpha = 0.10$)"
      ]
    },
    {
      "cell_type": "code",
      "metadata": {
        "id": "0009d245"
      },
      "source": [
        "import numpy as np\n",
        "from scipy.stats import norm\n",
        "import math\n",
        "\n",
        "# Datos para el Ejercicio 12\n",
        "p_historico = 0.07  # Proporción histórica de devoluciones\n",
        "margen_error_ej12 = 0.04\n",
        "nivel_confianza_ej12 = 0.90\n",
        "alpha_ej12 = 1 - nivel_confianza_ej12\n",
        "\n",
        "# Valor crítico Z para un nivel de confianza del 90%\n",
        "z_critico_ej12 = norm.ppf(1 - alpha_ej12 / 2)\n",
        "\n",
        "# Calcular el tamaño de muestra\n",
        "n_ej12 = (z_critico_ej12**2 * p_historico * (1 - p_historico)) / (margen_error_ej12**2)\n",
        "\n",
        "# Redondear hacia arriba para asegurar el margen de error deseado\n",
        "tamano_muestra_ej12 = math.ceil(n_ej12)\n",
        "\n",
        "print(f\"Estimación de p (histórico): {p_historico}\")\n",
        "print(f\"Margen de error (E): {margen_error_ej12}\")\n",
        "print(f\"Nivel de confianza: {nivel_confianza_ej12}\")\n",
        "print(f\"Valor crítico Z: {z_critico_ej12:.4f}\")\n",
        "print(f\"Tamaño de muestra calculado (sin redondear): {n_ej12:.4f}\")\n",
        "print(f\"Tamaño de muestra necesario (redondeado hacia arriba): {tamano_muestra_ej12}\")"
      ],
      "execution_count": null,
      "outputs": []
    },
    {
      "cell_type": "markdown",
      "metadata": {
        "id": "9fd3d1cf"
      },
      "source": [
        "**Conclusión Breve (Ejercicio 12):** Para estimar la proporción de devoluciones con un margen de error del 4% y un 90% de confianza, utilizando la tasa de devoluciones histórica del 7%, se necesitan aproximadamente ${tamano_muestra_ej12}$ pedidos en la muestra."
      ]
    },
    {
      "cell_type": "markdown",
      "metadata": {
        "id": "126d3569"
      },
      "source": [
        "* * *\n",
        "\n",
        "## Ejercicio 13: Tamaño de Muestra para Estimar una Proporción Poblacional (Apoyo a un Candidato)\n",
        "\n",
        "Continuando con el cálculo del tamaño de muestra para estimar una proporción poblacional, aplicaremos la misma fórmula:\n",
        "\n",
        "$$ n = \\frac{Z_{\\alpha/2}^2 \\cdot p \\cdot (1-p)}{E^2} $$\n",
        "\n",
        "Donde:\n",
        "- $n$ es el tamaño de muestra requerido.\n",
        "- $Z_{\\alpha/2}$ es el valor crítico de la distribución Z para el nivel de confianza deseado.\n",
        "- $p$ es una estimación de la proporción poblacional (si está disponible).\n",
        "- $E$ es el margen de error deseado.\n",
        "\n",
        "### Escenario 1: Con encuesta previa (estimación de $p$ disponible)\n",
        "\n",
        "**Problema:** Un partido político quiere determinar la proporción de votantes que apoyan a su candidato. En una encuesta previa, el 42 % mostró apoyo. ¿Qué tamaño de muestra se necesita para estimar esta proporción con un margen de error del 2 % y un nivel de confianza del 99 %?\n",
        "\n",
        "**Datos:**\n",
        "- Estimación de $p$ (a partir de la encuesta previa) = 0.42\n",
        "- Margen de error ($E$) = 0.02\n",
        "- Nivel de confianza = 99 % ($\\alpha = 0.01$)"
      ]
    },
    {
      "cell_type": "code",
      "metadata": {
        "id": "36a8bf86"
      },
      "source": [
        "import numpy as np\n",
        "from scipy.stats import norm\n",
        "import math\n",
        "\n",
        "# Datos para el Ejercicio 13 - Escenario 1\n",
        "p_estimado_ej13 = 0.42  # Proporción estimada de la encuesta previa\n",
        "margen_error_ej13 = 0.02\n",
        "nivel_confianza_ej13 = 0.99\n",
        "alpha_ej13 = 1 - nivel_confianza_ej13\n",
        "\n",
        "# Valor crítico Z para un nivel de confianza del 99%\n",
        "z_critico_ej13 = norm.ppf(1 - alpha_ej13 / 2)\n",
        "\n",
        "# Calcular el tamaño de muestra\n",
        "n_ej13_escenario1 = (z_critico_ej13**2 * p_estimado_ej13 * (1 - p_estimado_ej13)) / (margen_error_ej13**2)\n",
        "\n",
        "# Redondear hacia arriba para asegurar el margen de error deseado\n",
        "tamano_muestra_ej13_escenario1 = math.ceil(n_ej13_escenario1)\n",
        "\n",
        "print(f\"Estimación de p: {p_estimado_ej13}\")\n",
        "print(f\"Margen de error (E): {margen_error_ej13}\")\n",
        "print(f\"Nivel de confianza: {nivel_confianza_ej13}\")\n",
        "print(f\"Valor crítico Z: {z_critico_ej13:.4f}\")\n",
        "print(f\"Tamaño de muestra calculado (sin redondear): {n_ej13_escenario1:.4f}\")\n",
        "print(f\"Tamaño de muestra necesario (redondeado hacia arriba): {tamano_muestra_ej13_escenario1}\")"
      ],
      "execution_count": null,
      "outputs": []
    },
    {
      "cell_type": "markdown",
      "metadata": {
        "id": "7ca18bcd"
      },
      "source": [
        "**Conclusión Breve (Escenario 1):** Para estimar la proporción de votantes que apoyan al candidato con un margen de error del 2% y un 99% de confianza, utilizando la estimación previa del 42%, se necesitan aproximadamente ${tamano_muestra_ej13_escenario1}$ votantes en la muestra.\n",
        "\n",
        "### Escenario 2: Sin encuesta previa (no hay estimación previa de $p$)\n",
        "\n",
        "**Problema:** Si no se usa la encuesta previa, ¿cómo cambia el resultado del tamaño de muestra necesario para estimar esta proporción con un margen de error del 2 % y un nivel de confianza del 99 %?\n",
        "\n",
        "**Datos:**\n",
        "- Como no hay estimación previa de $p$, usamos $p = 0.5$.\n",
        "- Margen de error ($E$) = 0.02\n",
        "- Nivel de confianza = 99 % ($\\alpha = 0.01$)"
      ]
    },
    {
      "cell_type": "code",
      "metadata": {
        "id": "259e1363"
      },
      "source": [
        "import numpy as np\n",
        "from scipy.stats import norm\n",
        "import math\n",
        "\n",
        "# Datos para el Ejercicio 13 - Escenario 2\n",
        "p_sin_estimacion_ej13 = 0.5  # Valor conservador cuando no hay estimación previa\n",
        "margen_error_ej13 = 0.02\n",
        "nivel_confianza_ej13 = 0.99\n",
        "alpha_ej13 = 1 - nivel_confianza_ej13\n",
        "\n",
        "# Valor crítico Z para un nivel de confianza del 99% (es el mismo que en el Escenario 1)\n",
        "z_critico_ej13 = norm.ppf(1 - alpha_ej13 / 2)\n",
        "\n",
        "# Calcular el tamaño de muestra\n",
        "n_ej13_escenario2 = (z_critico_ej13**2 * p_sin_estimacion_ej13 * (1 - p_sin_estimacion_ej13)) / (margen_error_ej13**2)\n",
        "\n",
        "# Redondear hacia arriba\n",
        "tamano_muestra_ej13_escenario2 = math.ceil(n_ej13_escenario2)\n",
        "\n",
        "print(f\"Valor conservador de p: {p_sin_estimacion_ej13}\")\n",
        "print(f\"Margen de error (E): {margen_error_ej13}\")\n",
        "print(f\"Nivel de confianza: {nivel_confianza_ej13}\")\n",
        "print(f\"Valor crítico Z: {z_critico_ej13:.4f}\")\n",
        "print(f\"Tamaño de muestra calculado (sin redondear): {n_ej13_escenario2:.4f}\")\n",
        "print(f\"Tamaño de muestra necesario (redondeado hacia arriba): {tamano_muestra_ej13_escenario2}\")"
      ],
      "execution_count": null,
      "outputs": []
    },
    {
      "cell_type": "markdown",
      "metadata": {
        "id": "65e02903"
      },
      "source": [
        "**Conclusión Breve (Escenario 2):** Si no se tiene una estimación previa de la proporción de votantes que apoyan al candidato, para lograr un margen de error del 2% con un 99% de confianza, se necesitaría una muestra más grande de aproximadamente ${tamano_muestra_ej13_escenario2}$ votantes. Esto confirma que usar $p=0.5$ resulta en el tamaño de muestra más grande posible para un margen de error y nivel de confianza dados."
      ]
    },
    {
      "cell_type": "markdown",
      "metadata": {
        "id": "ac84a248"
      },
      "source": [
        "* * *\n",
        "\n",
        "## Ejercicio 14: Tamaño de Muestra para Estimar una Proporción Poblacional (Apoyo a una Nueva Política)\n",
        "\n",
        "Continuamos con el cálculo del tamaño de muestra necesario para estimar una proporción poblacional. La fórmula es la misma:\n",
        "\n",
        "$$ n = \\frac{Z_{\\alpha/2}^2 \\cdot p \\cdot (1-p)}{E^2} $$\n",
        "\n",
        "Donde:\n",
        "- $n$ es el tamaño de muestra requerido.\n",
        "- $Z_{\\alpha/2}$ es el valor crítico de la distribución Z para el nivel de confianza deseado.\n",
        "- $p$ es una estimación de la proporción poblacional (si está disponible).\n",
        "- $E$ es el margen de error deseado.\n",
        "\n",
        "### Escenario 1: Con encuesta informal (estimación de $p$ disponible)\n",
        "\n",
        "**Problema:** Un distrito escolar necesita medir el apoyo a una nueva política. En una encuesta informal, el 56 % de los padres estuvo de acuerdo. Calcule el tamaño de muestra requerido para estimar la proporción de apoyo con un margen de error del 5 % y confianza del 95 %.\n",
        "\n",
        "**Datos:**\n",
        "- Estimación de $p$ (a partir de la encuesta informal) = 0.56\n",
        "- Margen de error ($E$) = 0.05\n",
        "- Nivel de confianza = 95 % ($\\alpha = 0.05$)"
      ]
    },
    {
      "cell_type": "code",
      "metadata": {
        "id": "e34d9487"
      },
      "source": [
        "import numpy as np\n",
        "from scipy.stats import norm\n",
        "import math\n",
        "\n",
        "# Datos para el Ejercicio 14 - Escenario 1\n",
        "p_estimado_ej14 = 0.56  # Proporción estimada de la encuesta informal\n",
        "margen_error_ej14 = 0.05\n",
        "nivel_confianza_ej14 = 0.95\n",
        "alpha_ej14 = 1 - nivel_confianza_ej14\n",
        "\n",
        "# Valor crítico Z para un nivel de confianza del 95%\n",
        "z_critico_ej14 = norm.ppf(1 - alpha_ej14 / 2)\n",
        "\n",
        "# Calcular el tamaño de muestra\n",
        "n_ej14_escenario1 = (z_critico_ej14**2 * p_estimado_ej14 * (1 - p_estimado_ej14)) / (margen_error_ej14**2)\n",
        "\n",
        "# Redondear hacia arriba para asegurar el margen de error deseado\n",
        "tamano_muestra_ej14_escenario1 = math.ceil(n_ej14_escenario1)\n",
        "\n",
        "print(f\"Estimación de p: {p_estimado_ej14}\")\n",
        "print(f\"Margen de error (E): {margen_error_ej14}\")\n",
        "print(f\"Nivel de confianza: {nivel_confianza_ej14}\")\n",
        "print(f\"Valor crítico Z: {z_critico_ej14:.4f}\")\n",
        "print(f\"Tamaño de muestra calculado (sin redondear): {n_ej14_escenario1:.4f}\")\n",
        "print(f\"Tamaño de muestra necesario (redondeado hacia arriba): {tamano_muestra_ej14_escenario1}\")"
      ],
      "execution_count": null,
      "outputs": []
    },
    {
      "cell_type": "markdown",
      "metadata": {
        "id": "d125d37e"
      },
      "source": [
        "**Conclusión Breve (Escenario 1):** Para estimar la proporción de apoyo a la nueva política con un margen de error del 5% y un 95% de confianza, utilizando la estimación previa del 56%, se necesitan aproximadamente ${tamano_muestra_ej14_escenario1}$ padres en la muestra.\n",
        "\n",
        "### Justificación del uso de $p=0.5$ cuando no hay datos preliminares\n",
        "\n",
        "Cuando no se dispone de una estimación previa de la proporción poblacional ($p$), se utiliza el valor de $p=0.5$ en la fórmula del tamaño de muestra por una razón matemática clave. La expresión $p(1-p)$ alcanza su valor máximo cuando $p=0.5$.\n",
        "\n",
        "Veamos algunos ejemplos:\n",
        "- Si $p = 0.1$, $p(1-p) = 0.1 \\times 0.9 = 0.09$\n",
        "- Si $p = 0.3$, $p(1-p) = 0.3 \\times 0.7 = 0.21$\n",
        "- Si $p = 0.5$, $p(1-p) = 0.5 \\times 0.5 = 0.25$\n",
        "- Si $p = 0.7$, $p(1-p) = 0.7 \\times 0.3 = 0.21$\n",
        "- Si $p = 0.9$, $p(1-p) = 0.9 \\times 0.1 = 0.09$\n",
        "\n",
        "Como puedes observar, el producto $p(1-p)$ es mayor cuando $p$ se acerca a 0.5. Dado que el tamaño de muestra ($n$) es directamente proporcional a $p(1-p)$ en la fórmula, usar $p=0.5$ resulta en el **tamaño de muestra más grande posible** para un margen de error y un nivel de confianza determinados.\n",
        "\n",
        "Esto es una estrategia conservadora que garantiza que el tamaño de muestra calculado sea suficiente para lograr el margen de error deseado, independientemente de cuál sea la proporción poblacional real. Si utilizáramos una $p$ estimada que estuviera lejos de 0.5 (y esa estimación fuera incorrecta), podríamos calcular un tamaño de muestra insuficiente. Usar $p=0.5$ nos protege contra este riesgo cuando no tenemos información previa confiable.\n",
        "\n",
        "En resumen, $p=0.5$ se utiliza para maximizar el tamaño de muestra y asegurar que el estudio tenga la potencia suficiente para estimar la proporción poblacional dentro del margen de error especificado, en ausencia de cualquier otra información sobre la verdadera proporción."
      ]
    },
    {
      "cell_type": "markdown",
      "metadata": {
        "id": "50d1d633"
      },
      "source": [
        "* * *\n",
        "\n",
        "## Ejercicio 15: Tamaño de Muestra para Estimar una Proporción Poblacional (Mejoría con Tratamiento)\n",
        "\n",
        "Aplicaremos nuevamente la fórmula para el tamaño de muestra para estimar una proporción poblacional:\n",
        "\n",
        "$$ n = \\frac{Z_{\\alpha/2}^2 \\cdot p \\cdot (1-p)}{E^2} $$\n",
        "\n",
        "Donde:\n",
        "- $n$ es el tamaño de muestra requerido.\n",
        "- $Z_{\\alpha/2}$ es el valor crítico de la distribución Z para el nivel de confianza deseado.\n",
        "- $p$ es una estimación de la proporción poblacional (si está disponible).\n",
        "- $E$ es el margen de error deseado.\n",
        "\n",
        "### Escenario 1: Con prueba preliminar (estimación de $p$ disponible)\n",
        "\n",
        "**Problema:** Un hospital planea un estudio para estimar la proporción de pacientes que mejoran con un tratamiento. En una prueba preliminar, el 69 % mostró mejoría. Determine el tamaño de muestra necesario para un margen de error del 4 % y confianza del 95 %.\n",
        "\n",
        "**Datos:**\n",
        "- Estimación de $p$ (a partir de la prueba preliminar) = 0.69\n",
        "- Margen de error ($E$) = 0.04\n",
        "- Nivel de confianza = 95 % ($\\alpha = 0.05$)"
      ]
    },
    {
      "cell_type": "code",
      "metadata": {
        "id": "a8b7ccce"
      },
      "source": [
        "import numpy as np\n",
        "from scipy.stats import norm\n",
        "import math\n",
        "\n",
        "# Datos para el Ejercicio 15 - Escenario 1\n",
        "p_estimado_ej15 = 0.69  # Proporción estimada de la prueba preliminar\n",
        "margen_error_ej15 = 0.04\n",
        "nivel_confianza_ej15 = 0.95\n",
        "alpha_ej15 = 1 - nivel_confianza_ej15\n",
        "\n",
        "# Valor crítico Z para un nivel de confianza del 95%\n",
        "z_critico_ej15 = norm.ppf(1 - alpha_ej15 / 2)\n",
        "\n",
        "# Calcular el tamaño de muestra\n",
        "n_ej15_escenario1 = (z_critico_ej15**2 * p_estimado_ej15 * (1 - p_estimado_ej15)) / (margen_error_ej15**2)\n",
        "\n",
        "# Redondear hacia arriba para asegurar el margen de error deseado\n",
        "tamano_muestra_ej15_escenario1 = math.ceil(n_ej15_escenario1)\n",
        "\n",
        "print(f\"Estimación de p: {p_estimado_ej15}\")\n",
        "print(f\"Margen de error (E): {margen_error_ej15}\")\n",
        "print(f\"Nivel de confianza: {nivel_confianza_ej15}\")\n",
        "print(f\"Valor crítico Z: {z_critico_ej15:.4f}\")\n",
        "print(f\"Tamaño de muestra calculado (sin redondear): {n_ej15_escenario1:.4f}\")\n",
        "print(f\"Tamaño de muestra necesario (redondeado hacia arriba): {tamano_muestra_ej15_escenario1}\")"
      ],
      "execution_count": null,
      "outputs": []
    },
    {
      "cell_type": "markdown",
      "metadata": {
        "id": "2798ed4d"
      },
      "source": [
        "**Conclusión Breve (Escenario 1):** Para estimar la proporción de pacientes que mejoran con el tratamiento con un margen de error del 4% y un 95% de confianza, utilizando la estimación previa del 69%, se necesitan aproximadamente ${tamano_muestra_ej15_escenario1}$ pacientes en la muestra.\n",
        "\n",
        "### Escenario 2: Si se desea ser conservador (usar $p=0.5$)\n",
        "\n",
        "**Problema:** Si se desea ser conservador (usar $p=0.5$), ¿cuál sería el tamaño de muestra necesario para un margen de error del 4 % y confianza del 95 %?\n",
        "\n",
        "**Datos:**\n",
        "- Usar $p = 0.5$ para ser conservador.\n",
        "- Margen de error ($E$) = 0.04\n",
        "- Nivel de confianza = 95 % ($\\alpha = 0.05$)"
      ]
    },
    {
      "cell_type": "code",
      "metadata": {
        "id": "9e0b3ca6"
      },
      "source": [
        "import numpy as np\n",
        "from scipy.stats import norm\n",
        "import math\n",
        "\n",
        "# Datos para el Ejercicio 15 - Escenario 2 (Conservador con p=0.5)\n",
        "p_conservador_ej15 = 0.5  # Valor conservador\n",
        "margen_error_ej15 = 0.04\n",
        "nivel_confianza_ej15 = 0.95\n",
        "alpha_ej15 = 1 - nivel_confianza_ej15\n",
        "\n",
        "# Valor crítico Z para un nivel de confianza del 95% (es el mismo que en el Escenario 1)\n",
        "z_critico_ej15 = norm.ppf(1 - alpha_ej15 / 2)\n",
        "\n",
        "# Calcular el tamaño de muestra\n",
        "n_ej15_escenario2 = (z_critico_ej15**2 * p_conservador_ej15 * (1 - p_conservador_ej15)) / (margen_error_ej15**2)\n",
        "\n",
        "# Redondear hacia arriba\n",
        "tamano_muestra_ej15_escenario2 = math.ceil(n_ej15_escenario2)\n",
        "\n",
        "print(f\"Valor conservador de p: {p_conservador_ej15}\")\n",
        "print(f\"Margen de error (E): {margen_error_ej15}\")\n",
        "print(f\"Nivel de confianza: {nivel_confianza_ej15}\")\n",
        "print(f\"Valor crítico Z: {z_critico_ej15:.4f}\")\n",
        "print(f\"Tamaño de muestra calculado (sin redondear): {n_ej15_escenario2:.4f}\")\n",
        "print(f\"Tamaño de muestra necesario (redondeado hacia arriba): {tamano_muestra_ej15_escenario2}\")"
      ],
      "execution_count": null,
      "outputs": []
    },
    {
      "cell_type": "markdown",
      "metadata": {
        "id": "76591f0b"
      },
      "source": [
        "**Conclusión Breve (Escenario 2):** Si se desea ser conservador y no utilizar la estimación previa, para lograr un margen de error del 4% con un 95% de confianza, se necesitaría una muestra más grande de aproximadamente ${tamano_muestra_ej15_escenario2}$ pacientes. Esto confirma que usar $p=0.5$ resulta en un tamaño de muestra mayor, siendo una opción segura cuando no se tiene una estimación confiable de la proporción poblacional."
      ]
    },
    {
      "cell_type": "markdown",
      "metadata": {
        "id": "ca821e92"
      },
      "source": [
        "* * *\n",
        "\n",
        "## Ejercicio 16: Tamaño de Muestra para Estimar una Media Poblacional (Tiempo de Espera en Urgencias)\n",
        "\n",
        "Para determinar el tamaño de muestra necesario al estimar una media poblacional ($\\mu$) cuando se conoce la desviación estándar poblacional ($\\sigma$), utilizamos la siguiente fórmula:\n",
        "\n",
        "$$ n = \\frac{Z_{\\alpha/2}^2 \\cdot \\sigma^2}{E^2} $$\n",
        "\n",
        "Donde:\n",
        "- $n$ es el tamaño de muestra requerido.\n",
        "- $Z_{\\alpha/2}$ es el valor crítico de la distribución Z para el nivel de confianza deseado.\n",
        "- $\\sigma$ es la desviación estándar poblacional.\n",
        "- $E$ es el margen de error deseado.\n",
        "\n",
        "**Problema:** Un hospital quiere estimar el tiempo promedio (en minutos) que los pacientes esperan en urgencias. Por estudios previos, se sabe que la desviación estándar poblacional es $\\sigma = 8$ minutos. Calcule el tamaño de muestra necesario para estimar la media poblacional con un margen de error de 2 minutos y un nivel de confianza del 95 %.\n",
        "\n",
        "**Datos:**\n",
        "- Desviación estándar poblacional ($\\sigma$) = 8 minutos\n",
        "- Margen de error ($E$) = 2 minutos\n",
        "- Nivel de confianza = 95 % ($\\alpha = 0.05$)"
      ]
    },
    {
      "cell_type": "code",
      "metadata": {
        "id": "87c6e30e"
      },
      "source": [
        "import numpy as np\n",
        "from scipy.stats import norm\n",
        "import math\n",
        "\n",
        "# Datos para el Ejercicio 16\n",
        "desviacion_estandar_poblacional_ej16 = 8  # minutos\n",
        "margen_error_ej16 = 2  # minutos\n",
        "nivel_confianza_ej16 = 0.95\n",
        "alpha_ej16 = 1 - nivel_confianza_ej16\n",
        "\n",
        "# Valor crítico Z para un nivel de confianza del 95%\n",
        "z_critico_ej16 = norm.ppf(1 - alpha_ej16 / 2)\n",
        "\n",
        "# Calcular el tamaño de muestra\n",
        "n_ej16 = (z_critico_ej16**2 * desviacion_estandar_poblacional_ej16**2) / (margen_error_ej16**2)\n",
        "\n",
        "# Redondear hacia arriba para asegurar el margen de error deseado\n",
        "tamano_muestra_ej16 = math.ceil(n_ej16)\n",
        "\n",
        "print(f\"Desviación estándar poblacional (σ): {desviacion_estandar_poblacional_ej16}\")\n",
        "print(f\"Margen de error (E): {margen_error_ej16}\")\n",
        "print(f\"Nivel de confianza: {nivel_confianza_ej16}\")\n",
        "print(f\"Valor crítico Z: {z_critico_ej16:.4f}\")\n",
        "print(f\"Tamaño de muestra calculado (sin redondear): {n_ej16:.4f}\")\n",
        "print(f\"Tamaño de muestra necesario (redondeado hacia arriba): {tamano_muestra_ej16}\")"
      ],
      "execution_count": null,
      "outputs": []
    },
    {
      "cell_type": "markdown",
      "metadata": {
        "id": "f6e30b6b"
      },
      "source": [
        "**Conclusión Breve (Ejercicio 16):** Para estimar el tiempo promedio de espera en urgencias con un margen de error de 2 minutos y un 95% de confianza, sabiendo que la desviación estándar poblacional es de 8 minutos, se necesitan aproximadamente ${tamano_muestra_ej16}$ pacientes en la muestra."
      ]
    },
    {
      "cell_type": "markdown",
      "metadata": {
        "id": "f7a4ba6c"
      },
      "source": [
        "* * *\n",
        "\n",
        "## Ejercicio 17: Tamaño de Muestra para Estimar una Media Poblacional (Consumo Eléctrico)\n",
        "\n",
        "Aplicamos nuevamente la fórmula para el tamaño de muestra necesario al estimar una media poblacional ($\\mu$) cuando se conoce la desviación estándar poblacional ($\\sigma$):\n",
        "\n",
        "$$ n = \\frac{Z_{\\alpha/2}^2 \\cdot \\sigma^2}{E^2} $$\n",
        "\n",
        "Donde:\n",
        "- $n$ es el tamaño de muestra requerido.\n",
        "- $Z_{\\alpha/2}$ es el valor crítico de la distribución Z para el nivel de confianza deseado.\n",
        "- $\\sigma$ es la desviación estándar poblacional.\n",
        "- $E$ es el margen de error deseado.\n",
        "\n",
        "**Problema:** Una compañía eléctrica analiza el consumo mensual promedio (en kWh) de sus clientes residenciales. La desviación estándar histórica es $\\sigma = 50$ kWh. Determine el tamaño de muestra requerido para un margen de error de 10 kWh y un nivel de confianza del 90 %.\n",
        "\n",
        "**Datos:**\n",
        "- Desviación estándar poblacional ($\\sigma$) = 50 kWh\n",
        "- Margen de error ($E$) = 10 kWh\n",
        "- Nivel de confianza = 90 % ($\\alpha = 0.10$)"
      ]
    },
    {
      "cell_type": "code",
      "metadata": {
        "id": "e785eefa"
      },
      "source": [
        "import numpy as np\n",
        "from scipy.stats import norm\n",
        "import math\n",
        "\n",
        "# Datos para el Ejercicio 17\n",
        "desviacion_estandar_poblacional_ej17 = 50  # kWh\n",
        "margen_error_ej17 = 10  # kWh\n",
        "nivel_confianza_ej17 = 0.90\n",
        "alpha_ej17 = 1 - nivel_confianza_ej17\n",
        "\n",
        "# Valor crítico Z para un nivel de confianza del 90%\n",
        "z_critico_ej17 = norm.ppf(1 - alpha_ej17 / 2)\n",
        "\n",
        "# Calcular el tamaño de muestra\n",
        "n_ej17 = (z_critico_ej17**2 * desviacion_estandar_poblacional_ej17**2) / (margen_error_ej17**2)\n",
        "\n",
        "# Redondear hacia arriba para asegurar el margen de error deseado\n",
        "tamano_muestra_ej17 = math.ceil(n_ej17)\n",
        "\n",
        "print(f\"Desviación estándar poblacional (σ): {desviacion_estandar_poblacional_ej17}\")\n",
        "print(f\"Margen de error (E): {margen_error_ej17}\")\n",
        "print(f\"Nivel de confianza: {nivel_confianza_ej17}\")\n",
        "print(f\"Valor crítico Z: {z_critico_ej17:.4f}\")\n",
        "print(f\"Tamaño de muestra calculado (sin redondear): {n_ej17:.4f}\")\n",
        "print(f\"Tamaño de muestra necesario (redondeado hacia arriba): {tamano_muestra_ej17}\")"
      ],
      "execution_count": null,
      "outputs": []
    },
    {
      "cell_type": "markdown",
      "metadata": {
        "id": "431a0d9a"
      },
      "source": [
        "**Conclusión Breve (Ejercicio 17):** Para estimar el consumo mensual promedio de los clientes residenciales con un margen de error de 10 kWh y un 90% de confianza, sabiendo que la desviación estándar poblacional es de 50 kWh, se necesitan aproximadamente ${tamano_muestra_ej17}$ clientes en la muestra."
      ]
    },
    {
      "cell_type": "markdown",
      "metadata": {
        "id": "6d2b2aa8"
      },
      "source": [
        "* * *\n",
        "\n",
        "## Ejercicio 18: Tamaño de Muestra para Estimar una Media Poblacional (Peso Promedio de Paquetes)\n",
        "\n",
        "Continuamos con el cálculo del tamaño de muestra necesario para estimar una media poblacional ($\\mu$) cuando se conoce la desviación estándar poblacional ($\\sigma$). La fórmula es la misma:\n",
        "\n",
        "$$ n = \\frac{Z_{\\alpha/2}^2 \\cdot \\sigma^2}{E^2} $$\n",
        "\n",
        "Donde:\n",
        "- $n$ es el tamaño de muestra requerido.\n",
        "- $Z_{\\alpha/2}$ es el valor crítico de la distribución Z para el nivel de confianza deseado.\n",
        "- $\\sigma$ es la desviación estándar poblacional.\n",
        "- $E$ es el margen de error deseado.\n",
        "\n",
        "**Problema:** Una empresa de logística necesita estimar el peso promedio (en kg) de los paquetes que transporta. Según datos anteriores, $\\sigma = 1,2$ kg. ¿Qué tamaño de muestra se necesita para un margen de error de 0.5 kg y un nivel de confianza del 99 %?\n",
        "\n",
        "**Datos:**\n",
        "- Desviación estándar poblacional ($\\sigma$) = 1.2 kg\n",
        "- Margen de error ($E$) = 0.5 kg\n",
        "- Nivel de confianza = 99 % ($\\alpha = 0.01$)"
      ]
    },
    {
      "cell_type": "code",
      "metadata": {
        "id": "bfbb9157"
      },
      "source": [
        "import numpy as np\n",
        "from scipy.stats import norm\n",
        "import math\n",
        "\n",
        "# Datos para el Ejercicio 18\n",
        "desviacion_estandar_poblacional_ej18 = 1.2  # kg\n",
        "margen_error_ej18 = 0.5  # kg\n",
        "nivel_confianza_ej18 = 0.99\n",
        "alpha_ej18 = 1 - nivel_confianza_ej18\n",
        "\n",
        "# Valor crítico Z para un nivel de confianza del 99%\n",
        "z_critico_ej18 = norm.ppf(1 - alpha_ej18 / 2)\n",
        "\n",
        "# Calcular el tamaño de muestra\n",
        "n_ej18 = (z_critico_ej18**2 * desviacion_estandar_poblacional_ej18**2) / (margen_error_ej18**2)\n",
        "\n",
        "# Redondear hacia arriba para asegurar el margen de error deseado\n",
        "tamano_muestra_ej18 = math.ceil(n_ej18)\n",
        "\n",
        "print(f\"Desviación estándar poblacional (σ): {desviacion_estandar_poblacional_ej18}\")\n",
        "print(f\"Margen de error (E): {margen_error_ej18}\")\n",
        "print(f\"Nivel de confianza: {nivel_confianza_ej18}\")\n",
        "print(f\"Valor crítico Z: {z_critico_ej18:.4f}\")\n",
        "print(f\"Tamaño de muestra calculado (sin redondear): {n_ej18:.4f}\")\n",
        "print(f\"Tamaño de muestra necesario (redondeado hacia arriba): {tamano_muestra_ej18}\")"
      ],
      "execution_count": null,
      "outputs": []
    },
    {
      "cell_type": "markdown",
      "metadata": {
        "id": "07740ee3"
      },
      "source": [
        "**Conclusión Breve (Ejercicio 18):** Para estimar el peso promedio de los paquetes transportados con un margen de error de 0.5 kg y un 99% de confianza, sabiendo que la desviación estándar poblacional es de 1.2 kg, se necesitan aproximadamente ${tamano_muestra_ej18}$ paquetes en la muestra."
      ]
    },
    {
      "cell_type": "markdown",
      "metadata": {
        "id": "c42ff447"
      },
      "source": [
        "* * *\n",
        "\n",
        "## Ejercicio 19: Tamaño de Muestra para Estimar una Media Poblacional (Duración de Reuniones)\n",
        "\n",
        "Continuamos con el cálculo del tamaño de muestra necesario para estimar una media poblacional ($\\mu$) cuando se conoce la desviación estándar poblacional ($\\sigma$). La fórmula sigue siendo la misma:\n",
        "\n",
        "$$ n = \\frac{Z_{\\alpha/2}^2 \\cdot \\sigma^2}{E^2} $$\n",
        "\n",
        "Donde:\n",
        "- $n$ es el tamaño de muestra requerido.\n",
        "- $Z_{\\alpha/2}$ es el valor crítico de la distribución Z para el nivel de confianza deseado.\n",
        "- $\\sigma$ es la desviación estándar poblacional.\n",
        "- $E$ es el margen de error deseado.\n",
        "\n",
        "**Problema:** Un consultor quiere estimar la duración promedio (en minutos) de las reuniones en una empresa. La desviación estándar registrada es $\\sigma = 5$ minutos. Calcule el tamaño de muestra para un margen de error de 1.5 minutos y un nivel de confianza del 95 %.\n",
        "\n",
        "**Datos:**\n",
        "- Desviación estándar poblacional ($\\sigma$) = 5 minutos\n",
        "- Margen de error ($E$) = 1.5 minutos\n",
        "- Nivel de confianza = 95 % ($\\alpha = 0.05$)"
      ]
    },
    {
      "cell_type": "code",
      "metadata": {
        "id": "a308a4d7"
      },
      "source": [
        "import numpy as np\n",
        "from scipy.stats import norm\n",
        "import math\n",
        "\n",
        "# Datos para el Ejercicio 19\n",
        "desviacion_estandar_poblacional_ej19 = 5  # minutos\n",
        "margen_error_ej19 = 1.5  # minutos\n",
        "nivel_confianza_ej19 = 0.95\n",
        "alpha_ej19 = 1 - nivel_confianza_ej19\n",
        "\n",
        "# Valor crítico Z para un nivel de confianza del 95%\n",
        "z_critico_ej19 = norm.ppf(1 - alpha_ej19 / 2)\n",
        "\n",
        "# Calcular el tamaño de muestra\n",
        "n_ej19 = (z_critico_ej19**2 * desviacion_estandar_poblacional_ej19**2) / (margen_error_ej19**2)\n",
        "\n",
        "# Redondear hacia arriba para asegurar el margen de error deseado\n",
        "tamano_muestra_ej19 = math.ceil(n_ej19)\n",
        "\n",
        "print(f\"Desviación estándar poblacional (σ): {desviacion_estandar_poblacional_ej19}\")\n",
        "print(f\"Margen de error (E): {margen_error_ej19}\")\n",
        "print(f\"Nivel de confianza: {nivel_confianza_ej19}\")\n",
        "print(f\"Valor crítico Z: {z_critico_ej19:.4f}\")\n",
        "print(f\"Tamaño de muestra calculado (sin redondear): {n_ej19:.4f}\")\n",
        "print(f\"Tamaño de muestra necesario (redondeado hacia arriba): {tamano_muestra_ej19}\")"
      ],
      "execution_count": null,
      "outputs": []
    },
    {
      "cell_type": "markdown",
      "metadata": {
        "id": "4efd33ea"
      },
      "source": [
        "**Conclusión Breve (Ejercicio 19):** Para estimar la duración promedio de las reuniones con un margen de error de 1.5 minutos y un 95% de confianza, sabiendo que la desviación estándar poblacional es de 5 minutos, se necesitan aproximadamente ${tamano_muestra_ej19}$ reuniones en la muestra."
      ]
    },
    {
      "cell_type": "markdown",
      "metadata": {
        "id": "7e8de74d"
      },
      "source": [
        "* * *\n",
        "\n",
        "## Ejercicio 20: Tamaño de Muestra para Estimar una Media Poblacional (Puntaje de Examen Estandarizado)\n",
        "\n",
        "Continuamos con el cálculo del tamaño de muestra necesario para estimar una media poblacional ($\\mu$) cuando se conoce la desviación estándar poblacional ($\\sigma$). La fórmula es:\n",
        "\n",
        "$$ n = \\frac{Z_{\\alpha/2}^2 \\cdot \\sigma^2}{E^2} $$\n",
        "\n",
        "Donde:\n",
        "- $n$ es el tamaño de muestra requerido.\n",
        "- $Z_{\\alpha/2}$ es el valor crítico de la distribución Z para el nivel de confianza deseado.\n",
        "- $\\sigma$ es la desviación estándar poblacional.\n",
        "- $E$ es el margen de error deseado.\n",
        "\n",
        "**Problema:** El ministerio de educación estudia el puntaje promedio (escala de 0 a 100) de un examen estandarizado. La desviación estándar histórica es $\\sigma = 12$. Determine el tamaño de muestra necesario para un margen de error de 3 puntos y un nivel de confianza del 90 %.\n",
        "\n",
        "**Datos:**\n",
        "- Desviación estándar poblacional ($\\sigma$) = 12 puntos\n",
        "- Margen de error ($E$) = 3 puntos\n",
        "- Nivel de confianza = 90 % ($\\alpha = 0.10$)"
      ]
    },
    {
      "cell_type": "code",
      "metadata": {
        "id": "fe150c97"
      },
      "source": [
        "import numpy as np\n",
        "from scipy.stats import norm\n",
        "import math\n",
        "\n",
        "# Datos para el Ejercicio 20\n",
        "desviacion_estandar_poblacional_ej20 = 12  # puntos\n",
        "margen_error_ej20 = 3  # puntos\n",
        "nivel_confianza_ej20 = 0.90\n",
        "alpha_ej20 = 1 - nivel_confianza_ej20\n",
        "\n",
        "# Valor crítico Z para un nivel de confianza del 90%\n",
        "z_critico_ej20 = norm.ppf(1 - alpha_ej20 / 2)\n",
        "\n",
        "# Calcular el tamaño de muestra\n",
        "n_ej20 = (z_critico_ej20**2 * desviacion_estandar_poblacional_ej20**2) / (margen_error_ej20**2)\n",
        "\n",
        "# Redondear hacia arriba para asegurar el margen de error deseado\n",
        "tamano_muestra_ej20 = math.ceil(n_ej20)\n",
        "\n",
        "print(f\"Desviación estándar poblacional (σ): {desviacion_estandar_poblacional_ej20}\")\n",
        "print(f\"Margen de error (E): {margen_error_ej20}\")\n",
        "print(f\"Nivel de confianza: {nivel_confianza_ej20}\")\n",
        "print(f\"Valor crítico Z: {z_critico_ej20:.4f}\")\n",
        "print(f\"Tamaño de muestra calculado (sin redondear): {n_ej20:.4f}\")\n",
        "print(f\"Tamaño de muestra necesario (redondeado hacia arriba): {tamano_muestra_ej20}\")"
      ],
      "execution_count": null,
      "outputs": []
    },
    {
      "cell_type": "markdown",
      "metadata": {
        "id": "791b81c4"
      },
      "source": [
        "**Conclusión Breve (Ejercicio 20):** Para estimar el puntaje promedio del examen estandarizado con un margen de error de 3 puntos y un 90% de confianza, sabiendo que la desviación estándar poblacional es de 12 puntos, se necesitan aproximadamente ${tamano_muestra_ej20}$ exámenes en la muestra."
      ]
    },
    {
      "cell_type": "markdown",
      "metadata": {
        "id": "09418787"
      },
      "source": [
        "**2. Identificación del Estadístico de Prueba y su Distribución:**\n",
        "\n",
        "Dado que conocemos la desviación estándar poblacional ($\\sigma$) y el tamaño de la muestra es mayor que 30 ($n=40$), utilizamos el estadístico de prueba Z. Bajo la hipótesis nula, este estadístico sigue una distribución normal estándar.\n",
        "\n",
        "Fórmula del estadístico Z:\n",
        "$$ Z = \\frac{\\bar{x} - \\mu_0}{\\sigma / \\sqrt{n}} $$\n",
        "\n",
        "Donde:\n",
        "- $\\bar{x}$ es la media muestral.\n",
        "- $\\mu_0$ es la media poblacional bajo la hipótesis nula ($H_0$).\n",
        "- $\\sigma$ es la desviación estándar poblacional.\n",
        "- $n$ es el tamaño de la muestra."
      ]
    },
    {
      "cell_type": "code",
      "metadata": {
        "id": "9b5aa57e"
      },
      "source": [
        "import numpy as np\n",
        "from scipy.stats import norm\n",
        "import matplotlib.pyplot as plt\n",
        "\n",
        "# Datos del problema\n",
        "media_muestral_ej21 = 495  # g\n",
        "media_poblacional_h0_ej21 = 500  # g (valor bajo H0)\n",
        "desviacion_estandar_poblacional_ej21 = 15  # g\n",
        "tamano_muestra_ej21 = 40\n",
        "nivel_significancia_ej21 = 0.05\n",
        "\n",
        "# 3. Cálculo del Estadístico de Prueba Z\n",
        "error_estandar_ej21 =  desviacion_estandar_poblacional_ej21 / np.sqrt(tamano_muestra_ej21)\n",
        "estadistico_z_ej21 = (media_muestral_ej21 - media_poblacional_h0_ej21) / error_estandar_ej21\n",
        "\n",
        "print(f\"Estadístico de Prueba Z: {estadistico_z_ej21:.4f}\")\n",
        "\n",
        "# 4. Determinación del Valor Crítico y la Región de Rechazo\n",
        "# Para una prueba unilateral izquierda, el valor crítico Z es el valor tal que el área a su izquierda es alpha.\n",
        "valor_critico_z_ej21 = norm.ppf(nivel_significancia_ej21)\n",
        "\n",
        "print(f\"Valor Crítico Z (para α={nivel_significancia_ej21}): {valor_critico_z_ej21:.4f}\")\n",
        "print(\"Región de Rechazo: Rechazar H0 si Z_calculado <= Z_critico\")\n",
        "\n",
        "# 5. Cálculo del Valor p\n",
        "# Para una prueba unilateral izquierda, el valor p es el área a la izquierda del estadístico Z calculado.\n",
        "valor_p_ej21 = norm.cdf(estadistico_z_ej21)\n",
        "\n",
        "print(f\"Valor p: {valor_p_ej21:.4f}\")"
      ],
      "execution_count": null,
      "outputs": []
    },
    {
      "cell_type": "markdown",
      "metadata": {
        "id": "eca7c57c"
      },
      "source": [
        "**4. Determinación del Valor Crítico y la Región de Rechazo (reiteración para claridad):**\n",
        "\n",
        "*   **Valor Crítico Z:** ${valor_critico_z_ej21:.4f}$\n",
        "*   **Región de Rechazo:** Rechazamos la hipótesis nula ($H_0$) si el estadístico de prueba Z calculado es menor o igual al valor crítico Z. En este caso, si $Z_{calculado} \\le {valor_critico_z_ej21:.4f}$.\n",
        "\n",
        "**5. Cálculo del Estadístico de Prueba y el Valor p (reiteración para claridad):**\n",
        "\n",
        "*   **Estadístico de Prueba Z calculado:** ${estadistico_z_ej21:.4f}$\n",
        "*   **Valor p:** ${valor_p_ej21:.4f}$"
      ]
    },
    {
      "cell_type": "markdown",
      "metadata": {
        "id": "8a43c0b8"
      },
      "source": [
        "**6. Gráfico de la Distribución:**\n",
        "\n",
        "Visualicemos la distribución normal estándar, el valor crítico, la región de rechazo y el estadístico de prueba calculado."
      ]
    },
    {
      "cell_type": "code",
      "metadata": {
        "id": "7de38877"
      },
      "source": [
        "# Generar valores para el eje x de la distribución normal estándar\n",
        "x = np.linspace(-4, 4, 1000)\n",
        "y = norm.pdf(x, 0, 1) # PDF de la distribución normal estándar\n",
        "\n",
        "plt.figure(figsize=(10, 6))\n",
        "plt.plot(x, y, label='Distribución Normal Estándar')\n",
        "\n",
        "# Rellenar la región de rechazo (área a la izquierda del valor crítico)\n",
        "x_rechazo = np.linspace(-4, valor_critico_z_ej21, 100)\n",
        "y_rechazo = norm.pdf(x_rechazo, 0, 1)\n",
        "plt.fill_between(x_rechazo, y_rechazo, color='red', alpha=0.5, label='Región de Rechazo (α=0.05)')\n",
        "\n",
        "# Marcar el valor crítico\n",
        "plt.axvline(valor_critico_z_ej21, color='red', linestyle='--', label=f'Valor Crítico Z = {valor_critico_z_ej21:.4f}')\n",
        "\n",
        "# Marcar el estadístico de prueba calculado\n",
        "plt.axvline(estadistico_z_ej21, color='blue', linestyle='-', label=f'Estadístico Z Calculado = {estadistico_z_ej21:.4f}')\n",
        "\n",
        "# Añadir etiquetas y título\n",
        "plt.title('Distribución Normal Estándar con Región de Rechazo')\n",
        "plt.xlabel('Valor de Z')\n",
        "plt.ylabel('Densidad de Probabilidad')\n",
        "plt.legend()\n",
        "plt.grid(True)\n",
        "plt.show()"
      ],
      "execution_count": null,
      "outputs": []
    },
    {
      "cell_type": "markdown",
      "metadata": {
        "id": "53b71f25"
      },
      "source": [
        "**7. Decisión Estadística y Conclusión Práctica:**\n",
        "\n",
        "*   **Decisión Estadística (usando el valor crítico):**\n",
        "    Comparamos el estadístico de prueba calculado (${estadistico_z_ej21:.4f}$) con el valor crítico (${valor_critico_z_ej21:.4f}$).\n",
        "    Dado que ${estadistico_z_ej21:.4f} \\le {valor_critico_z_ej21:.4f}$, el estadístico de prueba cae en la región de rechazo. Por lo tanto, **rechazamos la hipótesis nula ($H_0$)**.\n",
        "\n",
        "*   **Decisión Estadística (usando el valor p):**\n",
        "    Comparamos el valor p (${valor_p_ej21:.4f}$) con el nivel de significancia ($\\alpha = 0.05$).\n",
        "    Dado que el valor p (${valor_p_ej21:.4f}$) es menor que $\\alpha$ (0.05), **rechazamos la hipótesis nula ($H_0$)**.\n",
        "\n",
        "*   **Conclusión Práctica:**\n",
        "    Con un nivel de significancia del 0.05, hay suficiente evidencia estadística para rechazar la afirmación de la empresa de que el peso promedio de sus paquetes de cereal es de 500 g. La evidencia sugiere que el peso promedio es significativamente menor a 500 g, apoyando la sospecha de subllenado.\n",
        "\n",
        "*   **Significado del Valor p:**\n",
        "    El valor p (${valor_p_ej21:.4f}$) representa la probabilidad de obtener una media muestral de 495 g (o una más extrema) si la hipótesis nula fuera cierta (es decir, si el verdadero peso promedio fuera 500 g). Un valor p tan pequeño indica que es muy improbable observar una media muestral de 495 g por pura casualidad si la máquina estuviera correctamente calibrada.\n",
        "\n",
        "* * *"
      ]
    },
    {
      "cell_type": "markdown",
      "metadata": {
        "id": "22fa6b03"
      },
      "source": [
        "* * *\n",
        "\n",
        "## Ejercicio 21: Peso promedio de paquetes de cereal\n",
        "\n",
        "Siguiendo el procedimiento para pruebas de hipótesis:\n",
        "\n",
        "**1. Definición de Hipótesis y Nivel de Significancia:**\n",
        "\n",
        "*   **Hipótesis Nula ($H_0$):** El peso promedio de los paquetes de cereal es igual a 500 g.\n",
        "    $$ H_0: \\mu = 500 $$\n",
        "*   **Hipótesis Alternativa ($H_a$):** El peso promedio de los paquetes de cereal es menor que 500 g (prueba unilateral izquierda, ya que se sospecha subllenado).\n",
        "    $$ H_a: \\mu < 500 $$\n",
        "\n",
        "*   **Nivel de Significancia ($\\alpha$):** 0.05"
      ]
    },
    {
      "cell_type": "markdown",
      "metadata": {
        "id": "WsfE1_ax8jgZ"
      },
      "source": [
        "**2. Identificación del Estadístico de Prueba y su Distribución:**\n",
        "\n",
        "Dado que conocemos la desviación estándar poblacional ($\\sigma$) y el tamaño de la muestra es mayor que 30 ($n=40$), utilizamos el estadístico de prueba Z. Bajo la hipótesis nula, este estadístico sigue una distribución normal estándar.\n",
        "\n",
        "Fórmula del estadístico Z:\n",
        "$$ Z = \\frac{\\bar{x} - \\mu_0}{\\sigma / \\sqrt{n}} $$\n",
        "\n",
        "Donde:\n",
        "- $\\bar{x}$ es la media muestral.\n",
        "- $\\mu_0$ es la media poblacional bajo la hipótesis nula ($H_0$).\n",
        "- $\\sigma$ es la desviación estándar poblacional.\n",
        "- $n$ es el tamaño de la muestra."
      ]
    },
    {
      "cell_type": "code",
      "metadata": {
        "id": "PeSwaEuq8jga"
      },
      "source": [
        "import numpy as np\n",
        "from scipy.stats import norm\n",
        "import matplotlib.pyplot as plt\n",
        "\n",
        "# Datos del problema\n",
        "media_muestral_ej21 = 495  # g\n",
        "media_poblacional_h0_ej21 = 500  # g (valor bajo H0)\n",
        "desviacion_estandar_poblacional_ej21 = 15  # g\n",
        "tamano_muestra_ej21 = 40\n",
        "nivel_significancia_ej21 = 0.05\n",
        "\n",
        "# 3. Cálculo del Estadístico de Prueba Z\n",
        "error_estandar_ej21 =  desviacion_estandar_poblacional_ej21 / np.sqrt(tamano_muestra_ej21)\n",
        "estadistico_z_ej21 = (media_muestral_ej21 - media_poblacional_h0_ej21) / error_estandar_ej21\n",
        "\n",
        "print(f\"Estadístico de Prueba Z: {estadistico_z_ej21:.4f}\")\n",
        "\n",
        "# 4. Determinación del Valor Crítico y la Región de Rechazo\n",
        "# Para una prueba unilateral izquierda, el valor crítico Z es el valor tal que el área a su izquierda es alpha.\n",
        "valor_critico_z_ej21 = norm.ppf(nivel_significancia_ej21)\n",
        "\n",
        "print(f\"Valor Crítico Z (para α={nivel_significancia_ej21}): {valor_critico_z_ej21:.4f}\")\n",
        "print(\"Región de Rechazo: Rechazar H0 si Z_calculado <= Z_critico\")\n",
        "\n",
        "# 5. Cálculo del Valor p\n",
        "# Para una prueba unilateral izquierda, el valor p es el área a la izquierda del estadístico Z calculado.\n",
        "valor_p_ej21 = norm.cdf(estadistico_z_ej21)\n",
        "\n",
        "print(f\"Valor p: {valor_p_ej21:.4f}\")"
      ],
      "execution_count": null,
      "outputs": []
    },
    {
      "cell_type": "markdown",
      "metadata": {
        "id": "NGQ-wqBK8jga"
      },
      "source": [
        "**4. Determinación del Valor Crítico y la Región de Rechazo (reiteración para claridad):**\n",
        "\n",
        "*   **Valor Crítico Z:** ${valor_critico_z_ej21:.4f}$\n",
        "*   **Región de Rechazo:** Rechazamos la hipótesis nula ($H_0$) si el estadístico de prueba Z calculado es menor o igual al valor crítico Z. En este caso, si $Z_{calculado} \\le {valor_critico_z_ej21:.4f}$.\n",
        "\n",
        "**5. Cálculo del Estadístico de Prueba y el Valor p (reiteración para claridad):**\n",
        "\n",
        "*   **Estadístico de Prueba Z calculado:** ${estadistico_z_ej21:.4f}$\n",
        "*   **Valor p:** ${valor_p_ej21:.4f}$"
      ]
    },
    {
      "cell_type": "markdown",
      "metadata": {
        "id": "MGabLoxi8jgb"
      },
      "source": [
        "**6. Gráfico de la Distribución:**\n",
        "\n",
        "Visualicemos la distribución normal estándar, el valor crítico, la región de rechazo y el estadístico de prueba calculado."
      ]
    },
    {
      "cell_type": "code",
      "metadata": {
        "id": "WHN4c0r78jgb"
      },
      "source": [
        "# Generar valores para el eje x de la distribución normal estándar\n",
        "x = np.linspace(-4, 4, 1000)\n",
        "y = norm.pdf(x, 0, 1) # PDF de la distribución normal estándar\n",
        "\n",
        "plt.figure(figsize=(10, 6))\n",
        "plt.plot(x, y, label='Distribución Normal Estándar')\n",
        "\n",
        "# Rellenar la región de rechazo (área a la izquierda del valor crítico)\n",
        "x_rechazo = np.linspace(-4, valor_critico_z_ej21, 100)\n",
        "y_rechazo = norm.pdf(x_rechazo, 0, 1)\n",
        "plt.fill_between(x_rechazo, y_rechazo, color='red', alpha=0.5, label='Región de Rechazo (α=0.05)')\n",
        "\n",
        "# Marcar el valor crítico\n",
        "plt.axvline(valor_critico_z_ej21, color='red', linestyle='--', label=f'Valor Crítico Z = {valor_critico_z_ej21:.4f}')\n",
        "\n",
        "# Marcar el estadístico de prueba calculado\n",
        "plt.axvline(estadistico_z_ej21, color='blue', linestyle='-', label=f'Estadístico Z Calculado = {estadistico_z_ej21:.4f}')\n",
        "\n",
        "# Añadir etiquetas y título\n",
        "plt.title('Distribución Normal Estándar con Región de Rechazo')\n",
        "plt.xlabel('Valor de Z')\n",
        "plt.ylabel('Densidad de Probabilidad')\n",
        "plt.legend()\n",
        "plt.grid(True)\n",
        "plt.show()"
      ],
      "execution_count": null,
      "outputs": []
    },
    {
      "cell_type": "markdown",
      "metadata": {
        "id": "Rjxe9ili8jgc"
      },
      "source": [
        "**7. Decisión Estadística y Conclusión Práctica:**\n",
        "\n",
        "*   **Decisión Estadística (usando el valor crítico):**\n",
        "    Comparamos el estadístico de prueba calculado (${estadistico_z_ej21:.4f}$) con el valor crítico (${valor_critico_z_ej21:.4f}$).\n",
        "    Dado que ${estadistico_z_ej21:.4f} \\le {valor_critico_z_ej21:.4f}$, el estadístico de prueba cae en la región de rechazo. Por lo tanto, **rechazamos la hipótesis nula ($H_0$)**.\n",
        "\n",
        "*   **Decisión Estadística (usando el valor p):**\n",
        "    Comparamos el valor p (${valor_p_ej21:.4f}$) con el nivel de significancia ($\\alpha = 0.05$).\n",
        "    Dado que el valor p (${valor_p_ej21:.4f}$) es menor que $\\alpha$ (0.05), **rechazamos la hipótesis nula ($H_0$)**.\n",
        "\n",
        "*   **Conclusión Práctica:**\n",
        "    Con un nivel de significancia del 0.05, hay suficiente evidencia estadística para rechazar la afirmación de la empresa de que el peso promedio de sus paquetes de cereal es de 500 g. La evidencia sugiere que el peso promedio es significativamente menor a 500 g, apoyando la sospecha de subllenado.\n",
        "\n",
        "*   **Significado del Valor p:**\n",
        "    El valor p (${valor_p_ej21:.4f}$) representa la probabilidad de obtener una media muestral de 495 g (o una más extrema) si la hipótesis nula fuera cierta (es decir, si el verdadero peso promedio fuera 500 g). Un valor p tan pequeño indica que es muy improbable observar una media muestral de 495 g por pura casualidad si la máquina estuviera correctamente calibrada.\n",
        "\n",
        "* * *"
      ]
    },
    {
      "cell_type": "markdown",
      "metadata": {
        "id": "6384b1ca"
      },
      "source": [
        "* * *\n",
        "\n",
        "## Ejercicio 22: Duración promedio de baterías\n",
        "\n",
        "Siguiendo el procedimiento para pruebas de hipótesis:\n",
        "\n",
        "**1. Definición de Hipótesis y Nivel de Significancia:**\n",
        "\n",
        "*   **Hipótesis Nula ($H_0$):** La duración promedio de las baterías es igual a 1200 horas.\n",
        "    $$ H_0: \\mu = 1200 $$\n",
        "*   **Hipótesis Alternativa ($H_a$):** La duración promedio de las baterías es menor que 1200 horas (prueba unilateral izquierda).\n",
        "    $$ H_a: \\mu < 1200 $$\n",
        "\n",
        "*   **Nivel de Significancia ($\\alpha$):** 0.01"
      ]
    },
    {
      "cell_type": "markdown",
      "metadata": {
        "id": "e03dd461"
      },
      "source": [
        "**2. Identificación del Estadístico de Prueba y su Distribución:**\n",
        "\n",
        "Dado que conocemos la desviación estándar poblacional ($\\sigma$) y el tamaño de la muestra es grande ($n=50 > 30$), utilizamos el estadístico de prueba Z. Bajo la hipótesis nula, este estadístico sigue una distribución normal estándar.\n",
        "\n",
        "Fórmula del estadístico Z:\n",
        "$$ Z = \\frac{\\bar{x} - \\mu_0}{\\sigma / \\sqrt{n}} $$\n",
        "\n",
        "Donde:\n",
        "- $\\bar{x}$ es la media muestral.\n",
        "- $\\mu_0$ es la media poblacional bajo la hipótesis nula ($H_0$).\n",
        "- $\\sigma$ es la desviación estándar poblacional.\n",
        "- $n$ es el tamaño de la muestra."
      ]
    },
    {
      "cell_type": "code",
      "metadata": {
        "id": "724358b5"
      },
      "source": [
        "import numpy as np\n",
        "from scipy.stats import norm\n",
        "import matplotlib.pyplot as plt\n",
        "\n",
        "# Datos del problema (Ejercicio 22)\n",
        "media_muestral_ej22 = 1180  # horas\n",
        "media_poblacional_h0_ej22 = 1200  # horas (valor bajo H0)\n",
        "desviacion_estandar_poblacional_ej22 = 100  # horas\n",
        "tamano_muestra_ej22 = 50\n",
        "nivel_significancia_ej22 = 0.01\n",
        "\n",
        "# 3. Cálculo del Estadístico de Prueba Z\n",
        "error_estandar_ej22 =  desviacion_estandar_poblacional_ej22 / np.sqrt(tamano_muestra_ej22)\n",
        "estadistico_z_ej22 = (media_muestral_ej22 - media_poblacional_h0_ej22) / error_estandar_ej22\n",
        "\n",
        "print(f\"Estadístico de Prueba Z: {estadistico_z_ej22:.4f}\")\n",
        "\n",
        "# 4. Determinación del Valor Crítico y la Región de Rechazo\n",
        "# Para una prueba unilateral izquierda, el valor crítico Z es el valor tal que el área a su izquierda es alpha.\n",
        "valor_critico_z_ej22 = norm.ppf(nivel_significancia_ej22)\n",
        "\n",
        "print(f\"Valor Crítico Z (para α={nivel_significancia_ej22}): {valor_critico_z_ej22:.4f}\")\n",
        "print(\"Región de Rechazo: Rechazar H0 si Z_calculado <= Z_critico\")\n",
        "\n",
        "# 5. Cálculo del Valor p\n",
        "# Para una prueba unilateral izquierda, el valor p es el área a la izquierda del estadístico Z calculado.\n",
        "valor_p_ej22 = norm.cdf(estadistico_z_ej22)\n",
        "\n",
        "print(f\"Valor p: {valor_p_ej22:.4f}\")"
      ],
      "execution_count": null,
      "outputs": []
    },
    {
      "cell_type": "markdown",
      "metadata": {
        "id": "589f4541"
      },
      "source": [
        "**4. Determinación del Valor Crítico y la Región de Rechazo (reiteración para claridad):**\n",
        "\n",
        "*   **Valor Crítico Z:** ${valor_critico_z_ej22:.4f}$\n",
        "*   **Región de Rechazo:** Rechazamos la hipótesis nula ($H_0$) si el estadístico de prueba Z calculado es menor o igual al valor crítico Z. En este caso, si $Z_{calculado} \\le {valor_critico_z_ej22:.4f}$.\n",
        "\n",
        "**5. Cálculo del Estadístico de Prueba y el Valor p (reiteración para claridad):**\n",
        "\n",
        "*   **Estadístico de Prueba Z calculado:** ${estadistico_z_ej22:.4f}$\n",
        "*   **Valor p:** ${valor_p_ej22:.4f}$"
      ]
    },
    {
      "cell_type": "markdown",
      "metadata": {
        "id": "20196b80"
      },
      "source": [
        "**6. Gráfico de la Distribución:**\n",
        "\n",
        "Visualicemos la distribución normal estándar, el valor crítico, la región de rechazo y el estadístico de prueba calculado."
      ]
    },
    {
      "cell_type": "code",
      "metadata": {
        "id": "8e28c204"
      },
      "source": [
        "# Generar valores para el eje x de la distribución normal estándar\n",
        "x = np.linspace(-4, 4, 1000)\n",
        "y = norm.pdf(x, 0, 1) # PDF de la distribución normal estándar\n",
        "\n",
        "plt.figure(figsize=(10, 6))\n",
        "plt.plot(x, y, label='Distribución Normal Estándar')\n",
        "\n",
        "# Rellenar la región de rechazo (área a la izquierda del valor crítico)\n",
        "x_rechazo = np.linspace(-4, valor_critico_z_ej22, 100)\n",
        "y_rechazo = norm.pdf(x_rechazo, 0, 1)\n",
        "plt.fill_between(x_rechazo, y_rechazo, color='red', alpha=0.5, label='Región de Rechazo (α=0.01)')\n",
        "\n",
        "# Marcar el valor crítico\n",
        "plt.axvline(valor_critico_z_ej22, color='red', linestyle='--', label=f'Valor Crítico Z = {valor_critico_z_ej22:.4f}')\n",
        "\n",
        "# Marcar el estadístico de prueba calculado\n",
        "plt.axvline(estadistico_z_ej22, color='blue', linestyle='-', label=f'Estadístico Z Calculado = {estadistico_z_ej22:.4f}')\n",
        "\n",
        "# Añadir etiquetas y título\n",
        "plt.title('Distribución Normal Estándar con Región de Rechazo')\n",
        "plt.xlabel('Valor de Z')\n",
        "plt.ylabel('Densidad de Probabilidad')\n",
        "plt.legend()\n",
        "plt.grid(True)\n",
        "plt.show()"
      ],
      "execution_count": null,
      "outputs": []
    },
    {
      "cell_type": "markdown",
      "metadata": {
        "id": "6a035009"
      },
      "source": [
        "**7. Decisión Estadística y Conclusión Práctica:**\n",
        "\n",
        "*   **Decisión Estadística (usando el valor crítico):**\n",
        "    Comparamos el estadístico de prueba calculado (${estadistico_z_ej22:.4f}$) con el valor crítico (${valor_critico_z_ej22:.4f}$).\n",
        "    Dado que ${estadistico_z_ej22:.4f} \\le {valor_critico_z_ej22:.4f}$, el estadístico de prueba cae en la región de rechazo. Por lo tanto, **rechazamos la hipótesis nula ($H_0$)**.\n",
        "\n",
        "*   **Decisión Estadística (usando el valor p):**\n",
        "    Comparamos el valor p (${valor_p_ej22:.4f}$) con el nivel de significancia ($\\alpha = 0.01$).\n",
        "    Dado que el valor p (${valor_p_ej22:.4f}$) es menor que $\\alpha$ (0.01), **rechazamos la hipótesis nula ($H_0$)**.\n",
        "\n",
        "*   **Conclusión Práctica:**\n",
        "    Con un nivel de significancia del 0.01, hay suficiente evidencia estadística para rechazar la afirmación del fabricante de que la duración promedio de las baterías es de 1200 horas. La evidencia sugiere que la duración promedio es significativamente menor a 1200 horas, apoyando la alegación del cliente.\n",
        "\n",
        "*   **Significado del Valor p:**\n",
        "    El valor p (${valor_p_ej22:.4f}$) representa la probabilidad de obtener una media muestral de 1180 horas (o una más extrema) si la hipótesis nula fuera cierta (es decir, si la verdadera duración promedio fuera 1200 horas). Un valor p tan pequeño indica que es muy improbable observar una media muestral de 1180 horas por pura casualidad si las baterías realmente duraran 1200 horas en promedio.\n",
        "\n",
        "* * *"
      ]
    },
    {
      "cell_type": "markdown",
      "metadata": {
        "id": "2d30f39e"
      },
      "source": [
        "* * *\n",
        "\n",
        "## Ejercicio 23: Puntaje promedio de examen nacional (prueba bilateral)\n",
        "\n",
        "Siguiendo el procedimiento para pruebas de hipótesis:\n",
        "\n",
        "**1. Definición de Hipótesis y Nivel de Significancia:**\n",
        "\n",
        "*   **Hipótesis Nula ($H_0$):** El puntaje promedio de la clase es igual al promedio nacional (75 puntos).\n",
        "    $$ H_0: \\mu = 75 $$\n",
        "*   **Hipótesis Alternativa ($H_a$):** El puntaje promedio de la clase es diferente al promedio nacional (75 puntos) (prueba bilateral).\n",
        "    $$ H_a: \\mu \\ne 75 $$\n",
        "\n",
        "*   **Nivel de Significancia ($\\alpha$):** 0.05"
      ]
    },
    {
      "cell_type": "markdown",
      "metadata": {
        "id": "aa07508c"
      },
      "source": [
        "**2. Identificación del Estadístico de Prueba y su Distribución:**\n",
        "\n",
        "Dado que conocemos la desviación estándar poblacional ($\\sigma$) y el tamaño de la muestra es grande ($n=36 \\ge 30$), utilizamos el estadístico de prueba Z. Bajo la hipótesis nula, este estadístico sigue una distribución normal estándar.\n",
        "\n",
        "Fórmula del estadístico Z:\n",
        "$$ Z = \\frac{\\bar{x} - \\mu_0}{\\sigma / \\sqrt{n}} $$\n",
        "\n",
        "Donde:\n",
        "- $\\bar{x}$ es la media muestral.\n",
        "- $\\mu_0$ es la media poblacional bajo la hipótesis nula ($H_0$).\n",
        "- $\\sigma$ es la desviación estándar poblacional.\n",
        "- $n$ es el tamaño de la muestra."
      ]
    },
    {
      "cell_type": "code",
      "metadata": {
        "id": "55f9195c"
      },
      "source": [
        "import numpy as np\n",
        "from scipy.stats import norm\n",
        "import matplotlib.pyplot as plt\n",
        "\n",
        "# Datos del problema (Ejercicio 23)\n",
        "media_muestral_ej23 = 78  # puntos\n",
        "media_poblacional_h0_ej23 = 75  # puntos (valor bajo H0)\n",
        "desviacion_estandar_poblacional_ej23 = 12  # puntos\n",
        "tamano_muestra_ej23 = 36\n",
        "nivel_significancia_ej23 = 0.05\n",
        "\n",
        "# 3. Cálculo del Estadístico de Prueba Z\n",
        "error_estandar_ej23 =  desviacion_estandar_poblacional_ej23 / np.sqrt(tamano_muestra_ej23)\n",
        "estadistico_z_ej23 = (media_muestral_ej23 - media_poblacional_h0_ej23) / error_estandar_ej23\n",
        "\n",
        "print(f\"Estadístico de Prueba Z: {estadistico_z_ej23:.4f}\")\n",
        "\n",
        "# 4. Determinación del Valor Crítico y la Región de Rechazo\n",
        "# Para una prueba bilateral, tenemos dos valores críticos Z.\n",
        "# El área en cada cola es alpha / 2.\n",
        "valor_critico_z_inferior_ej23 = norm.ppf(nivel_significancia_ej23 / 2)\n",
        "valor_critico_z_superior_ej23 = norm.ppf(1 - nivel_significancia_ej23 / 2)\n",
        "\n",
        "print(f\"Valores Críticos Z (para α={nivel_significancia_ej23}): [{valor_critico_z_inferior_ej23:.4f}, {valor_critico_z_superior_ej23:.4f}]\")\n",
        "print(\"Región de Rechazo: Rechazar H0 si Z_calculado <= Z_critico_inferior o Z_calculado >= Z_critico_superior\")\n",
        "\n",
        "# 5. Cálculo del Valor p\n",
        "# Para una prueba bilateral, el valor p es el doble del área en la cola más allá del estadístico Z calculado.\n",
        "# Usamos abs() porque la prueba es bilateral.\n",
        "valor_p_ej23 = 2 * (1 - norm.cdf(abs(estadistico_z_ej23)))\n",
        "\n",
        "print(f\"Valor p: {valor_p_ej23:.4f}\")"
      ],
      "execution_count": null,
      "outputs": []
    },
    {
      "cell_type": "markdown",
      "metadata": {
        "id": "daf7b2b0"
      },
      "source": [
        "**4. Determinación del Valor Crítico y la Región de Rechazo (reiteración para claridad):**\n",
        "\n",
        "*   **Valores Críticos Z:** ${valor_critico_z_inferior_ej23:.4f}$ y ${valor_critico_z_superior_ej23:.4f}$\n",
        "*   **Región de Rechazo:** Rechazamos la hipótesis nula ($H_0$) si el estadístico de prueba Z calculado es menor o igual a ${valor_critico_z_inferior_ej23:.4f}$ o mayor o igual a ${valor_critico_z_superior_ej23:.4f}$.\n",
        "\n",
        "**5. Cálculo del Estadístico de Prueba y el Valor p (reiteración para claridad):**\n",
        "\n",
        "*   **Estadístico de Prueba Z calculado:** ${estadistico_z_ej23:.4f}$\n",
        "*   **Valor p:** ${valor_p_ej23:.4f}$"
      ]
    },
    {
      "cell_type": "markdown",
      "metadata": {
        "id": "59767529"
      },
      "source": [
        "**6. Gráfico de la Distribución:**\n",
        "\n",
        "Visualicemos la distribución normal estándar, los valores críticos, las regiones de rechazo y el estadístico de prueba calculado."
      ]
    },
    {
      "cell_type": "code",
      "metadata": {
        "id": "4dea9a81"
      },
      "source": [
        "# Generar valores para el eje x de la distribución normal estándar\n",
        "x = np.linspace(-4, 4, 1000)\n",
        "y = norm.pdf(x, 0, 1) # PDF de la distribución normal estándar\n",
        "\n",
        "plt.figure(figsize=(10, 6))\n",
        "plt.plot(x, y, label='Distribución Normal Estándar')\n",
        "\n",
        "# Rellenar la región de rechazo (áreas en ambas colas)\n",
        "x_rechazo_inferior = np.linspace(-4, valor_critico_z_inferior_ej23, 100)\n",
        "y_rechazo_inferior = norm.pdf(x_rechazo_inferior, 0, 1)\n",
        "plt.fill_between(x_rechazo_inferior, y_rechazo_inferior, color='red', alpha=0.5, label=f'Región de Rechazo (α/2={nivel_significancia_ej23/2:.3f})')\n",
        "\n",
        "x_rechazo_superior = np.linspace(valor_critico_z_superior_ej23, 4, 100)\n",
        "y_rechazo_superior = norm.pdf(x_rechazo_superior, 0, 1)\n",
        "plt.fill_between(x_rechazo_superior, y_rechazo_superior, color='red', alpha=0.5) # No repetir label\n",
        "\n",
        "# Marcar los valores críticos\n",
        "plt.axvline(valor_critico_z_inferior_ej23, color='red', linestyle='--', label=f'Valores Críticos Z = {valor_critico_z_inferior_ej23:.4f}, {valor_critico_z_superior_ej23:.4f}')\n",
        "plt.axvline(valor_critico_z_superior_ej23, color='red', linestyle='--')\n",
        "\n",
        "# Marcar el estadístico de prueba calculado\n",
        "plt.axvline(estadistico_z_ej23, color='blue', linestyle='-', label=f'Estadístico Z Calculado = {estadistico_z_ej23:.4f}')\n",
        "\n",
        "# Añadir etiquetas y título\n",
        "plt.title('Distribución Normal Estándar con Regiones de Rechazo (Prueba Bilateral)')\n",
        "plt.xlabel('Valor de Z')\n",
        "plt.ylabel('Densidad de Probabilidad')\n",
        "plt.legend()\n",
        "plt.grid(True)\n",
        "plt.show()"
      ],
      "execution_count": null,
      "outputs": []
    },
    {
      "cell_type": "markdown",
      "metadata": {
        "id": "d3c52d3b"
      },
      "source": [
        "**7. Decisión Estadística y Conclusión Práctica:**\n",
        "\n",
        "*   **Decisión Estadística (usando los valores críticos):**\n",
        "    Comparamos el estadístico de prueba calculado (${estadistico_z_ej23:.4f}$) con los valores críticos (${valor_critico_z_inferior_ej23:.4f}$ y ${valor_critico_z_superior_ej23:.4f}$).\n",
        "    Dado que ${valor_critico_z_inferior_ej23:.4f} < {estadistico_z_ej23:.4f} < {valor_critico_z_superior_ej23:.4f}$, el estadístico de prueba *no* cae en la región de rechazo. Por lo tanto, **no rechazamos la hipótesis nula ($H_0$)**.\n",
        "\n",
        "*   **Decisión Estadística (usando el valor p):**\n",
        "    Comparamos el valor p (${valor_p_ej23:.4f}$) con el nivel de significancia ($\\alpha = 0.05$).\n",
        "    Dado que el valor p (${valor_p_ej23:.4f}$) es mayor que $\\alpha$ (0.05), **no rechazamos la hipótesis nula ($H_0$)**.\n",
        "\n",
        "*   **Conclusión Práctica:**\n",
        "    Con un nivel de significancia del 0.05, no hay suficiente evidencia estadística para rechazar la afirmación de que el puntaje promedio de la clase es diferente al promedio nacional de 75 puntos. La diferencia observada en la media muestral (78 puntos) podría deberse a la variabilidad aleatoria de la muestra.\n",
        "\n",
        "*   **Significado del Valor p:**\n",
        "    El valor p (${valor_p_ej23:.4f}$) representa la probabilidad de obtener una media muestral tan extrema o más extrema (es decir, 78 o más, o 72 o menos) si la hipótesis nula fuera cierta (si el verdadero promedio de la clase fuera 75 puntos). Un valor p relativamente grande (mayor que 0.05) indica que observar una media muestral de 78 puntos no es un evento inusual si el verdadero promedio poblacional es 75 puntos.\n",
        "\n",
        "* * *"
      ]
    },
    {
      "cell_type": "markdown",
      "metadata": {
        "id": "3cb54e76"
      },
      "source": [
        "* * *\n",
        "\n",
        "## Ejercicio 24: Reducción de la presión arterial con medicamento\n",
        "\n",
        "Siguiendo el procedimiento para pruebas de hipótesis:\n",
        "\n",
        "**1. Definición de Hipótesis y Nivel de Significancia:**\n",
        "\n",
        "*   **Hipótesis Nula ($H_0$):** La reducción promedio de la presión arterial con el medicamento es igual a 10 mmHg.\n",
        "    $$ H_0: \\mu = 10 $$\n",
        "*   **Hipótesis Alternativa ($H_a$):** La reducción promedio de la presión arterial con el medicamento es menor que 10 mmHg (prueba unilateral izquierda).\n",
        "    $$ H_a: \\mu < 10 $$\n",
        "\n",
        "*   **Nivel de Significancia ($\\alpha$):** 0.05"
      ]
    },
    {
      "cell_type": "markdown",
      "metadata": {
        "id": "0cdad84c"
      },
      "source": [
        "**2. Identificación del Estadístico de Prueba y su Distribución:**\n",
        "\n",
        "Dado que conocemos la desviación estándar poblacional ($\\sigma$), utilizamos el estadístico de prueba Z. Bajo la hipótesis nula, este estadístico sigue una distribución normal estándar.\n",
        "\n",
        "Fórmula del estadístico Z:\n",
        "$$ Z = \\frac{\\bar{x} - \\mu_0}{\\sigma / \\sqrt{n}} $$\n",
        "\n",
        "Donde:\n",
        "- $\\bar{x}$ es la media muestral.\n",
        "- $\\mu_0$ es la media poblacional bajo la hipótesis nula ($H_0$).\n",
        "- $\\sigma$ es la desviación estándar poblacional.\n",
        "- $n$ es el tamaño de la muestra."
      ]
    },
    {
      "cell_type": "code",
      "metadata": {
        "id": "51f3b7ba"
      },
      "source": [
        "import numpy as np\n",
        "from scipy.stats import norm\n",
        "import matplotlib.pyplot as plt\n",
        "\n",
        "# Datos del problema (Ejercicio 24)\n",
        "media_muestral_ej24 = 8  # mmHg\n",
        "media_poblacional_h0_ej24 = 10  # mmHg (valor bajo H0)\n",
        "desviacion_estandar_poblacional_ej24 = 3  # mmHg\n",
        "tamano_muestra_ej24 = 25\n",
        "nivel_significancia_ej24 = 0.05\n",
        "\n",
        "# 3. Cálculo del Estadístico de Prueba Z\n",
        "error_estandar_ej24 =  desviacion_estandar_poblacional_ej24 / np.sqrt(tamano_muestra_ej24)\n",
        "estadistico_z_ej24 = (media_muestral_ej24 - media_poblacional_h0_ej24) / error_estandar_ej24\n",
        "\n",
        "print(f\"Estadístico de Prueba Z: {estadistico_z_ej24:.4f}\")\n",
        "\n",
        "# 4. Determinación del Valor Crítico y la Región de Rechazo\n",
        "# Para una prueba unilateral izquierda, el valor crítico Z es el valor tal que el área a su izquierda es alpha.\n",
        "valor_critico_z_ej24 = norm.ppf(nivel_significancia_ej24)\n",
        "\n",
        "print(f\"Valor Crítico Z (para α={nivel_significancia_ej24}): {valor_critico_z_ej24:.4f}\")\n",
        "print(\"Región de Rechazo: Rechazar H0 si Z_calculado <= Z_critico\")\n",
        "\n",
        "# 5. Cálculo del Valor p\n",
        "# Para una prueba unilateral izquierda, el valor p es el área a la izquierda del estadístico Z calculado.\n",
        "valor_p_ej24 = norm.cdf(estadistico_z_ej24)\n",
        "\n",
        "print(f\"Valor p: {valor_p_ej24:.4f}\")"
      ],
      "execution_count": null,
      "outputs": []
    },
    {
      "cell_type": "markdown",
      "metadata": {
        "id": "c454fc63"
      },
      "source": [
        "**4. Determinación del Valor Crítico y la Región de Rechazo (reiteración para claridad):**\n",
        "\n",
        "*   **Valor Crítico Z:** ${valor_critico_z_ej24:.4f}$\n",
        "*   **Región de Rechazo:** Rechazamos la hipótesis nula ($H_0$) si el estadístico de prueba Z calculado es menor o igual al valor crítico Z. En este caso, si $Z_{calculado} \\le {valor_critico_z_ej24:.4f}$.\n",
        "\n",
        "**5. Cálculo del Estadístico de Prueba y el Valor p (reiteración para claridad):**\n",
        "\n",
        "*   **Estadístico de Prueba Z calculado:** ${estadistico_z_ej24:.4f}$\n",
        "*   **Valor p:** ${valor_p_ej24:.4f}$"
      ]
    },
    {
      "cell_type": "markdown",
      "metadata": {
        "id": "781a2874"
      },
      "source": [
        "**6. Gráfico de la Distribución:**\n",
        "\n",
        "Visualicemos la distribución normal estándar, el valor crítico, la región de rechazo y el estadístico de prueba calculado."
      ]
    },
    {
      "cell_type": "code",
      "metadata": {
        "id": "4a1ac596"
      },
      "source": [
        "# Generar valores para el eje x de la distribución normal estándar\n",
        "x = np.linspace(-4, 4, 1000)\n",
        "y = norm.pdf(x, 0, 1) # PDF de la distribución normal estándar\n",
        "\n",
        "plt.figure(figsize=(10, 6))\n",
        "plt.plot(x, y, label='Distribución Normal Estándar')\n",
        "\n",
        "# Rellenar la región de rechazo (área a la izquierda del valor crítico)\n",
        "x_rechazo = np.linspace(-4, valor_critico_z_ej24, 100)\n",
        "y_rechazo = norm.pdf(x_rechazo, 0, 1)\n",
        "plt.fill_between(x_rechazo, y_rechazo, color='red', alpha=0.5, label='Región de Rechazo (α=0.05)')\n",
        "\n",
        "# Marcar el valor crítico\n",
        "plt.axvline(valor_critico_z_ej24, color='red', linestyle='--', label=f'Valor Crítico Z = {valor_critico_z_ej24:.4f}')\n",
        "\n",
        "# Marcar el estadístico de prueba calculado\n",
        "plt.axvline(estadistico_z_ej24, color='blue', linestyle='-', label=f'Estadístico Z Calculado = {estadistico_z_ej24:.4f}')\n",
        "\n",
        "# Añadir etiquetas y título\n",
        "plt.title('Distribución Normal Estándar con Región de Rechazo')\n",
        "plt.xlabel('Valor de Z')\n",
        "plt.ylabel('Densidad de Probabilidad')\n",
        "plt.legend()\n",
        "plt.grid(True)\n",
        "plt.show()"
      ],
      "execution_count": null,
      "outputs": []
    },
    {
      "cell_type": "markdown",
      "metadata": {
        "id": "6da318dc"
      },
      "source": [
        "**7. Decisión Estadística y Conclusión Práctica:**\n",
        "\n",
        "*   **Decisión Estadística (usando el valor crítico):**\n",
        "    Comparamos el estadístico de prueba calculado (${estadistico_z_ej24:.4f}$) con el valor crítico (${valor_critico_z_ej24:.4f}$).\n",
        "    Dado que ${estadistico_z_ej24:.4f} > {valor_critico_z_ej24:.4f}$, el estadístico de prueba *no* cae en la región de rechazo. Por lo tanto, **no rechazamos la hipótesis nula ($H_0$)**.\n",
        "\n",
        "*   **Decisión Estadística (usando el valor p):**\n",
        "    Comparamos el valor p (${valor_p_ej24:.4f}$) con el nivel de significancia ($\\alpha = 0.05$).\n",
        "    Dado que el valor p (${valor_p_ej24:.4f}$) es mayor que $\\alpha$ (0.05), **no rechazamos la hipótesis nula ($H_0$)**.\n",
        "\n",
        "*   **Conclusión Práctica:**\n",
        "    Con un nivel de significancia del 0.05, no hay suficiente evidencia estadística para rechazar la afirmación del laboratorio de que su medicamento reduce la presión arterial en 10 mmHg en promedio. La reducción promedio observada de 8 mmHg en la muestra de 25 pacientes podría deberse a la variabilidad aleatoria de la muestra.\n",
        "\n",
        "*   **Significado del Valor p:**\n",
        "    El valor p (${valor_p_ej24:.4f}$) representa la probabilidad de obtener una reducción promedio de 8 mmHg (o una reducción aún menor) si la hipótesis nula fuera cierta (es decir, si la verdadera reducción promedio fuera 10 mmHg). Un valor p relativamente grande (mayor que 0.05) indica que observar una reducción promedio de 8 mmHg no es un evento inusual si el medicamento realmente reduce la presión en 10 mmHg en promedio.\n",
        "\n",
        "* * *"
      ]
    },
    {
      "cell_type": "markdown",
      "metadata": {
        "id": "17d77e23"
      },
      "source": [
        "* * *\n",
        "\n",
        "## Ejercicio 25: Llenado de botellas de 500 mL\n",
        "\n",
        "Siguiendo el procedimiento para pruebas de hipótesis:\n",
        "\n",
        "**1. Definición de Hipótesis y Nivel de Significancia:**\n",
        "\n",
        "*   **Hipótesis Nula ($H_0$):** La media de llenado de las botellas es igual a 500 mL.\n",
        "    $$ H_0: \\mu = 500 $$\n",
        "*   **Hipótesis Alternativa ($H_a$):** La media de llenado de las botellas es menor que 500 mL (prueba unilateral izquierda, ya que se sospecha subllenado).\n",
        "    $$ H_a: \\mu < 500 $$\n",
        "\n",
        "*   **Nivel de Significancia ($\\alpha$):** 0.01"
      ]
    },
    {
      "cell_type": "markdown",
      "metadata": {
        "id": "08a72058"
      },
      "source": [
        "**2. Identificación del Estadístico de Prueba y su Distribución:**\n",
        "\n",
        "Dado que conocemos la desviación estándar poblacional ($\\sigma$) y el tamaño de la muestra es grande ($n=60 \\ge 30$), utilizamos el estadístico de prueba Z. Bajo la hipótesis nula, este estadístico sigue una distribución normal estándar.\n",
        "\n",
        "Fórmula del estadístico Z:\n",
        "$$ Z = \\frac{\\bar{x} - \\mu_0}{\\sigma / \\sqrt{n}} $$\n",
        "\n",
        "Donde:\n",
        "- $\\bar{x}$ es la media muestral.\n",
        "- $\\mu_0$ es la media poblacional bajo la hipótesis nula ($H_0$).\n",
        "- $\\sigma$ es la desviación estándar poblacional.\n",
        "- $n$ es el tamaño de la muestra."
      ]
    },
    {
      "cell_type": "code",
      "metadata": {
        "id": "b4399e4a"
      },
      "source": [
        "import numpy as np\n",
        "from scipy.stats import norm\n",
        "import matplotlib.pyplot as plt\n",
        "\n",
        "# Datos del problema (Ejercicio 25)\n",
        "media_muestral_ej25 = 498  # mL\n",
        "media_poblacional_h0_ej25 = 500  # mL (valor bajo H0)\n",
        "desviacion_estandar_poblacional_ej25 = 5  # mL\n",
        "tamano_muestra_ej25 = 60\n",
        "nivel_significancia_ej25 = 0.01\n",
        "\n",
        "# 3. Cálculo del Estadístico de Prueba Z\n",
        "error_estandar_ej25 =  desviacion_estandar_poblacional_ej25 / np.sqrt(tamano_muestra_ej25)\n",
        "estadistico_z_ej25 = (media_muestral_ej25 - media_poblacional_h0_ej25) / error_estandar_ej25\n",
        "\n",
        "print(f\"Estadístico de Prueba Z: {estadistico_z_ej25:.4f}\")\n",
        "\n",
        "# 4. Determinación del Valor Crítico y la Región de Rechazo\n",
        "# Para una prueba unilateral izquierda, el valor crítico Z es el valor tal que el área a su izquierda es alpha.\n",
        "valor_critico_z_ej25 = norm.ppf(nivel_significancia_ej25)\n",
        "\n",
        "print(f\"Valor Crítico Z (para α={nivel_significancia_ej25}): {valor_critico_z_ej25:.4f}\")\n",
        "print(\"Región de Rechazo: Rechazar H0 si Z_calculado <= Z_critico\")\n",
        "\n",
        "# 5. Cálculo del Valor p\n",
        "# Para una prueba unilateral izquierda, el valor p es el área a la izquierda del estadístico Z calculado.\n",
        "valor_p_ej25 = norm.cdf(estadistico_z_ej25)\n",
        "\n",
        "print(f\"Valor p: {valor_p_ej25:.4f}\")"
      ],
      "execution_count": null,
      "outputs": []
    },
    {
      "cell_type": "markdown",
      "metadata": {
        "id": "858b1394"
      },
      "source": [
        "**4. Determinación del Valor Crítico y la Región de Rechazo (reiteración para claridad):**\n",
        "\n",
        "*   **Valor Crítico Z:** ${valor_critico_z_ej25:.4f}$\n",
        "*   **Región de Rechazo:** Rechazamos la hipótesis nula ($H_0$) si el estadístico de prueba Z calculado es menor o igual al valor crítico Z. En este caso, si $Z_{calculado} \\le {valor_critico_z_ej25:.4f}$.\n",
        "\n",
        "**5. Cálculo del Estadístico de Prueba y el Valor p (reiteración para claridad):**\n",
        "\n",
        "*   **Estadístico de Prueba Z calculado:** ${estadistico_z_ej25:.4f}$\n",
        "*   **Valor p:** ${valor_p_ej25:.4f}$"
      ]
    },
    {
      "cell_type": "markdown",
      "metadata": {
        "id": "b7a31d95"
      },
      "source": [
        "**6. Gráfico de la Distribución:**\n",
        "\n",
        "Visualicemos la distribución normal estándar, el valor crítico, la región de rechazo y el estadístico de prueba calculado."
      ]
    },
    {
      "cell_type": "code",
      "metadata": {
        "id": "3f2907d8"
      },
      "source": [
        "# Generar valores para el eje x de la distribución normal estándar\n",
        "x = np.linspace(-4, 4, 1000)\n",
        "y = norm.pdf(x, 0, 1) # PDF de la distribución normal estándar\n",
        "\n",
        "plt.figure(figsize=(10, 6))\n",
        "plt.plot(x, y, label='Distribución Normal Estándar')\n",
        "\n",
        "# Rellenar la región de rechazo (área a la izquierda del valor crítico)\n",
        "x_rechazo = np.linspace(-4, valor_critico_z_ej25, 100)\n",
        "y_rechazo = norm.pdf(x_rechazo, 0, 1)\n",
        "plt.fill_between(x_rechazo, y_rechazo, color='red', alpha=0.5, label='Región de Rechazo (α=0.01)')\n",
        "\n",
        "# Marcar el valor crítico\n",
        "plt.axvline(valor_critico_z_ej25, color='red', linestyle='--', label=f'Valor Crítico Z = {valor_critico_z_ej25:.4f}')\n",
        "\n",
        "# Marcar el estadístico de prueba calculado\n",
        "plt.axvline(estadistico_z_ej25, color='blue', linestyle='-', label=f'Estadístico Z Calculado = {estadistico_z_ej25:.4f}')\n",
        "\n",
        "# Añadir etiquetas y título\n",
        "plt.title('Distribución Normal Estándar con Región de Rechazo')\n",
        "plt.xlabel('Valor de Z')\n",
        "plt.ylabel('Densidad de Probabilidad')\n",
        "plt.legend()\n",
        "plt.grid(True)\n",
        "plt.show()"
      ],
      "execution_count": null,
      "outputs": []
    },
    {
      "cell_type": "markdown",
      "metadata": {
        "id": "a8f2fed8"
      },
      "source": [
        "**7. Decisión Estadística y Conclusión Práctica:**\n",
        "\n",
        "*   **Decisión Estadística (usando el valor crítico):**\n",
        "    Comparamos el estadístico de prueba calculado (${estadistico_z_ej25:.4f}$) con el valor crítico (${valor_critico_z_ej25:.4f}$).\n",
        "    Dado que ${estadistico_z_ej25:.4f} > {valor_critico_z_ej25:.4f}$, el estadístico de prueba *no* cae en la región de rechazo. Por lo tanto, **no rechazamos la hipótesis nula ($H_0$)**.\n",
        "\n",
        "*   **Decisión Estadística (usando el valor p):**\n",
        "    Comparamos el valor p (${valor_p_ej25:.4f}$) con el nivel de significancia ($\\alpha = 0.01$).\n",
        "    Dado que el valor p (${valor_p_ej25:.4f}$) es mayor que $\\alpha$ (0.01), **no rechazamos la hipótesis nula ($H_0$)**.\n",
        "\n",
        "*   **Conclusión Práctica:**\n",
        "    Con un nivel de significancia del 0.01, no hay suficiente evidencia estadística para rechazar la afirmación de que la media de llenado de las botellas es de 500 mL. La media muestral observada de 498 mL podría deberse a la variabilidad aleatoria de la muestra.\n",
        "\n",
        "*   **Significado del Valor p:**\n",
        "    El valor p (${valor_p_ej25:.4f}$) representa la probabilidad de obtener una media muestral de 498 mL (o una media aún menor) si la hipótesis nula fuera cierta (es decir, si la verdadera media de llenado fuera 500 mL). Un valor p relativamente grande (mayor que 0.01) indica que observar una media muestral de 498 mL no es un evento inusual si la máquina está correctamente calibrada.\n",
        "\n",
        "* * *"
      ]
    },
    {
      "cell_type": "markdown",
      "metadata": {
        "id": "9ca41d63"
      },
      "source": [
        "* * *\n",
        "\n",
        "## Ejercicio 26: Tiempo promedio de entrega de pizza (prueba unilateral derecha con t)\n",
        "\n",
        "Siguiendo el procedimiento para pruebas de hipótesis:\n",
        "\n",
        "**1. Definición de Hipótesis y Nivel de Significancia:**\n",
        "\n",
        "*   **Hipótesis Nula ($H_0$):** El tiempo promedio de entrega a domicilio es igual a 25 minutos.\n",
        "    $$ H_0: \\mu = 25 $$\n",
        "*   **Hipótesis Alternativa ($H_a$):** El tiempo promedio de entrega a domicilio es mayor que 25 minutos (prueba unilateral derecha).\n",
        "    $$ H_a: \\mu > 25 $$\n",
        "\n",
        "*   **Nivel de Significancia ($\\alpha$):** 0.05"
      ]
    },
    {
      "cell_type": "markdown",
      "metadata": {
        "id": "a52f9723"
      },
      "source": [
        "**2. Identificación del Estadístico de Prueba y su Distribución:**\n",
        "\n",
        "Dado que no conocemos la desviación estándar poblacional ($\\sigma$) y el tamaño de la muestra es pequeño ($n=15 < 30$), utilizamos el estadístico de prueba t. Bajo la hipótesis nula, este estadístico sigue una distribución t de Student con $n-1$ grados de libertad.\n",
        "\n",
        "Fórmula del estadístico t:\n",
        "$$ t = \\frac{\\bar{x} - \\mu_0}{s / \\sqrt{n}} $$\n",
        "\n",
        "Donde:\n",
        "- $\\bar{x}$ es la media muestral.\n",
        "- $\\mu_0$ es la media poblacional bajo la hipótesis nula ($H_0$).\n",
        "- $s$ es la desviación estándar muestral.\n",
        "- $n$ es el tamaño de la muestra."
      ]
    },
    {
      "cell_type": "code",
      "metadata": {
        "id": "2dcefa68"
      },
      "source": [
        "import numpy as np\n",
        "from scipy.stats import t\n",
        "import matplotlib.pyplot as plt\n",
        "\n",
        "# Datos del problema (Ejercicio 26)\n",
        "media_muestral_ej26 = 28  # minutos\n",
        "media_poblacional_h0_ej26 = 25  # minutos (valor bajo H0)\n",
        "desviacion_estandar_muestral_ej26 = 4  # minutos\n",
        "tamano_muestra_ej26 = 15\n",
        "nivel_significancia_ej26 = 0.05\n",
        "\n",
        "# Grados de libertad\n",
        "grados_libertad_ej26 = tamano_muestra_ej26 - 1\n",
        "\n",
        "# 3. Cálculo del Estadístico de Prueba t\n",
        "error_estandar_ej26 =  desviacion_estandar_muestral_ej26 / np.sqrt(tamano_muestra_ej26)\n",
        "estadistico_t_ej26 = (media_muestral_ej26 - media_poblacional_h0_ej26) / error_estandar_ej26\n",
        "\n",
        "print(f\"Estadístico de Prueba t: {estadistico_t_ej26:.4f}\")\n",
        "print(f\"Grados de Libertad: {grados_libertad_ej26}\")\n",
        "\n",
        "# 4. Determinación del Valor Crítico y la Región de Rechazo\n",
        "# Para una prueba unilateral derecha con distribución t, el valor crítico t es el valor tal que el área a su derecha es alpha.\n",
        "valor_critico_t_ej26 = t.ppf(1 - nivel_significancia_ej26, grados_libertad_ej26)\n",
        "\n",
        "print(f\"Valor Crítico t (para α={nivel_significancia_ej26} y df={grados_libertad_ej26}): {valor_critico_t_ej26:.4f}\")\n",
        "print(\"Región de Rechazo: Rechazar H0 si t_calculado >= t_critico\")\n",
        "\n",
        "# 5. Cálculo del Valor p\n",
        "# Para una prueba unilateral derecha con distribución t, el valor p es el área a la derecha del estadístico t calculado.\n",
        "valor_p_ej26 = 1 - t.cdf(estadistico_t_ej26, grados_libertad_ej26)\n",
        "\n",
        "print(f\"Valor p: {valor_p_ej26:.4f}\")"
      ],
      "execution_count": null,
      "outputs": []
    },
    {
      "cell_type": "markdown",
      "metadata": {
        "id": "2d2bd046"
      },
      "source": [
        "**4. Determinación del Valor Crítico y la Región de Rechazo (reiteración para claridad):**\n",
        "\n",
        "*   **Grados de Libertad:** ${grados_libertad_ej26}$\n",
        "*   **Valor Crítico t:** ${valor_critico_t_ej26:.4f}$\n",
        "*   **Región de Rechazo:** Rechazamos la hipótesis nula ($H_0$) si el estadístico de prueba t calculado es mayor o igual al valor crítico t. En este caso, si $t_{calculado} \\ge {valor_critico_t_ej26:.4f}$.\n",
        "\n",
        "**5. Cálculo del Estadístico de Prueba y el Valor p (reiteración para claridad):**\n",
        "\n",
        "*   **Estadístico de Prueba t calculado:** ${estadistico_t_ej26:.4f}$\n",
        "*   **Valor p:** ${valor_p_ej26:.4f}$"
      ]
    },
    {
      "cell_type": "markdown",
      "metadata": {
        "id": "38ab5f32"
      },
      "source": [
        "**6. Gráfico de la Distribución:**\n",
        "\n",
        "Visualicemos la distribución t de Student, el valor crítico, la región de rechazo y el estadístico de prueba calculado."
      ]
    },
    {
      "cell_type": "code",
      "metadata": {
        "id": "69b388a8"
      },
      "source": [
        "# Generar valores para el eje x de la distribución t\n",
        "x = np.linspace(-4, 4, 1000)\n",
        "y = t.pdf(x, grados_libertad_ej26) # PDF de la distribución t\n",
        "\n",
        "plt.figure(figsize=(10, 6))\n",
        "plt.plot(x, y, label=f'Distribución t (df={grados_libertad_ej26})')\n",
        "\n",
        "# Rellenar la región de rechazo (área a la derecha del valor crítico)\n",
        "x_rechazo = np.linspace(valor_critico_t_ej26, 4, 100)\n",
        "y_rechazo = t.pdf(x_rechazo, grados_libertad_ej26)\n",
        "plt.fill_between(x_rechazo, y_rechazo, color='red', alpha=0.5, label='Región de Rechazo (α=0.05)')\n",
        "\n",
        "# Marcar el valor crítico\n",
        "plt.axvline(valor_critico_t_ej26, color='red', linestyle='--', label=f'Valor Crítico t = {valor_critico_t_ej26:.4f}')\n",
        "\n",
        "# Marcar el estadístico de prueba calculado\n",
        "plt.axvline(estadistico_t_ej26, color='blue', linestyle='-', label=f'Estadístico t Calculado = {estadistico_t_ej26:.4f}')\n",
        "\n",
        "# Añadir etiquetas y título\n",
        "plt.title(f'Distribución t de Student con Región de Rechazo (df={grados_libertad_ej26})')\n",
        "plt.xlabel('Valor de t')\n",
        "plt.ylabel('Densidad de Probabilidad')\n",
        "plt.legend()\n",
        "plt.grid(True)\n",
        "plt.show()"
      ],
      "execution_count": null,
      "outputs": []
    },
    {
      "cell_type": "markdown",
      "metadata": {
        "id": "a2ac2c72"
      },
      "source": [
        "**7. Decisión Estadística y Conclusión Práctica:**\n",
        "\n",
        "*   **Decisión Estadística (usando el valor crítico):**\n",
        "    Comparamos el estadístico de prueba calculado (${estadistico_t_ej26:.4f}$) con el valor crítico (${valor_critico_t_ej26:.4f}$).\n",
        "    Dado que ${estadistico_t_ej26:.4f} > {valor_critico_t_ej26:.4f}$, el estadístico de prueba cae en la región de rechazo. Por lo tanto, **rechazamos la hipótesis nula ($H_0$)**.\n",
        "\n",
        "*   **Decisión Estadística (usando el valor p):**\n",
        "    Comparamos el valor p (${valor_p_ej26:.4f}$) con el nivel de significancia ($\\alpha = 0.05$).\n",
        "    Dado que el valor p (${valor_p_ej26:.4f}$) es menor que $\\alpha$ (0.05), **rechazamos la hipótesis nula ($H_0$)**.\n",
        "\n",
        "*   **Conclusión Práctica:**\n",
        "    Con un nivel de significancia del 0.05, hay suficiente evidencia estadística para rechazar la afirmación del restaurante de que su tiempo promedio de entrega a domicilio es de 25 minutos. La evidencia sugiere que el tiempo promedio de entrega es significativamente mayor a 25 minutos, apoyando la sospecha del cliente.\n",
        "\n",
        "*   **Significado del Valor p:**\n",
        "    El valor p (${valor_p_ej26:.4f}$) representa la probabilidad de obtener una media muestral de 28 minutos (o una mayor) si la hipótesis nula fuera cierta (es decir, si el verdadero tiempo promedio de entrega fuera 25 minutos). Un valor p tan pequeño indica que es muy improbable observar una media muestral de 28 minutos por pura casualidad si el tiempo promedio real fuera 25 minutos.\n",
        "\n",
        "* * *"
      ]
    },
    {
      "cell_type": "markdown",
      "metadata": {
        "id": "be219f6c"
      },
      "source": [
        "* * *\n",
        "\n",
        "## Ejercicio 27: Promedio de matemáticas de la clase (prueba bilateral con t)\n",
        "\n",
        "Siguiendo el procedimiento para pruebas de hipótesis:\n",
        "\n",
        "**1. Definición de Hipótesis y Nivel de Significancia:**\n",
        "\n",
        "*   **Hipótesis Nula ($H_0$):** El promedio de la clase en matemáticas es igual a 80.\n",
        "    $$ H_0: \\mu = 80 $$\n",
        "*   **Hipótesis Alternativa ($H_a$):** El promedio de la clase en matemáticas es diferente de 80 (prueba bilateral).\n",
        "    $$ H_a: \\mu \\ne 80 $$\n",
        "\n",
        "*   **Nivel de Significancia ($\\alpha$):** 0.01"
      ]
    },
    {
      "cell_type": "markdown",
      "metadata": {
        "id": "d89b781e"
      },
      "source": [
        "**2. Identificación del Estadístico de Prueba y su Distribución:**\n",
        "\n",
        "Dado que no conocemos la desviación estándar poblacional ($\\sigma$) y el tamaño de la muestra es pequeño ($n=12 < 30$), utilizamos el estadístico de prueba t. Bajo la hipótesis nula, este estadístico sigue una distribución t de Student con $n-1$ grados de libertad.\n",
        "\n",
        "Fórmula del estadístico t:\n",
        "$$ t = \\frac{\\bar{x} - \\mu_0}{s / \\sqrt{n}} $$\n",
        "\n",
        "Donde:\n",
        "- $\\bar{x}$ es la media muestral.\n",
        "- $\\mu_0$ es la media poblacional bajo la hipótesis nula ($H_0$).\n",
        "- $s$ es la desviación estándar muestral.\n",
        "- $n$ es el tamaño de la muestra."
      ]
    },
    {
      "cell_type": "code",
      "metadata": {
        "id": "15e8023c"
      },
      "source": [
        "import numpy as np\n",
        "from scipy.stats import t\n",
        "import matplotlib.pyplot as plt\n",
        "\n",
        "# Datos del problema (Ejercicio 27)\n",
        "media_muestral_ej27 = 75\n",
        "media_poblacional_h0_ej27 = 80  # Valor bajo H0\n",
        "desviacion_estandar_muestral_ej27 = 8\n",
        "tamano_muestra_ej27 = 12\n",
        "nivel_significancia_ej27 = 0.01\n",
        "\n",
        "# Grados de libertad\n",
        "grados_libertad_ej27 = tamano_muestra_ej27 - 1\n",
        "\n",
        "# 3. Cálculo del Estadístico de Prueba t\n",
        "error_estandar_ej27 =  desviacion_estandar_muestral_ej27 / np.sqrt(tamano_muestra_ej27)\n",
        "estadistico_t_ej27 = (media_muestral_ej27 - media_poblacional_h0_ej27) / error_estandar_ej27\n",
        "\n",
        "print(f\"Estadístico de Prueba t: {estadistico_t_ej27:.4f}\")\n",
        "print(f\"Grados de Libertad: {grados_libertad_ej27}\")\n",
        "\n",
        "# 4. Determinación del Valor Crítico y la Región de Rechazo\n",
        "# Para una prueba bilateral con distribución t, tenemos dos valores críticos t.\n",
        "# El área en cada cola es alpha / 2.\n",
        "valor_critico_t_inferior_ej27 = t.ppf(nivel_significancia_ej27 / 2, grados_libertad_ej27)\n",
        "valor_critico_t_superior_ej27 = t.ppf(1 - nivel_significancia_ej27 / 2, grados_libertad_ej27)\n",
        "\n",
        "print(f\"Valores Críticos t (para α={nivel_significancia_ej27} y df={grados_libertad_ej27}): [{valor_critico_t_inferior_ej27:.4f}, {valor_critico_t_superior_ej27:.4f}]\")\n",
        "print(\"Región de Rechazo: Rechazar H0 si t_calculado <= t_critico_inferior o t_calculado >= t_critico_superior\")\n",
        "\n",
        "# 5. Cálculo del Valor p\n",
        "# Para una prueba bilateral con distribución t, el valor p es el doble del área en la cola más allá del estadístico t calculado.\n",
        "# Usamos abs() porque la prueba es bilateral.\n",
        "valor_p_ej27 = 2 * (1 - t.cdf(abs(estadistico_t_ej27), grados_libertad_ej27))\n",
        "\n",
        "print(f\"Valor p: {valor_p_ej27:.4f}\")"
      ],
      "execution_count": null,
      "outputs": []
    },
    {
      "cell_type": "markdown",
      "metadata": {
        "id": "83b45ef5"
      },
      "source": [
        "**4. Determinación del Valor Crítico y la Región de Rechazo (reiteración para claridad):**\n",
        "\n",
        "*   **Grados de Libertad:** ${grados_libertad_ej27}$\n",
        "*   **Valores Críticos t:** ${valor_critico_t_inferior_ej27:.4f}$ y ${valor_critico_t_superior_ej27:.4f}$\n",
        "*   **Región de Rechazo:** Rechazamos la hipótesis nula ($H_0$) si el estadístico de prueba t calculado es menor o igual a ${valor_critico_t_inferior_ej27:.4f}$ o mayor o igual a ${valor_critico_t_superior_ej27:.4f}$.\n",
        "\n",
        "**5. Cálculo del Estadístico de Prueba y el Valor p (reiteración para claridad):**\n",
        "\n",
        "*   **Estadístico de Prueba t calculado:** ${estadistico_t_ej27:.4f}$\n",
        "*   **Valor p:** ${valor_p_ej27:.4f}$"
      ]
    },
    {
      "cell_type": "markdown",
      "metadata": {
        "id": "66864e3c"
      },
      "source": [
        "**6. Gráfico de la Distribución:**\n",
        "\n",
        "Visualicemos la distribución t de Student, los valores críticos, las regiones de rechazo y el estadístico de prueba calculado."
      ]
    },
    {
      "cell_type": "code",
      "metadata": {
        "id": "3e9c481d"
      },
      "source": [
        "# Generar valores para el eje x de la distribución t\n",
        "x = np.linspace(-4, 4, 1000)\n",
        "y = t.pdf(x, grados_libertad_ej27) # PDF de la distribución t\n",
        "\n",
        "plt.figure(figsize=(10, 6))\n",
        "plt.plot(x, y, label=f'Distribución t (df={grados_libertad_ej27})')\n",
        "\n",
        "# Rellenar las regiones de rechazo (áreas en ambas colas)\n",
        "x_rechazo_inferior = np.linspace(-4, valor_critico_t_inferior_ej27, 100)\n",
        "y_rechazo_inferior = t.pdf(x_rechazo_inferior, grados_libertad_ej27)\n",
        "plt.fill_between(x_rechazo_inferior, y_rechazo_inferior, color='red', alpha=0.5, label=f'Región de Rechazo (α/2={nivel_significancia_ej27/2:.3f})')\n",
        "\n",
        "x_rechazo_superior = np.linspace(valor_critico_t_superior_ej27, 4, 100)\n",
        "y_rechazo_superior = t.pdf(x_rechazo_superior, grados_libertad_ej27)\n",
        "plt.fill_between(x_rechazo_superior, y_rechazo_superior, color='red', alpha=0.5) # No repetir label\n",
        "\n",
        "# Marcar los valores críticos\n",
        "plt.axvline(valor_critico_t_inferior_ej27, color='red', linestyle='--', label=f'Valores Críticos t = {valor_critico_t_inferior_ej27:.4f}, {valor_critico_t_superior_ej27:.4f}')\n",
        "plt.axvline(valor_critico_t_superior_ej27, color='red', linestyle='--')\n",
        "\n",
        "# Marcar el estadístico de prueba calculado\n",
        "plt.axvline(estadistico_t_ej27, color='blue', linestyle='-', label=f'Estadístico t Calculado = {estadistico_t_ej27:.4f}')\n",
        "\n",
        "# Añadir etiquetas y título\n",
        "plt.title(f'Distribución t de Student con Regiones de Rechazo (df={grados_libertad_ej27})')\n",
        "plt.xlabel('Valor de t')\n",
        "plt.ylabel('Densidad de Probabilidad')\n",
        "plt.legend()\n",
        "plt.grid(True)\n",
        "plt.show()"
      ],
      "execution_count": null,
      "outputs": []
    },
    {
      "cell_type": "markdown",
      "metadata": {
        "id": "9a3c1646"
      },
      "source": [
        "**7. Decisión Estadística y Conclusión Práctica:**\n",
        "\n",
        "*   **Decisión Estadística (usando los valores críticos):**\n",
        "    Comparamos el estadístico de prueba calculado (${estadistico_t_ej27:.4f}$) con los valores críticos (${valor_critico_t_inferior_ej27:.4f}$ y ${valor_critico_t_superior_ej27:.4f}$).\n",
        "    Dado que ${valor_critico_t_inferior_ej27:.4f} < {estadistico_t_ej27:.4f} < {valor_critico_t_superior_ej27:.4f}$, el estadístico de prueba *no* cae en la región de rechazo. Por lo tanto, **no rechazamos la hipótesis nula ($H_0$)**.\n",
        "\n",
        "*   **Decisión Estadística (usando el valor p):**\n",
        "    Comparamos el valor p (${valor_p_ej27:.4f}$) con el nivel de significancia ($\\alpha = 0.01$).\n",
        "    Dado que el valor p (${valor_p_ej27:.4f}$) es mayor que $\\alpha$ (0.01), **no rechazamos la hipótesis nula ($H_0$)**.\n",
        "\n",
        "*   **Conclusión Práctica:**\n",
        "    Con un nivel de significancia del 0.01, no hay suficiente evidencia estadística para rechazar la afirmación del colegio de que el promedio de su clase en matemáticas es 80. La media muestral observada de 75 puntos podría deberse a la variabilidad aleatoria de la muestra.\n",
        "*   **Significado del Valor p:**\n",
        "    El valor p (${valor_p_ej27:.4f}$) representa la probabilidad de obtener una media muestral tan extrema o más extrema (es decir, 75 o menos, o 85 o más) si la hipótesis nula fuera cierta (si el verdadero promedio de la clase fuera 80 puntos). Un valor p relativamente grande (mayor que 0.01) indica que observar una media muestral de 75 puntos no es un evento inusual si el verdadero promedio poblacional es 80 puntos.\n",
        "\n",
        "* * *"
      ]
    },
    {
      "cell_type": "markdown",
      "metadata": {
        "id": "e2512371"
      },
      "source": [
        "* * *\n",
        "\n",
        "## Ejercicio 28: Consumo de combustible de un auto (prueba unilateral izquierda con t)\n",
        "\n",
        "Siguiendo el procedimiento para pruebas de hipótesis:\n",
        "\n",
        "**1. Definición de Hipótesis y Nivel de Significancia:**\n",
        "\n",
        "*   **Hipótesis Nula ($H_0$):** El consumo promedio del auto es igual a 15 km/L.\n",
        "    $$ H_0: \\mu = 15 $$\n",
        "*   **Hipótesis Alternativa ($H_a$):** El consumo promedio del auto es menor que 15 km/L (prueba unilateral izquierda).\n",
        "    $$ H_a: \\mu < 15 $$\n",
        "\n",
        "*   **Nivel de Significancia ($\\alpha$):** 0.05"
      ]
    },
    {
      "cell_type": "markdown",
      "metadata": {
        "id": "954729a7"
      },
      "source": [
        "**2. Identificación del Estadístico de Prueba y su Distribución:**\n",
        "\n",
        "Dado que no conocemos la desviación estándar poblacional ($\\sigma$) y el tamaño de la muestra es pequeño ($n=10 < 30$), utilizamos el estadístico de prueba t. Bajo la hipótesis nula, este estadístico sigue una distribución t de Student con $n-1$ grados de libertad.\n",
        "\n",
        "Fórmula del estadístico t:\n",
        "$$ t = \\frac{\\bar{x} - \\mu_0}{s / \\sqrt{n}} $$\n",
        "\n",
        "Donde:\n",
        "- $\\bar{x}$ es la media muestral.\n",
        "- $\\mu_0$ es la media poblacional bajo la hipótesis nula ($H_0$).\n",
        "- $s$ es la desviación estándar muestral.\n",
        "- $n$ es el tamaño de la muestra."
      ]
    },
    {
      "cell_type": "code",
      "metadata": {
        "id": "6a30955c"
      },
      "source": [
        "import numpy as np\n",
        "from scipy.stats import t\n",
        "import matplotlib.pyplot as plt\n",
        "\n",
        "# Datos del problema (Ejercicio 28)\n",
        "media_muestral_ej28 = 14  # km/L\n",
        "media_poblacional_h0_ej28 = 15  # km/L (valor bajo H0)\n",
        "desviacion_estandar_muestral_ej28 = 1.2  # km/L\n",
        "tamano_muestra_ej28 = 10\n",
        "nivel_significancia_ej28 = 0.05\n",
        "\n",
        "# Grados de libertad\n",
        "grados_libertad_ej28 = tamano_muestra_ej28 - 1\n",
        "\n",
        "# 3. Cálculo del Estadístico de Prueba t\n",
        "error_estandar_ej28 =  desviacion_estandar_muestral_ej28 / np.sqrt(tamano_muestra_ej28)\n",
        "estadistico_t_ej28 = (media_muestral_ej28 - media_poblacional_h0_ej28) / error_estandar_ej28\n",
        "\n",
        "print(f\"Estadístico de Prueba t: {estadistico_t_ej28:.4f}\")\n",
        "print(f\"Grados de Libertad: {grados_libertad_ej28}\")\n",
        "\n",
        "# 4. Determinación del Valor Crítico y la Región de Rechazo\n",
        "# Para una prueba unilateral izquierda con distribución t, el valor crítico t es el valor tal que el área a su izquierda es alpha.\n",
        "valor_critico_t_ej28 = t.ppf(nivel_significancia_ej28, grados_libertad_ej28)\n",
        "\n",
        "print(f\"Valor Crítico t (para α={nivel_significancia_ej28} y df={grados_libertad_ej28}): {valor_critico_t_ej28:.4f}\")\n",
        "print(\"Región de Rechazo: Rechazar H0 si t_calculado <= t_critico\")\n",
        "\n",
        "# 5. Cálculo del Valor p\n",
        "# Para una prueba unilateral izquierda con distribución t, el valor p es el área a la izquierda del estadístico t calculado.\n",
        "valor_p_ej28 = t.cdf(estadistico_t_ej28, grados_libertad_ej28)\n",
        "\n",
        "print(f\"Valor p: {valor_p_ej28:.4f}\")"
      ],
      "execution_count": null,
      "outputs": []
    },
    {
      "cell_type": "markdown",
      "metadata": {
        "id": "443b621d"
      },
      "source": [
        "**4. Determinación del Valor Crítico y la Región de Rechazo (reiteración para claridad):**\n",
        "\n",
        "*   **Grados de Libertad:** ${grados_libertad_ej28}$\n",
        "*   **Valor Crítico t:** ${valor_critico_t_ej28:.4f}$\n",
        "*   **Región de Rechazo:** Rechazamos la hipótesis nula ($H_0$) si el estadístico de prueba t calculado es menor o igual al valor crítico t. En este caso, si $t_{calculado} \\le {valor_critico_t_ej28:.4f}$.\n",
        "\n",
        "**5. Cálculo del Estadístico de Prueba y el Valor p (reiteración para claridad):**\n",
        "\n",
        "*   **Estadístico de Prueba t calculado:** ${estadistico_t_ej28:.4f}$\n",
        "*   **Valor p:** ${valor_p_ej28:.4f}$"
      ]
    },
    {
      "cell_type": "markdown",
      "metadata": {
        "id": "e5586659"
      },
      "source": [
        "**6. Gráfico de la Distribución:**\n",
        "\n",
        "Visualicemos la distribución t de Student, el valor crítico, la región de rechazo y el estadístico de prueba calculado."
      ]
    },
    {
      "cell_type": "code",
      "metadata": {
        "id": "e20ab541"
      },
      "source": [
        "# Generar valores para el eje x de la distribución t\n",
        "x = np.linspace(-4, 4, 1000)\n",
        "y = t.pdf(x, grados_libertad_ej28) # PDF de la distribución t\n",
        "\n",
        "plt.figure(figsize=(10, 6))\n",
        "plt.plot(x, y, label=f'Distribución t (df={grados_libertad_ej28})')\n",
        "\n",
        "# Rellenar la región de rechazo (área a la izquierda del valor crítico)\n",
        "x_rechazo = np.linspace(-4, valor_critico_t_ej28, 100)\n",
        "y_rechazo = t.pdf(x_rechazo, grados_libertad_ej28)\n",
        "plt.fill_between(x_rechazo, y_rechazo, color='red', alpha=0.5, label='Región de Rechazo (α=0.05)')\n",
        "\n",
        "# Marcar el valor crítico\n",
        "plt.axvline(valor_critico_t_ej28, color='red', linestyle='--', label=f'Valor Crítico t = {valor_critico_t_ej28:.4f}')\n",
        "\n",
        "# Marcar el estadístico de prueba calculado\n",
        "plt.axvline(estadistico_t_ej28, color='blue', linestyle='-', label=f'Estadístico t Calculado = {estadistico_t_ej28:.4f}')\n",
        "\n",
        "# Añadir etiquetas y título\n",
        "plt.title(f'Distribución t de Student con Región de Rechazo (df={grados_libertad_ej28})')\n",
        "plt.xlabel('Valor de t')\n",
        "plt.ylabel('Densidad de Probabilidad')\n",
        "plt.legend()\n",
        "plt.grid(True)\n",
        "plt.show()"
      ],
      "execution_count": null,
      "outputs": []
    },
    {
      "cell_type": "markdown",
      "metadata": {
        "id": "d45cfd37"
      },
      "source": [
        "**7. Decisión Estadística y Conclusión Práctica:**\n",
        "\n",
        "*   **Decisión Estadística (usando el valor crítico):**\n",
        "    Comparamos el estadístico de prueba calculado (${estadistico_t_ej28:.4f}$) con el valor crítico (${valor_critico_t_ej28:.4f}$).\n",
        "    Dado que ${estadistico_t_ej28:.4f} > {valor_critico_t_ej28:.4f}$, el estadístico de prueba *no* cae en la región de rechazo. Por lo tanto, **no rechazamos la hipótesis nula ($H_0$)**.\n",
        "\n",
        "*   **Decisión Estadística (usando el valor p):**\n",
        "    Comparamos el valor p (${valor_p_ej28:.4f}$) con el nivel de significancia ($\\alpha = 0.05$).\n",
        "    Dado que el valor p (${valor_p_ej28:.4f}$) es mayor que $\\alpha$ (0.05), **no rechazamos la hipótesis nula ($H_0$)**.\n",
        "\n",
        "*   **Conclusión Práctica:**\n",
        "    Con un nivel de significancia del 0.05, no hay suficiente evidencia estadística para rechazar la afirmación del fabricante de que su auto consume 15 km/L en promedio. La media muestral observada de 14 km/L podría deberse a la variabilidad aleatoria de la muestra.\n",
        "*   **Significado del Valor p:**\n",
        "    El valor p (${valor_p_ej28:.4f}$) representa la probabilidad de obtener una media muestral de 14 km/L (o una media aún menor) si la hipótesis nula fuera cierta (es decir, si el verdadero consumo promedio fuera 15 km/L). Un valor p relativamente grande (mayor que 0.05) indica que observar una media muestral de 14 km/L no es un evento inusual si el verdadero promedio poblacional es 15 km/L.\n",
        "\n",
        "* * *"
      ]
    },
    {
      "cell_type": "markdown",
      "metadata": {
        "id": "13ccf8d0"
      },
      "source": [
        "* * *\n",
        "\n",
        "## Ejercicio 29: Aumento del nivel de hierro en la sangre (prueba unilateral izquierda con t)\n",
        "\n",
        "Siguiendo el procedimiento para pruebas de hipótesis:\n",
        "\n",
        "**1. Definición de Hipótesis y Nivel de Significancia:**\n",
        "\n",
        "*   **Hipótesis Nula ($H_0$):** El aumento promedio del nivel de hierro en la sangre con el suplemento es igual a 2 mg/dL.\n",
        "    $$ H_0: \\mu = 2 $$\n",
        "*   **Hipótesis Alternativa ($H_a$):** El aumento promedio del nivel de hierro en la sangre con el suplemento es menor que 2 mg/dL (prueba unilateral izquierda, ya que el aumento observado es menor).\n",
        "    $$ H_a: \\mu < 2 $$\n",
        "\n",
        "*   **Nivel de Significancia ($\\alpha$):** 0.10"
      ]
    },
    {
      "cell_type": "markdown",
      "metadata": {
        "id": "2e0440d0"
      },
      "source": [
        "**2. Identificación del Estadístico de Prueba y su Distribución:**\n",
        "\n",
        "Dado que no conocemos la desviación estándar poblacional ($\\sigma$) y el tamaño de la muestra es pequeño ($n=8 < 30$), utilizamos el estadístico de prueba t. Bajo la hipótesis nula, este estadístico sigue una distribución t de Student con $n-1$ grados de libertad.\n",
        "\n",
        "Fórmula del estadístico t:\n",
        "$$ t = \\frac{\\bar{x} - \\mu_0}{s / \\sqrt{n}} $$\n",
        "\n",
        "Donde:\n",
        "- $\\bar{x}$ es la media muestral.\n",
        "- $\\mu_0$ es la media poblacional bajo la hipótesis nula ($H_0$).\n",
        "- $s$ es la desviación estándar muestral.\n",
        "- $n$ es el tamaño de la muestra."
      ]
    },
    {
      "cell_type": "code",
      "metadata": {
        "id": "7c76797e"
      },
      "source": [
        "import numpy as np\n",
        "from scipy.stats import t\n",
        "import matplotlib.pyplot as plt\n",
        "\n",
        "# Datos del problema (Ejercicio 29)\n",
        "media_muestral_ej29 = 1.5  # mg/dL\n",
        "media_poblacional_h0_ej29 = 2  # mg/dL (valor bajo H0)\n",
        "desviacion_estandar_muestral_ej29 = 0.6  # mg/dL\n",
        "tamano_muestra_ej29 = 8\n",
        "nivel_significancia_ej29 = 0.10\n",
        "\n",
        "# Grados de libertad\n",
        "grados_libertad_ej29 = tamano_muestra_ej29 - 1\n",
        "\n",
        "# 3. Cálculo del Estadístico de Prueba t\n",
        "error_estandar_ej29 =  desviacion_estandar_muestral_ej29 / np.sqrt(tamano_muestra_ej29)\n",
        "estadistico_t_ej29 = (media_muestral_ej29 - media_poblacional_h0_ej29) / error_estandar_ej29\n",
        "\n",
        "print(f\"Estadístico de Prueba t: {estadistico_t_ej29:.4f}\")\n",
        "print(f\"Grados de Libertad: {grados_libertad_ej29}\")\n",
        "\n",
        "# 4. Determinación del Valor Crítico y la Región de Rechazo\n",
        "# Para una prueba unilateral izquierda con distribución t, el valor crítico t es el valor tal que el área a su izquierda es alpha.\n",
        "valor_critico_t_ej29 = t.ppf(nivel_significancia_ej29, grados_libertad_ej29)\n",
        "\n",
        "print(f\"Valor Crítico t (para α={nivel_significancia_ej29} y df={grados_libertad_ej29}): {valor_critico_t_ej29:.4f}\")\n",
        "print(\"Región de Rechazo: Rechazar H0 si t_calculado <= t_critico\")\n",
        "\n",
        "# 5. Cálculo del Valor p\n",
        "# Para una prueba unilateral izquierda con distribución t, el valor p es el área a la izquierda del estadístico t calculado.\n",
        "valor_p_ej29 = t.cdf(estadistico_t_ej29, grados_libertad_ej29)\n",
        "\n",
        "print(f\"Valor p: {valor_p_ej29:.4f}\")"
      ],
      "execution_count": null,
      "outputs": []
    },
    {
      "cell_type": "markdown",
      "metadata": {
        "id": "ee0025cf"
      },
      "source": [
        "**4. Determinación del Valor Crítico y la Región de Rechazo (reiteración para claridad):**\n",
        "\n",
        "*   **Grados de Libertad:** ${grados_libertad_ej29}$\n",
        "*   **Valor Crítico t:** ${valor_critico_t_ej29:.4f}$\n",
        "*   **Región de Rechazo:** Rechazamos la hipótesis nula ($H_0$) si el estadístico de prueba t calculado es menor o igual al valor crítico t. En este caso, si $t_{calculado} \\le {valor_critico_t_ej29:.4f}$.\n",
        "\n",
        "**5. Cálculo del Estadístico de Prueba y el Valor p (reiteración para claridad):**\n",
        "\n",
        "*   **Estadístico de Prueba t calculado:** ${estadistico_t_ej29:.4f}$\n",
        "*   **Valor p:** ${valor_p_ej29:.4f}$"
      ]
    },
    {
      "cell_type": "markdown",
      "metadata": {
        "id": "1dfe3354"
      },
      "source": [
        "**6. Gráfico de la Distribución:**\n",
        "\n",
        "Visualicemos la distribución t de Student, el valor crítico, la región de rechazo y el estadístico de prueba calculado."
      ]
    },
    {
      "cell_type": "code",
      "metadata": {
        "id": "99d01aba"
      },
      "source": [
        "# Generar valores para el eje x de la distribución t\n",
        "x = np.linspace(-4, 4, 1000)\n",
        "y = t.pdf(x, grados_libertad_ej29) # PDF de la distribución t\n",
        "\n",
        "plt.figure(figsize=(10, 6))\n",
        "plt.plot(x, y, label=f'Distribución t (df={grados_libertad_ej29})')\n",
        "\n",
        "# Rellenar la región de rechazo (área a la izquierda del valor crítico)\n",
        "x_rechazo = np.linspace(-4, valor_critico_t_ej29, 100)\n",
        "y_rechazo = t.pdf(x_rechazo, grados_libertad_ej29)\n",
        "plt.fill_between(x_rechazo, y_rechazo, color='red', alpha=0.5, label='Región de Rechazo (α=0.10)')\n",
        "\n",
        "# Marcar el valor crítico\n",
        "plt.axvline(valor_critico_t_ej29, color='red', linestyle='--', label=f'Valor Crítico t = {valor_critico_t_ej29:.4f}')\n",
        "\n",
        "# Marcar el estadístico de prueba calculado\n",
        "plt.axvline(estadistico_t_ej29, color='blue', linestyle='-', label=f'Estadístico t Calculado = {estadistico_t_ej29:.4f}')\n",
        "\n",
        "# Añadir etiquetas y título\n",
        "plt.title(f'Distribución t de Student con Región de Rechazo (df={grados_libertad_ej29})')\n",
        "plt.xlabel('Valor de t')\n",
        "plt.ylabel('Densidad de Probabilidad')\n",
        "plt.legend()\n",
        "plt.grid(True)\n",
        "plt.show()"
      ],
      "execution_count": null,
      "outputs": []
    },
    {
      "cell_type": "markdown",
      "metadata": {
        "id": "d9c1e2ee"
      },
      "source": [
        "**7. Decisión Estadística y Conclusión Práctica:**\n",
        "\n",
        "*   **Decisión Estadística (usando el valor crítico):**\n",
        "    Comparamos el estadístico de prueba calculado (${estadistico_t_ej29:.4f}$) con el valor crítico (${valor_critico_t_ej29:.4f}$).\n",
        "    Dado que ${estadistico_t_ej29:.4f} > {valor_critico_t_ej29:.4f}$, el estadístico de prueba *no* cae en la región de rechazo. Por lo tanto, **no rechazamos la hipótesis nula ($H_0$)**.\n",
        "\n",
        "*   **Decisión Estadística (usando el valor p):**\n",
        "    Comparamos el valor p (${valor_p_ej29:.4f}$) con el nivel de significancia ($\\alpha = 0.10$).\n",
        "    Dado que el valor p (${valor_p_ej29:.4f}$) es mayor que $\\alpha$ (0.10), **no rechazamos la hipótesis nula ($H_0$)**.\n",
        "\n",
        "*   **Conclusión Práctica:**\n",
        "    Con un nivel de significancia del 0.10, no hay suficiente evidencia estadística para rechazar la afirmación de que el suplemento aumenta el nivel de hierro en la sangre en 2 mg/dL en promedio. El aumento promedio observado de 1.5 mg/dL en la muestra de 8 pacientes podría deberse a la variabilidad aleatoria de la muestra.\n",
        "*   **Significado del Valor p:**\n",
        "    El valor p (${valor_p_ej29:.4f}$) representa la probabilidad de obtener un aumento promedio de 1.5 mg/dL (o un aumento aún menor) si la hipótesis nula fuera cierta (es decir, si el verdadero aumento promedio fuera 2 mg/dL). Un valor p relativamente grande (mayor que 0.10) indica que observar un aumento promedio de 1.5 mg/dL no es un evento inusual si el suplemento realmente aumenta el hierro en 2 mg/dL en promedio.\n",
        "\n",
        "* * *"
      ]
    },
    {
      "cell_type": "markdown",
      "metadata": {
        "id": "1aa4fbd3"
      },
      "source": [
        "* * *\n",
        "\n",
        "## Ejercicio 30: Duración de focos (prueba unilateral izquierda con t)\n",
        "\n",
        "Siguiendo el procedimiento para pruebas de hipótesis:\n",
        "\n",
        "**1. Definición de Hipótesis y Nivel de Significancia:**\n",
        "\n",
        "*   **Hipótesis Nula ($H_0$):** La duración promedio de los focos es igual a 10,000 horas.\n",
        "    $$ H_0: \\mu = 10000 $$\n",
        "*   **Hipótesis Alternativa ($H_a$):** La duración promedio de los focos es menor que 10,000 horas (prueba unilateral izquierda, ya que la media muestral es menor).\n",
        "    $$ H_a: \\mu < 10000 $$\n",
        "\n",
        "*   **Nivel de Significancia ($\\alpha$):** 0.05"
      ]
    },
    {
      "cell_type": "markdown",
      "metadata": {
        "id": "931c65b0"
      },
      "source": [
        "**2. Identificación del Estadístico de Prueba y su Distribución:**\n",
        "\n",
        "Dado que no conocemos la desviación estándar poblacional ($\\sigma$) y el tamaño de la muestra es pequeño ($n=20 < 30$), utilizamos el estadístico de prueba t. Bajo la hipótesis nula, este estadístico sigue una distribución t de Student con $n-1$ grados de libertad.\n",
        "\n",
        "Fórmula del estadístico t:\n",
        "$$ t = \\frac{\\bar{x} - \\mu_0}{s / \\sqrt{n}} $$\n",
        "\n",
        "Donde:\n",
        "- $\\bar{x}$ es la media muestral.\n",
        "- $\\mu_0$ es la media poblacional bajo la hipótesis nula ($H_0$).\n",
        "- $s$ es la desviación estándar muestral.\n",
        "- $n$ es el tamaño de la muestra."
      ]
    },
    {
      "cell_type": "code",
      "metadata": {
        "id": "12c5f35f"
      },
      "source": [
        "import numpy as np\n",
        "from scipy.stats import t\n",
        "import matplotlib.pyplot as plt\n",
        "\n",
        "# Datos del problema (Ejercicio 30)\n",
        "media_muestral_ej30 = 9800  # horas\n",
        "media_poblacional_h0_ej30 = 10000  # horas (valor bajo H0)\n",
        "desviacion_estandar_muestral_ej30 = 300  # horas\n",
        "tamano_muestra_ej30 = 20\n",
        "nivel_significancia_ej30 = 0.05\n",
        "\n",
        "# Grados de libertad\n",
        "grados_libertad_ej30 = tamano_muestra_ej30 - 1\n",
        "\n",
        "# 3. Cálculo del Estadístico de Prueba t\n",
        "error_estandar_ej30 =  desviacion_estandar_muestral_ej30 / np.sqrt(tamano_muestra_ej30)\n",
        "estadistico_t_ej30 = (media_muestral_ej30 - media_poblacional_h0_ej30) / error_estandar_ej30\n",
        "\n",
        "print(f\"Estadístico de Prueba t: {estadistico_t_ej30:.4f}\")\n",
        "print(f\"Grados de Libertad: {grados_libertad_ej30}\")\n",
        "\n",
        "# 4. Determinación del Valor Crítico y la Región de Rechazo\n",
        "# Para una prueba unilateral izquierda con distribución t, el valor crítico t es el valor tal que el área a su izquierda es alpha.\n",
        "valor_critico_t_ej30 = t.ppf(nivel_significancia_ej30, grados_libertad_ej30)\n",
        "\n",
        "print(f\"Valor Crítico t (para α={nivel_significancia_ej30} y df={grados_libertad_ej30}): {valor_critico_t_ej30:.4f}\")\n",
        "print(\"Región de Rechazo: Rechazar H0 si t_calculado <= t_critico\")\n",
        "\n",
        "# 5. Cálculo del Valor p\n",
        "# Para una prueba unilateral izquierda con distribución t, el valor p es el área a la izquierda del estadístico t calculado.\n",
        "valor_p_ej30 = t.cdf(estadistico_t_ej30, grados_libertad_ej30)\n",
        "\n",
        "print(f\"Valor p: {valor_p_ej30:.4f}\")"
      ],
      "execution_count": null,
      "outputs": []
    },
    {
      "cell_type": "markdown",
      "metadata": {
        "id": "36a60f66"
      },
      "source": [
        "**4. Determinación del Valor Crítico y la Región de Rechazo (reiteración para claridad):**\n",
        "\n",
        "*   **Grados de Libertad:** ${grados_libertad_ej30}$\n",
        "*   **Valor Crítico t:** ${valor_critico_t_ej30:.4f}$\n",
        "*   **Región de Rechazo:** Rechazamos la hipótesis nula ($H_0$) si el estadístico de prueba t calculado es menor o igual al valor crítico t. En este caso, si $t_{calculado} \\le {valor_critico_t_ej30:.4f}$.\n",
        "\n",
        "**5. Cálculo del Estadístico de Prueba y el Valor p (reiteración para claridad):**\n",
        "\n",
        "*   **Estadístico de Prueba t calculado:** ${estadistico_t_ej30:.4f}$\n",
        "*   **Valor p:** ${valor_p_ej30:.4f}$"
      ]
    },
    {
      "cell_type": "markdown",
      "metadata": {
        "id": "deb9ce9a"
      },
      "source": [
        "**6. Gráfico de la Distribución:**\n",
        "\n",
        "Visualicemos la distribución t de Student, el valor crítico, la región de rechazo y el estadístico de prueba calculado."
      ]
    },
    {
      "cell_type": "code",
      "metadata": {
        "id": "2c45d0bb"
      },
      "source": [
        "# Generar valores para el eje x de la distribución t\n",
        "x = np.linspace(-4, 4, 1000)\n",
        "y = t.pdf(x, grados_libertad_ej30) # PDF de la distribución t\n",
        "\n",
        "plt.figure(figsize=(10, 6))\n",
        "plt.plot(x, y, label=f'Distribución t (df={grados_libertad_ej30})')\n",
        "\n",
        "# Rellenar la región de rechazo (área a la izquierda del valor crítico)\n",
        "x_rechazo = np.linspace(-4, valor_critico_t_ej30, 100)\n",
        "y_rechazo = t.pdf(x_rechazo, grados_libertad_ej30)\n",
        "plt.fill_between(x_rechazo, y_rechazo, color='red', alpha=0.5, label='Región de Rechazo (α=0.05)')\n",
        "\n",
        "# Marcar el valor crítico\n",
        "plt.axvline(valor_critico_t_ej30, color='red', linestyle='--', label=f'Valor Crítico t = {valor_critico_t_ej30:.4f}')\n",
        "\n",
        "# Marcar el estadístico de prueba calculado\n",
        "plt.axvline(estadistico_t_ej30, color='blue', linestyle='-', label=f'Estadístico t Calculado = {estadistico_t_ej30:.4f}')\n",
        "\n",
        "# Añadir etiquetas y título\n",
        "plt.title(f'Distribución t de Student con Región de Rechazo (df={grados_libertad_ej30})')\n",
        "plt.xlabel('Valor de t')\n",
        "plt.ylabel('Densidad de Probabilidad')\n",
        "plt.legend()\n",
        "plt.grid(True)\n",
        "plt.show()"
      ],
      "execution_count": null,
      "outputs": []
    },
    {
      "cell_type": "markdown",
      "metadata": {
        "id": "71bad151"
      },
      "source": [
        "**7. Decisión Estadística y Conclusión Práctica:**\n",
        "\n",
        "*   **Decisión Estadística (usando el valor crítico):**\n",
        "    Comparamos el estadístico de prueba calculado (${estadistico_t_ej30:.4f}$) con el valor crítico (${valor_critico_t_ej30:.4f}$).\n",
        "    Dado que ${estadistico_t_ej30:.4f} > {valor_critico_t_ej30:.4f}$, el estadístico de prueba *no* cae en la región de rechazo. Por lo tanto, **no rechazamos la hipótesis nula ($H_0$)**.\n",
        "\n",
        "*   **Decisión Estadística (usando el valor p):**\n",
        "    Comparamos el valor p (${valor_p_ej30:.4f}$) con el nivel de significancia ($\\alpha = 0.05$).\n",
        "    Dado que el valor p (${valor_p_ej30:.4f}$) es mayor que $\\alpha$ (0.05), **no rechazamos la hipótesis nula ($H_0$)**.\n",
        "\n",
        "*   **Conclusión Práctica:**\n",
        "    Con un nivel de significancia del 0.05, no hay suficiente evidencia estadística para rechazar la afirmación del fabricante de que sus focos duran 10,000 horas en promedio. La media muestral observada de 9,800 horas podría deberse a la variabilidad aleatoria de la muestra.\n",
        "*   **Significado del Valor p:**\n",
        "    El valor p (${valor_p_ej30:.4f}$) representa la probabilidad de obtener una media muestral de 9,800 horas (o una media aún menor) si la hipótesis nula fuera cierta (es decir, si la verdadera duración promedio fuera 10,000 horas). Un valor p relativamente grande (mayor que 0.05) indica que observar una media muestral de 9,800 horas no es un evento inusual si el verdadero promedio poblacional es 10,000 horas.\n",
        "\n",
        "* * *"
      ]
    },
    {
      "cell_type": "markdown",
      "metadata": {
        "id": "dfa90f03"
      },
      "source": [
        "* * *\n",
        "\n",
        "## Ejercicio 31: Varianza del tiempo de duración de llamadas (prueba bilateral con χ²)\n",
        "\n",
        "Siguiendo el procedimiento para pruebas de hipótesis:\n",
        "\n",
        "**1. Definición de Hipótesis y Nivel de Significancia:**\n",
        "\n",
        "*   **Hipótesis Nula ($H_0$):** La varianza poblacional del tiempo de duración de las llamadas es igual a 2.5 minutos².\n",
        "    $$ H_0: \\sigma^2 = 2.5 $$\n",
        "*   **Hipótesis Alternativa ($H_a$):** La varianza poblacional del tiempo de duración de las llamadas es diferente de 2.5 minutos² (prueba bilateral).\n",
        "    $$ H_a: \\sigma^2 \\ne 2.5 $$\n",
        "\n",
        "*   **Nivel de Significancia ($\\alpha$):** 0.05"
      ]
    },
    {
      "cell_type": "markdown",
      "metadata": {
        "id": "ac164121"
      },
      "source": [
        "**2. Identificación del Estadístico de Prueba y su Distribución:**\n",
        "\n",
        "Para probar una hipótesis sobre la varianza poblacional ($\\sigma^2$) cuando se tiene una muestra aleatoria de una población normal, utilizamos el estadístico de prueba Chi-cuadrado ($\\chi^2$). Bajo la hipótesis nula, este estadístico sigue una distribución Chi-cuadrado con $n-1$ grados de libertad.\n",
        "\n",
        "Fórmula del estadístico $\\chi^2$:\n",
        "$$ \\chi^2 = \\frac{(n-1)s^2}{\\sigma_0^2} $$\n",
        "\n",
        "Donde:\n",
        "- $n$ es el tamaño de la muestra.\n",
        "- $s^2$ es la varianza muestral.\n",
        "- $\\sigma_0^2$ es la varianza poblacional bajo la hipótesis nula ($H_0$)."
      ]
    },
    {
      "cell_type": "code",
      "metadata": {
        "id": "3e720c35"
      },
      "source": [
        "import numpy as np\n",
        "from scipy.stats import chi2\n",
        "import matplotlib.pyplot as plt\n",
        "\n",
        "# Datos del problema (Ejercicio 31)\n",
        "varianza_poblacional_h0_ej31 = 2.5  # minutos^2 (valor bajo H0)\n",
        "varianza_muestral_ej31 = 4  # minutos^2\n",
        "tamano_muestra_ej31 = 16\n",
        "nivel_significancia_ej31 = 0.05\n",
        "\n",
        "# Grados de libertad\n",
        "grados_libertad_ej31 = tamano_muestra_ej31 - 1\n",
        "\n",
        "# 3. Cálculo del Estadístico de Prueba Chi-cuadrado\n",
        "estadistico_chi2_ej31 = (grados_libertad_ej31 * varianza_muestral_ej31) / varianza_poblacional_h0_ej31\n",
        "\n",
        "print(f\"Estadístico de Prueba χ²: {estadistico_chi2_ej31:.4f}\")\n",
        "print(f\"Grados de Libertad: {grados_libertad_ej31}\")\n",
        "\n",
        "# 4. Determinación de los Valores Críticos y las Regiones de Rechazo\n",
        "# Para una prueba bilateral con distribución χ², tenemos dos valores críticos.\n",
        "# El área en la cola izquierda es alpha / 2, y el área en la cola derecha es alpha / 2.\n",
        "valor_critico_chi2_inferior_ej31 = chi2.ppf(nivel_significancia_ej31 / 2, grados_libertad_ej31)\n",
        "valor_critico_chi2_superior_ej31 = chi2.ppf(1 - nivel_significancia_ej31 / 2, grados_libertad_ej31)\n",
        "\n",
        "print(f\"Valores Críticos χ² (para α={nivel_significancia_ej31} y df={grados_libertad_ej31}): [{valor_critico_chi2_inferior_ej31:.4f}, {valor_critico_chi2_superior_ej31:.4f}]\")\n",
        "print(\"Región de Rechazo: Rechazar H0 si χ²_calculado <= χ²_critico_inferior o χ²_calculado >= χ²_critico_superior\")\n",
        "\n",
        "# 5. Cálculo del Valor p\n",
        "# Para una prueba bilateral con distribución χ², el valor p es el doble del área en la cola más allá del estadístico χ² calculado.\n",
        "# Si el estadístico está a la izquierda del centro (df), calculamos 2 * P(χ² <= estadistico).\n",
        "# Si el estadístico está a la derecha del centro (df), calculamos 2 * P(χ² >= estadistico) = 2 * (1 - P(χ² <= estadistico)).\n",
        "# Una forma más robusta es tomar el área de la cola más pequeña y multiplicarla por 2.\n",
        "valor_p_ej31 = 2 * min(chi2.cdf(estadistico_chi2_ej31, grados_libertad_ej31), 1 - chi2.cdf(estadistico_chi2_ej31, grados_libertad_ej31))\n",
        "\n",
        "print(f\"Valor p: {valor_p_ej31:.4f}\")"
      ],
      "execution_count": null,
      "outputs": []
    },
    {
      "cell_type": "markdown",
      "metadata": {
        "id": "edd7ffc7"
      },
      "source": [
        "**4. Determinación de los Valores Críticos y las Regiones de Rechazo (reiteración para claridad):**\n",
        "\n",
        "*   **Grados de Libertad:** ${grados_libertad_ej31}$\n",
        "*   **Valores Críticos χ²:** ${valor_critico_chi2_inferior_ej31:.4f}$ y ${valor_critico_chi2_superior_ej31:.4f}$\n",
        "*   **Regiones de Rechazo:** Rechazamos la hipótesis nula ($H_0$) si el estadístico de prueba $\\chi^2$ calculado es menor o igual a ${valor_critico_chi2_inferior_ej31:.4f}$ o mayor o igual a ${valor_critico_chi2_superior_ej31:.4f}$.\n",
        "\n",
        "**5. Cálculo del Estadístico de Prueba y el Valor p (reiteración para claridad):**\n",
        "\n",
        "*   **Estadístico de Prueba χ² calculado:** ${estadistico_chi2_ej31:.4f}$\n",
        "*   **Valor p:** ${valor_p_ej31:.4f}$"
      ]
    },
    {
      "cell_type": "markdown",
      "metadata": {
        "id": "f95b7ea9"
      },
      "source": [
        "**6. Gráfico de la Distribución:**\n",
        "\n",
        "Visualicemos la distribución Chi-cuadrado, los valores críticos, las regiones de rechazo y el estadístico de prueba calculado."
      ]
    },
    {
      "cell_type": "code",
      "metadata": {
        "id": "7dbf8670"
      },
      "source": [
        "# Generar valores para el eje x de la distribución Chi-cuadrado\n",
        "# La distribución Chi-cuadrado es asimétrica y solo toma valores no negativos.\n",
        "# El rango del eje x puede variar dependiendo de los grados de libertad.\n",
        "# Un rango común es desde 0 hasta un valor que cubre la mayor parte de la distribución,\n",
        "# como el percentil 99.9 o un poco más allá del valor crítico superior.\n",
        "x = np.linspace(0, chi2.ppf(0.999, grados_libertad_ej31) + 5, 1000)\n",
        "y = chi2.pdf(x, grados_libertad_ej31) # PDF de la distribución Chi-cuadrado\n",
        "\n",
        "plt.figure(figsize=(10, 6))\n",
        "plt.plot(x, y, label=f'Distribución χ² (df={grados_libertad_ej31})')\n",
        "\n",
        "# Rellenar las regiones de rechazo (áreas en ambas colas)\n",
        "x_rechazo_inferior = np.linspace(0, valor_critico_chi2_inferior_ej31, 100)\n",
        "y_rechazo_inferior = chi2.pdf(x_rechazo_inferior, grados_libertad_ej31)\n",
        "plt.fill_between(x_rechazo_inferior, y_rechazo_inferior, color='red', alpha=0.5, label=f'Región de Rechazo (α/2={nivel_significancia_ej31/2:.3f})')\n",
        "\n",
        "x_rechazo_superior = np.linspace(valor_critico_chi2_superior_ej31, chi2.ppf(0.999, grados_libertad_ej31) + 5, 100)\n",
        "y_rechazo_superior = chi2.pdf(x_rechazo_superior, grados_libertad_ej31)\n",
        "plt.fill_between(x_rechazo_superior, y_rechazo_superior, color='red', alpha=0.5) # No repetir label\n",
        "\n",
        "# Marcar los valores críticos\n",
        "plt.axvline(valor_critico_chi2_inferior_ej31, color='red', linestyle='--', label=f'Valores Críticos χ² = {valor_critico_chi2_inferior_ej31:.4f}, {valor_critico_chi2_superior_ej31:.4f}')\n",
        "plt.axvline(valor_critico_chi2_superior_ej31, color='red', linestyle='--')\n",
        "\n",
        "# Marcar el estadístico de prueba calculado\n",
        "plt.axvline(estadistico_chi2_ej31, color='blue', linestyle='-', label=f'Estadístico χ² Calculado = {estadistico_chi2_ej31:.4f}')\n",
        "\n",
        "# Añadir etiquetas y título\n",
        "plt.title(f'Distribución χ² con Regiones de Rechazo (df={grados_libertad_ej31}, Prueba Bilateral)')\n",
        "plt.xlabel('Valor de χ²')\n",
        "plt.ylabel('Densidad de Probabilidad')\n",
        "plt.legend()\n",
        "plt.grid(True)\n",
        "plt.show()"
      ],
      "execution_count": null,
      "outputs": []
    },
    {
      "cell_type": "markdown",
      "metadata": {
        "id": "fab000ef"
      },
      "source": [
        "**7. Decisión Estadística y Conclusión Práctica:**\n",
        "\n",
        "*   **Decisión Estadística (usando los valores críticos):**\n",
        "    Comparamos el estadístico de prueba calculado (${estadistico_chi2_ej31:.4f}$) con los valores críticos (${valor_critico_chi2_inferior_ej31:.4f}$ y ${valor_critico_chi2_superior_ej31:.4f}$).\n",
        "    Dado que ${estadistico_chi2_ej31:.4f} > ${valor_critico_chi2_superior_ej31:.4f}$, el estadístico de prueba cae en la región de rechazo superior. Por lo tanto, **rechazamos la hipótesis nula ($H_0$)**.\n",
        "\n",
        "*   **Decisión Estadística (usando el valor p):**\n",
        "    Comparamos el valor p (${valor_p_ej31:.4f}$) con el nivel de significancia ($\\alpha = 0.05$).\n",
        "    Dado que el valor p (${valor_p_ej31:.4f}$) es menor que $\\alpha$ (0.05), **rechazamos la hipótesis nula ($H_0$)**.\n",
        "\n",
        "*   **Conclusión Práctica:**\n",
        "    Con un nivel de significancia del 0.05, hay suficiente evidencia estadística para rechazar la afirmación de la compañía de telefonía de que la varianza del tiempo de duración de las llamadas es de 2.5 minutos². La evidencia sugiere que la varianza poblacional es significativamente diferente de 2.5, y específicamente, la varianza muestral observada sugiere que es mayor.\n",
        "\n",
        "*   **Significado del Valor p:**\n",
        "    El valor p (${valor_p_ej31:.4f}$) representa la probabilidad de obtener una varianza muestral tan extrema o más extrema (es decir, una varianza de 4 o más, o una varianza muy pequeña) si la hipótesis nula fuera cierta (es decir, si la verdadera varianza poblacional fuera 2.5). Un valor p tan pequeño indica que es muy improbable observar una varianza muestral de 4 por pura casualidad si la verdadera varianza poblacional fuera 2.5.\n",
        "\n",
        "* * *"
      ]
    },
    {
      "cell_type": "markdown",
      "metadata": {
        "id": "5eb52cb0"
      },
      "source": [
        "* * *\n",
        "\n",
        "## Ejercicio 32: Varianza del llenado de botellas (prueba unilateral derecha con χ²)\n",
        "\n",
        "Siguiendo el procedimiento para pruebas de hipótesis:\n",
        "\n",
        "**1. Definición de Hipótesis y Nivel de Significancia:**\n",
        "\n",
        "*   **Hipótesis Nula ($H_0$):** La varianza poblacional del llenado de botellas es igual a 1.2 ml².\n",
        "    $$ H_0: \\sigma^2 = 1.2 $$\n",
        "*   **Hipótesis Alternativa ($H_a$):** La varianza poblacional del llenado de botellas es mayor que 1.2 ml² (prueba unilateral derecha).\n",
        "    $$ H_a: \\sigma^2 > 1.2 $$\n",
        "\n",
        "*   **Nivel de Significancia ($\\alpha$):** 0.01"
      ]
    },
    {
      "cell_type": "markdown",
      "metadata": {
        "id": "684b3d33"
      },
      "source": [
        "**2. Identificación del Estadístico de Prueba y su Distribución:**\n",
        "\n",
        "Para probar una hipótesis sobre la varianza poblacional ($\\sigma^2$) cuando se tiene una muestra aleatoria de una población normal, utilizamos el estadístico de prueba Chi-cuadrado ($\\chi^2$). Bajo la hipótesis nula, este estadístico sigue una distribución Chi-cuadrado con $n-1$ grados de libertad.\n",
        "\n",
        "Fórmula del estadístico $\\chi^2$:\n",
        "$$ \\chi^2 = \\frac{(n-1)s^2}{\\sigma_0^2} $$\n",
        "\n",
        "Donde:\n",
        "- $n$ es el tamaño de la muestra.\n",
        "- $s^2$ es la varianza muestral.\n",
        "- $\\sigma_0^2$ es la varianza poblacional bajo la hipótesis nula ($H_0$)."
      ]
    },
    {
      "cell_type": "code",
      "metadata": {
        "id": "faef2e8c"
      },
      "source": [
        "import numpy as np\n",
        "from scipy.stats import chi2\n",
        "import matplotlib.pyplot as plt\n",
        "\n",
        "# Datos del problema (Ejercicio 32)\n",
        "varianza_poblacional_h0_ej32 = 1.2  # ml^2 (valor bajo H0)\n",
        "varianza_muestral_ej32 = 2.0  # ml^2\n",
        "tamano_muestra_ej32 = 20\n",
        "nivel_significancia_ej32 = 0.01\n",
        "\n",
        "# Grados de libertad\n",
        "grados_libertad_ej32 = tamano_muestra_ej32 - 1\n",
        "\n",
        "# 3. Cálculo del Estadístico de Prueba Chi-cuadrado\n",
        "estadistico_chi2_ej32 = (grados_libertad_ej32 * varianza_muestral_ej32) / varianza_poblacional_h0_ej32\n",
        "\n",
        "print(f\"Estadístico de Prueba χ²: {estadistico_chi2_ej32:.4f}\")\n",
        "print(f\"Grados de Libertad: {grados_libertad_ej32}\")\n",
        "\n",
        "# 4. Determinación del Valor Crítico y la Región de Rechazo\n",
        "# Para una prueba unilateral derecha con distribución χ², el valor crítico χ² es el valor tal que el área a su derecha es alpha.\n",
        "valor_critico_chi2_ej32 = chi2.ppf(1 - nivel_significancia_ej32, grados_libertad_ej32)\n",
        "\n",
        "print(f\"Valor Crítico χ² (para α={nivel_significancia_ej32} y df={grados_libertad_ej32}): {valor_critico_chi2_ej32:.4f}\")\n",
        "print(\"Región de Rechazo: Rechazar H0 si χ²_calculado >= χ²_critico\")\n",
        "\n",
        "# 5. Cálculo del Valor p\n",
        "# Para una prueba unilateral derecha con distribución χ², el valor p es el área a la derecha del estadístico χ² calculado.\n",
        "valor_p_ej32 = 1 - chi2.cdf(estadistico_chi2_ej32, grados_libertad_ej32)\n",
        "\n",
        "print(f\"Valor p: {valor_p_ej32:.4f}\")"
      ],
      "execution_count": null,
      "outputs": []
    },
    {
      "cell_type": "markdown",
      "metadata": {
        "id": "9bbfe16e"
      },
      "source": [
        "**4. Determinación del Valor Crítico y la Región de Rechazo (reiteración para claridad):**\n",
        "\n",
        "*   **Grados de Libertad:** ${grados_libertad_ej32}$\n",
        "*   **Valor Crítico χ²:** ${valor_critico_chi2_ej32:.4f}$\n",
        "*   **Región de Rechazo:** Rechazamos la hipótesis nula ($H_0$) si el estadístico de prueba $\\chi^2$ calculado es mayor o igual al valor crítico $\\chi^2$. En este caso, si $\\chi^2_{calculado} \\ge {valor_critico_chi2_ej32:.4f}$.\n",
        "\n",
        "**5. Cálculo del Estadístico de Prueba y el Valor p (reiteración para claridad):**\n",
        "\n",
        "*   **Estadístico de Prueba χ² calculado:** ${estadistico_chi2_ej32:.4f}$\n",
        "*   **Valor p:** ${valor_p_ej32:.4f}$"
      ]
    },
    {
      "cell_type": "markdown",
      "metadata": {
        "id": "0621119b"
      },
      "source": [
        "**6. Gráfico de la Distribución:**\n",
        "\n",
        "Visualicemos la distribución Chi-cuadrado, el valor crítico, la región de rechazo y el estadístico de prueba calculado."
      ]
    },
    {
      "cell_type": "code",
      "metadata": {
        "id": "a93d8d52"
      },
      "source": [
        "# Generar valores para el eje x de la distribución Chi-cuadrado\n",
        "# La distribución Chi-cuadrado es asimétrica y solo toma valores no negativos.\n",
        "# El rango del eje x puede variar dependiendo de los grados de libertad.\n",
        "# Un rango común es desde 0 hasta un valor que cubre la mayor parte de la distribución,\n",
        "# como el percentil 99.9 o un poco más allá del valor crítico superior.\n",
        "x = np.linspace(0, chi2.ppf(0.999, grados_libertad_ej32) + 5, 1000) # Ajustar rango\n",
        "y = chi2.pdf(x, grados_libertad_ej32) # PDF de la distribución Chi-cuadrado\n",
        "\n",
        "plt.figure(figsize=(10, 6))\n",
        "plt.plot(x, y, label=f'Distribución χ² (df={grados_libertad_ej32})')\n",
        "\n",
        "# Rellenar la región de rechazo (área a la derecha del valor crítico)\n",
        "x_rechazo = np.linspace(valor_critico_chi2_ej32, chi2.ppf(0.999, grados_libertad_ej32) + 5, 100) # Ajustar rango\n",
        "y_rechazo = chi2.pdf(x_rechazo, grados_libertad_ej32)\n",
        "plt.fill_between(x_rechazo, y_rechazo, color='red', alpha=0.5, label='Región de Rechazo (α=0.01)')\n",
        "\n",
        "# Marcar el valor crítico\n",
        "plt.axvline(valor_critico_chi2_ej32, color='red', linestyle='--', label=f'Valor Crítico χ² = {valor_critico_chi2_ej32:.4f}')\n",
        "\n",
        "# Marcar el estadístico de prueba calculado\n",
        "plt.axvline(estadistico_chi2_ej32, color='blue', linestyle='-', label=f'Estadístico χ² Calculado = {estadistico_chi2_ej32:.4f}')\n",
        "\n",
        "# Añadir etiquetas y título\n",
        "plt.title(f'Distribución χ² con Región de Rechazo (df={grados_libertad_ej32}, Prueba Unilateral Derecha)')\n",
        "plt.xlabel('Valor de χ²')\n",
        "plt.ylabel('Densidad de Probabilidad')\n",
        "plt.legend()\n",
        "plt.grid(True)\n",
        "plt.show()"
      ],
      "execution_count": null,
      "outputs": []
    },
    {
      "cell_type": "markdown",
      "metadata": {
        "id": "e0bc08ec"
      },
      "source": [
        "**7. Decisión Estadística y Conclusión Práctica:**\n",
        "\n",
        "*   **Decisión Estadística (usando el valor crítico):**\n",
        "    Comparamos el estadístico de prueba calculado (${estadistico_chi2_ej32:.4f}$) con el valor crítico (${valor_critico_chi2_ej32:.4f}$).\n",
        "    Dado que ${estadistico_chi2_ej32:.4f} > {valor_critico_chi2_ej32:.4f}$, el estadístico de prueba cae en la región de rechazo. Por lo tanto, **rechazamos la hipótesis nula ($H_0$)**.\n",
        "\n",
        "*   **Decisión Estadística (usando el valor p):**\n",
        "    Comparamos el valor p (${valor_p_ej32:.4f}$) con el nivel de significancia ($\\alpha = 0.01$).\n",
        "    Dado que el valor p (${valor_p_ej32:.4f}$) es menor que $\\alpha$ (0.01), **rechazamos la hipótesis nula ($H_0$)**.\n",
        "\n",
        "*   **Conclusión Práctica:**\n",
        "    Con un nivel de significancia del 0.01, hay suficiente evidencia estadística para rechazar la afirmación de que la varianza del llenado de botellas es de 1.2 ml². La evidencia sugiere que la varianza poblacional es significativamente mayor a 1.2 ml², lo que indica un problema con la máquina embotelladora que necesita ser calibrada.\n",
        "*   **Significado del Valor p:**\n",
        "    El valor p (${valor_p_ej32:.4f}$) representa la probabilidad de obtener una varianza muestral de 2.0 ml² (o una mayor) si la hipótesis nula fuera cierta (es decir, si la verdadera varianza poblacional fuera 1.2 ml²). Un valor p tan pequeño indica que es muy improbable observar una varianza muestral de 2.0 por pura casualidad si la máquina estuviera funcionando correctamente.\n",
        "\n",
        "* * *"
      ]
    },
    {
      "cell_type": "markdown",
      "metadata": {
        "id": "f947eb02"
      },
      "source": [
        "* * *\n",
        "\n",
        "## Ejercicio 33: Varianza en el grosor de piezas metálicas (prueba unilateral izquierda con χ²)\n",
        "\n",
        "Siguiendo el procedimiento para pruebas de hipótesis:\n",
        "\n",
        "**1. Definición de Hipótesis y Nivel de Significancia:**\n",
        "\n",
        "*   **Hipótesis Nula ($H_0$):** La varianza poblacional en el grosor de las piezas metálicas es igual o mayor que 0.5 mm².\n",
        "    $$ H_0: \\sigma^2 \\ge 0.5 $$\n",
        "*   **Hipótesis Alternativa ($H_a$):** La varianza poblacional en el grosor de las piezas metálicas es menor que 0.5 mm² (prueba unilateral izquierda).\n",
        "    $$ H_a: \\sigma^2 < 0.5 $$\n",
        "\n",
        "*   **Nivel de Significancia ($\\alpha$):** 0.05"
      ]
    },
    {
      "cell_type": "markdown",
      "metadata": {
        "id": "bddd7dcc"
      },
      "source": [
        "* * *\n",
        "\n",
        "## Ejercicio 31: Varianza del tiempo de duración de llamadas (prueba bilateral con χ²)\n",
        "\n",
        "Siguiendo el procedimiento para pruebas de hipótesis:\n",
        "\n",
        "**1. Definición de Hipótesis y Nivel de Significancia:**\n",
        "\n",
        "*   **Hipótesis Nula ($H_0$):** La varianza poblacional del tiempo de duración de las llamadas es igual a 2.5 minutos².\n",
        "    $$ H_0: \\sigma^2 = 2.5 $$\n",
        "*   **Hipótesis Alternativa ($H_a$):** La varianza poblacional del tiempo de duración de las llamadas es diferente de 2.5 minutos² (prueba bilateral).\n",
        "    $$ H_a: \\sigma^2 \\ne 2.5 $$\n",
        "\n",
        "*   **Nivel de Significancia ($\\alpha$):** 0.05"
      ]
    },
    {
      "cell_type": "markdown",
      "metadata": {
        "id": "37b9b853"
      },
      "source": [
        "**2. Identificación del Estadístico de Prueba y su Distribución:**\n",
        "\n",
        "Para probar una hipótesis sobre la varianza poblacional ($\\sigma^2$) cuando se tiene una muestra aleatoria de una población normal, utilizamos el estadístico de prueba Chi-cuadrado ($\\chi^2$). Bajo la hipótesis nula, este estadístico sigue una distribución Chi-cuadrado con $n-1$ grados de libertad.\n",
        "\n",
        "Fórmula del estadístico $\\chi^2$:\n",
        "$$ \\chi^2 = \\frac{(n-1)s^2}{\\sigma_0^2} $$\n",
        "\n",
        "Donde:\n",
        "- $n$ es el tamaño de la muestra.\n",
        "- $s^2$ es la varianza muestral.\n",
        "- $\\sigma_0^2$ es la varianza poblacional bajo la hipótesis nula ($H_0$)."
      ]
    },
    {
      "cell_type": "markdown",
      "metadata": {
        "id": "707e7b21"
      },
      "source": [
        "**4. Determinación de los Valores Críticos y las Regiones de Rechazo (reiteración para claridad):**\n",
        "\n",
        "*   **Grados de Libertad:** ${grados_libertad_ej31}$\n",
        "*   **Valores Críticos χ²:** ${valor_critico_chi2_inferior_ej31:.4f}$ y ${valor_critico_chi2_superior_ej31:.4f}$\n",
        "*   **Regiones de Rechazo:** Rechazamos la hipótesis nula ($H_0$) si el estadístico de prueba $\\chi^2$ calculado es menor o igual a ${valor_critico_chi2_inferior_ej31:.4f}$ o mayor o igual a ${valor_critico_chi2_superior_ej31:.4f}$.\n",
        "\n",
        "**5. Cálculo del Estadístico de Prueba y el Valor p (reiteración para claridad):**\n",
        "\n",
        "*   **Estadístico de Prueba χ² calculado:** ${estadistico_chi2_ej31:.4f}$\n",
        "*   **Valor p:** ${valor_p_ej31:.4f}$"
      ]
    },
    {
      "cell_type": "markdown",
      "metadata": {
        "id": "76a48e46"
      },
      "source": [
        "**6. Gráfico de la Distribución:**\n",
        "\n",
        "Visualicemos la distribución Chi-cuadrado, los valores críticos, las regiones de rechazo y el estadístico de prueba calculado."
      ]
    },
    {
      "cell_type": "markdown",
      "metadata": {
        "id": "d19d46d8"
      },
      "source": [
        "**7. Decisión Estadística y Conclusión Práctica:**\n",
        "\n",
        "*   **Decisión Estadística (usando los valores críticos):**\n",
        "    Comparamos el estadístico de prueba calculado (${estadistico_chi2_ej31:.4f}$) con los valores críticos (${valor_critico_chi2_inferior_ej31:.4f}$ y ${valor_critico_chi2_superior_ej31:.4f}$).\n",
        "    Dado que ${estadistico_chi2_ej31:.4f} > ${valor_critico_chi2_superior_ej31:.4f}$, el estadístico de prueba cae en la región de rechazo superior. Por lo tanto, **rechazamos la hipótesis nula ($H_0$)**.\n",
        "\n",
        "*   **Decisión Estadística (usando el valor p):**\n",
        "    Comparamos el valor p (${valor_p_ej31:.4f}$) con el nivel de significancia ($\\alpha = 0.05$).\n",
        "    Dado que el valor p (${valor_p_ej31:.4f}$) es menor que $\\alpha$ (0.05), **rechazamos la hipótesis nula ($H_0$)**.\n",
        "\n",
        "*   **Conclusión Práctica:**\n",
        "    Con un nivel de significancia del 0.05, hay suficiente evidencia estadística para rechazar la afirmación de la compañía de telefonía de que la varianza del tiempo de duración de las llamadas es de 2.5 minutos². La evidencia sugiere que la varianza poblacional es significativamente diferente de 2.5, y específicamente, la varianza muestral observada sugiere que es mayor.\n",
        "*   **Significado del Valor p:**\n",
        "    El valor p (${valor_p_ej31:.4f}$) representa la probabilidad de obtener una varianza muestral tan extrema o más extrema (es decir, una varianza de 4 o más, o una varianza muy pequeña) if the null hypothesis were true (i.e., if the true population variance were 2.5). Such a small p-value indicates that observing a sample variance of 4 is highly unlikely by random chance if the true population variance were 2.5.\n",
        "\n",
        "* * *"
      ]
    },
    {
      "cell_type": "markdown",
      "metadata": {
        "id": "feac8c6e"
      },
      "source": [
        "* * *\n",
        "\n",
        "## Ejercicio 32: Varianza del llenado de botellas (prueba unilateral derecha con χ²)\n",
        "\n",
        "Siguiendo el procedimiento para pruebas de hipótesis:\n",
        "\n",
        "**1. Definición de Hipótesis y Nivel de Significancia:**\n",
        "\n",
        "*   **Hipótesis Nula ($H_0$):** La varianza poblacional del llenado de botellas es igual a 1.2 ml².\n",
        "    $$ H_0: \\sigma^2 = 1.2 $$\n",
        "*   **Hipótesis Alternativa ($H_a$):** La varianza poblacional del llenado de botellas es mayor que 1.2 ml² (prueba unilateral derecha).\n",
        "    $$ H_a: \\sigma^2 > 1.2 $$\n",
        "\n",
        "*   **Nivel de Significancia ($\\alpha$):** 0.01"
      ]
    },
    {
      "cell_type": "markdown",
      "metadata": {
        "id": "0bc05dfd"
      },
      "source": [
        "**2. Identificación del Estadístico de Prueba y su Distribución:**\n",
        "\n",
        "Para probar una hipótesis sobre la varianza poblacional ($\\sigma^2$) cuando se tiene una muestra aleatoria de una población normal, utilizamos el estadístico de prueba Chi-cuadrado ($\\chi^2$). Bajo la hipótesis nula, este estadístico sigue una distribución Chi-cuadrado con $n-1$ grados de libertad.\n",
        "\n",
        "Fórmula del estadístico $\\chi^2$:\n",
        "$$ \\chi^2 = \\frac{(n-1)s^2}{\\sigma_0^2} $$\n",
        "\n",
        "Donde:\n",
        "- $n$ es el tamaño de la muestra.\n",
        "- $s^2$ es la varianza muestral.\n",
        "- $\\sigma_0^2$ es la varianza poblacional bajo la hipótesis nula ($H_0$)."
      ]
    },
    {
      "cell_type": "markdown",
      "metadata": {
        "id": "80193a7e"
      },
      "source": [
        "**4. Determinación del Valor Crítico y la Región de Rechazo (reiteración para claridad):**\n",
        "\n",
        "*   **Grados de Libertad:** ${grados_libertad_ej32}$\n",
        "*   **Valor Crítico χ²:** ${valor_critico_chi2_ej32:.4f}$\n",
        "*   **Región de Rechazo:** Rechazamos la hipótesis nula ($H_0$) si el estadístico de prueba $\\chi^2$ calculado es mayor o igual al valor crítico $\\chi^2$. En este caso, si $\\chi^2_{calculado} \\ge {valor_critico_chi2_ej32:.4f}$.\n",
        "\n",
        "**5. Cálculo del Estadístico de Prueba y el Valor p (reiteración para claridad):**\n",
        "\n",
        "*   **Estadístico de Prueba χ² calculado:** ${estadistico_chi2_ej32:.4f}$\n",
        "*   **Valor p:** ${valor_p_ej32:.4f}$"
      ]
    },
    {
      "cell_type": "markdown",
      "metadata": {
        "id": "ecd8057f"
      },
      "source": [
        "**6. Gráfico de la Distribución:**\n",
        "\n",
        "Visualicemos la distribución Chi-cuadrado, el valor crítico, la región de rechazo y el estadístico de prueba calculado."
      ]
    },
    {
      "cell_type": "markdown",
      "metadata": {
        "id": "2566c2ff"
      },
      "source": [
        "**7. Decisión Estadística y Conclusión Práctica:**\n",
        "\n",
        "*   **Decisión Estadística (usando el valor crítico):**\n",
        "    Comparamos el estadístico de prueba calculado (${estadistico_chi2_ej32:.4f}$) con el valor crítico (${valor_critico_chi2_ej32:.4f}$).\n",
        "    Dado que ${estadistico_chi2_ej32:.4f} > {valor_critico_chi2_ej32:.4f}$, el estadístico de prueba cae en la región de rechazo. Por lo tanto, **rechazamos la hipótesis nula ($H_0$)**.\n",
        "\n",
        "*   **Decisión Estadística (usando el valor p):**\n",
        "    Comparamos el valor p (${valor_p_ej32:.4f}$) con el nivel de significancia ($\\alpha = 0.01$).\n",
        "    Dado que el valor p (${valor_p_ej32:.4f}$) es menor que $\\alpha$ (0.01), **rechazamos la hipótesis nula ($H_0$)**.\n",
        "\n",
        "*   **Conclusión Práctica:**\n",
        "    Con un nivel de significancia del 0.01, hay suficiente evidencia estadística para rechazar la afirmación de que la varianza del llenado de botellas es de 1.2 ml². La evidencia sugiere que la varianza poblacional es significativamente mayor a 1.2 ml², lo que indica un problema con la máquina embotelladora que necesita ser calibrada.\n",
        "*   **Significado del Valor p:**\n",
        "    El valor p (${valor_p_ej32:.4f}$) representa la probabilidad de obtener una varianza muestral de 2.0 ml² (o una mayor) if the null hypothesis were true (i.e., if the true population variance were 1.2 ml²). A small p-value indicates that observing a sample variance of 2.0 is unlikely by random chance if the machine were operating correctly.\n",
        "\n",
        "* * *"
      ]
    },
    {
      "cell_type": "markdown",
      "metadata": {
        "id": "4b44af78"
      },
      "source": [
        "* * *\n",
        "\n",
        "## Ejercicio 33: Varianza en el grosor de piezas metálicas (prueba unilateral izquierda con χ²)\n",
        "\n",
        "Siguiendo el procedimiento para pruebas de hipótesis:\n",
        "\n",
        "**1. Definición de Hipótesis y Nivel de Significancia:**\n",
        "\n",
        "*   **Hipótesis Nula ($H_0$):** La varianza poblacional en el grosor de piezas metálicas es de\n",
        "al menos σ\n",
        "2 = 0,5 mm2\n",
        ".\n",
        "    $$ H_0: \\sigma^2 \\ge 0.5 $$\n",
        "*   **Hipótesis Alternativa ($H_a$):** La varianza poblacional en el grosor de piezas metálicas es de\n",
        "al menos σ\n",
        "2 = 0,5 mm2\n",
        ".\n",
        "    $$ H_a: \\sigma^2 < 0.5 $$\n",
        "\n",
        "*   **Nivel de Significancia ($\\alpha$):** 0.05"
      ]
    },
    {
      "cell_type": "markdown",
      "metadata": {
        "id": "cde38f30"
      },
      "source": [
        "**2. Identificación del Estadístico de Prueba y su Distribución:**\n",
        "\n",
        "Para probar una hipótesis sobre la varianza poblacional ($\\sigma^2$) cuando se tiene una muestra aleatoria de una población normal, utilizamos el estadístico de prueba Chi-cuadrado ($\\chi^2$). Bajo la hipótesis nula, este estadístico sigue una distribución Chi-cuadrado con $n-1$ grados de libertad.\n",
        "\n",
        "Fórmula del estadístico $\\chi^2$:\n",
        "$$ \\chi^2 = \\frac{(n-1)s^2}{\\sigma_0^2} $$\n",
        "\n",
        "Donde:\n",
        "- $n$ es el tamaño de la muestra.\n",
        "- $s^2$ es la varianza muestral.\n",
        "- $\\sigma_0^2$ es la varianza poblacional bajo la hipótesis nula ($H_0$)."
      ]
    },
    {
      "cell_type": "markdown",
      "metadata": {
        "id": "fb8dbc93"
      },
      "source": [
        "**4. Determinación del Valor Crítico y la Región de Rechazo (reiteración para claridad):**\n",
        "\n",
        "*   **Grados de Libertad:** ${grados_libertad_ej33}$\n",
        "*   **Valor Crítico χ²:** ${valor_critico_chi2_ej33:.4f}$\n",
        "*   **Región de Rechazo:** Rechazamos la hipótesis nula ($H_0$) si el estadístico de prueba $\\chi^2$ calculado es menor o igual al valor crítico $\\chi^2$. En este caso, si $\\chi^2_{calculado} \\le {valor_critico_chi2_ej33:.4f}$.\n",
        "\n",
        "**5. Cálculo del Estadístico de Prueba y el Valor p (reiteración para claridad):**\n",
        "\n",
        "*   **Estadístico de Prueba χ² calculado:** ${estadistico_chi2_ej33:.4f}$\n",
        "*   **Valor p:** ${valor_p_ej33:.4f}$"
      ]
    },
    {
      "cell_type": "markdown",
      "metadata": {
        "id": "97b44874"
      },
      "source": [
        "**6. Gráfico de la Distribución:**\n",
        "\n",
        "Visualicemos la distribución Chi-cuadrado, el valor crítico, la región de rechazo y el estadístico de prueba calculado."
      ]
    },
    {
      "cell_type": "markdown",
      "metadata": {
        "id": "4972534a"
      },
      "source": [
        "**7. Decisión Estadística y Conclusión Práctica:**\n",
        "\n",
        "*   **Decisión Estadística (usando el valor crítico):**\n",
        "    Comparamos el estadístico de prueba calculado (${estadistico_chi2_ej33:.4f}$) con el valor crítico (${valor_critico_chi2_ej33:.4f}$).\n",
        "    Dado que ${estadistico_chi2_ej33:.4f} < {valor_critico_chi2_ej33:.4f}$, el estadístico de prueba cae en la región de rechazo. Por lo tanto, **rechazamos la hipótesis nula ($H_0$)**.\n",
        "\n",
        "*   **Decisión Estadística (usando el valor p):**\n",
        "    Comparamos el valor p (${valor_p_ej33:.4f}$) con el nivel de significancia ($\\alpha = 0.05$).\n",
        "    Dado que el valor p (${valor_p_ej33:.4f}$) es menor que $\\alpha$ (0.05), **rechazamos la hipótesis nula ($H_0$)**.\n",
        "\n",
        "*   **Conclusión Práctica:**\n",
        "    Con un nivel de significancia del 0.05, hay suficiente evidencia estadística para rechazar la afirmación del control de calidad de que la varianza en el grosor de las piezas metálicas es de al menos 0.5 mm². La evidencia sugiere que la varianza poblacional es significativamente menor a 0.5 mm².\n",
        "*   **Significado del Valor p:**\n",
        "    El valor p (${valor_p_ej33:.4f}$) representa la probabilidad de obtener una varianza muestral de 0.3 mm² (o una menor) si la hipótesis nula fuera cierta (es decir, si la verdadera varianza poblacional fuera 0.5 mm²). Un valor p tan pequeño indica que es muy improbable observar una varianza muestral de 0.3 por pura casualidad si la verdadera varianza poblacional fuera 0.5 o más.\n",
        "\n",
        "* * *"
      ]
    },
    {
      "cell_type": "markdown",
      "metadata": {
        "id": "f29e7a0b"
      },
      "source": [
        "**Conclusión Breve:** Con un 95% de confianza, la altura promedio poblacional está entre ${limite_inferior_ic:.4f}$ cm y ${limite_superior_ic:.4f}$ cm.\n",
        "\n",
        "* * *\n",
        "\n",
        "### Ejercicio 2: Calificación promedio de examen nacional\n",
        "\n",
        "**Problema:** Determinar un intervalo de confianza para la calificación promedio poblacional de un examen. $\\sigma=15$ puntos. Muestra: $n=100$, $\\bar{x}=75$ puntos. Nivel de confianza: 90%.\n",
        "\n",
        "**Código para el cálculo:**"
      ]
    },
    {
      "cell_type": "markdown",
      "metadata": {
        "id": "9db14e69"
      },
      "source": [
        "**Conclusión Breve:** Con un 90% de confianza, la calificación promedio poblacional está entre ${limite_inferior_ic_ej2:.4f}$ puntos y ${limite_superior_ic_ej2:.4f}$ puntos.\n",
        "\n",
        "* * *\n",
        "\n",
        "### Ejercicio 3: Diámetro promedio de tornillos\n",
        "\n",
        "**Problema:** Calcular un intervalo de confianza para el diámetro promedio real de tornillos. $\\sigma=0.2$ cm. Muestra: $n=30$, $\\bar{x}=2.5$ cm. Nivel de confianza: 99%.\n",
        "\n",
        "**Código para el cálculo:**"
      ]
    },
    {
      "cell_type": "markdown",
      "metadata": {
        "id": "ed314581"
      },
      "source": [
        "**Conclusión Breve:** Con un 99% de confianza, el diámetro promedio poblacional está entre ${limite_inferior_ic_ej3:.4f}$ cm y ${limite_superior_ic_ej3:.4f}$ cm.\n",
        "\n",
        "* * *\n",
        "\n",
        "### Ejercicio 4: Duración media poblacional de baterías\n",
        "\n",
        "**Problema:** Encontrar un intervalo de confianza para la duración media poblacional de baterías. $\\sigma=1.5$ horas. Muestra: $n=25$, $\\bar{x}=12$ horas. Nivel de confianza: 95%.\n",
        "\n",
        "**Código para el cálculo:**"
      ]
    },
    {
      "cell_type": "markdown",
      "metadata": {
        "id": "1eefee13"
      },
      "source": [
        "**Conclusión Breve:** Con un 95% de confianza, la duración media poblacional de las baterías está entre ${limite_inferior_ic_ej4:.4f}$ horas y ${limite_superior_ic_ej4:.4f}$ horas.\n",
        "\n",
        "* * *\n",
        "\n",
        "### Ejercicio 5: Crecimiento promedio de plantas con fertilizante\n",
        "\n",
        "**Problema:** Construir un intervalo de confianza para el crecimiento promedio poblacional de plantas con fertilizante. $\\sigma=4$ cm. Muestra: $n=40$, $\\bar{x}=20$ cm. Nivel de confianza: 95%.\n",
        "\n",
        "**Código para el cálculo:**"
      ]
    },
    {
      "cell_type": "markdown",
      "metadata": {
        "id": "4c2f47fb"
      },
      "source": [
        "**Conclusión Breve:** Con un 95% de confianza, el crecimiento promedio poblacional de las plantas está entre ${limite_inferior_ic_ej5:.4f}$ cm y ${limite_superior_ic_ej5:.4f}$ cm."
      ]
    },
    {
      "cell_type": "markdown",
      "metadata": {
        "id": "ee1d4a1a"
      },
      "source": [
        "**Conclusión Breve:** Con un 95% de confianza, la temperatura promedio poblacional del café está entre ${limite_inferior_ic_ej6:.4f}$ °C y ${limite_superior_ic_ej6:.4f}$ °C."
      ]
    },
    {
      "cell_type": "markdown",
      "metadata": {
        "id": "060210c1"
      },
      "source": [
        "**Conclusión Breve:** Con un 90% de confianza, la duración media poblacional real de la batería del smartphone está entre ${limite_inferior_ic_ej7:.4f}$ horas y ${limite_superior_ic_ej7:.4f}$ horas."
      ]
    },
    {
      "cell_type": "markdown",
      "metadata": {
        "id": "d0f8b7f2"
      },
      "source": [
        "**Conclusión Breve:** Con un 99% de confianza, la altura media poblacional de las plántulas de maíz con el fertilizante experimental está entre ${limite_inferior_ic_ej8:.4f}$ cm y ${limite_superior_ic_ej8:.4f}$ cm."
      ]
    },
    {
      "cell_type": "markdown",
      "metadata": {
        "id": "9865d57a"
      },
      "source": [
        "**Conclusión Breve:** Con un 95% de confianza, el tiempo medio poblacional de entrega de pizza está entre ${limite_inferior_ic_ej9:.4f}$ minutos y ${limite_superior_ic_ej9:.4f}$ minutos."
      ]
    },
    {
      "cell_type": "markdown",
      "metadata": {
        "id": "9926b97b"
      },
      "source": [
        "**Conclusión Breve:** Con un 95% de confianza, el peso promedio poblacional de los libros de matemáticas está entre ${limite_inferior_ic_ej10:.4f}$ kg y ${limite_superior_ic_ej10:.4f}$ kg."
      ]
    },
    {
      "cell_type": "markdown",
      "metadata": {
        "id": "3025ecb0"
      },
      "source": [
        "**Conclusión Breve (Escenario 1):** Para estimar la proporción de residentes vacunados con un margen de error del 3% y un 95% de confianza, utilizando la estimación previa del 72%, se necesitan aproximadamente ${tamano_muestra_ej11_escenario1}$ residentes en la muestra.\n",
        "\n",
        "### Escenario 2: Sin estudio piloto (no hay estimación previa de $p$)\n",
        "\n",
        "**Problema:** Determine el tamaño de muestra necesario para estimar esta proporción con un margen de error del 3 % y un nivel de confianza del 95 %, si no se tuviera el estudio piloto.\n",
        "\n",
        "**Datos:**\n",
        "- Como no hay estimación previa de $p$, usamos $p = 0.5$.\n",
        "- Margen de error ($E$) = 0.03\n",
        "- Nivel de confianza = 95 % ($\\alpha = 0.05$)"
      ]
    },
    {
      "cell_type": "markdown",
      "metadata": {
        "id": "2bb2e410"
      },
      "source": [
        "**Conclusión Breve (Escenario 2):** Si no se tiene una estimación previa de la proporción de residentes vacunados, para lograr un margen de error del 3% con un 95% de confianza, se necesitaría una muestra más grande de aproximadamente ${tamano_muestra_ej11_escenario2}$ residentes. Esto se debe a que usar $p=0.5$ considera el peor escenario posible en términos de variabilidad."
      ]
    },
    {
      "cell_type": "markdown",
      "metadata": {
        "id": "bf7ead9f"
      },
      "source": [
        "**Conclusión Breve (Ejercicio 12):** Para estimar la proporción de devoluciones con un margen de error del 4% y un 90% de confianza, utilizando la tasa de devoluciones histórica del 7%, se necesitan aproximadamente ${tamano_muestra_ej12}$ pedidos en la muestra."
      ]
    },
    {
      "cell_type": "markdown",
      "metadata": {
        "id": "412d83ef"
      },
      "source": [
        "**Conclusión Breve (Escenario 1):** Para estimar la proporción de votantes que apoyan al candidato con un margen de error del 2% y un 99% de confianza, utilizando la estimación previa del 42%, se necesitan aproximadamente ${tamano_muestra_ej13_escenario1}$ votantes en la muestra.\n",
        "\n",
        "### Escenario 2: Sin encuesta previa (no hay estimación previa de $p$)\n",
        "\n",
        "**Problema:** Si no se usa la encuesta previa, ¿cómo cambia el resultado del tamaño de muestra necesario para estimar esta proporción con un margen de error del 2 % y un nivel de confianza del 99 %?\n",
        "\n",
        "**Datos:**\n",
        "- Como no hay estimación previa de $p$, usamos $p = 0.5$.\n",
        "- Margen de error ($E$) = 0.02\n",
        "- Nivel de confianza = 99 % ($\\alpha = 0.01$)"
      ]
    },
    {
      "cell_type": "markdown",
      "metadata": {
        "id": "b55a2458"
      },
      "source": [
        "**Conclusión Breve (Escenario 2):** Si no se tiene una estimación previa de la proporción de votantes que apoyan al candidato, para lograr un margen de error del 2% con un 99% de confianza, se necesitaría una muestra más grande de aproximadamente ${tamano_muestra_ej13_escenario2}$ votantes. Esto confirma que usar $p=0.5$ resulta en el tamaño de muestra más grande posible para un margen de error y nivel de confianza dados."
      ]
    },
    {
      "cell_type": "markdown",
      "metadata": {
        "id": "c04b0cc9"
      },
      "source": [
        "**Conclusión Breve (Escenario 1):** Para estimar la proporción de apoyo a la nueva política con un margen de error del 5% y un 95% de confianza, utilizando la estimación previa del 56%, se necesitan aproximadamente ${tamano_muestra_ej14_escenario1}$ padres en la muestra.\n",
        "\n",
        "### Justificación del uso de $p=0.5$ cuando no hay datos preliminares\n",
        "\n",
        "Cuando no se dispone de una estimación previa de la proporción poblacional ($p$), se utiliza el valor de $p=0.5$ en la fórmula del tamaño de muestra por una razón matemática clave. La expresión $p(1-p)$ alcanza su valor máximo cuando $p=0.5$.\n",
        "\n",
        "Veamos algunos ejemplos:\n",
        "- Si $p = 0.1$, $p(1-p) = 0.1 \\times 0.9 = 0.09$\n",
        "- Si $p = 0.3$, $p(1-p) = 0.3 \\times 0.7 = 0.21$\n",
        "- Si $p = 0.5$, $p(1-p) = 0.5 \\times 0.5 = 0.25$\n",
        "- Si $p = 0.7$, $p(1-p) = 0.7 \\times 0.3 = 0.21$\n",
        "- Si $p = 0.9$, $p(1-p) = 0.9 \\times 0.1 = 0.09$\n",
        "\n",
        "Como puedes observar, el producto $p(1-p)$ es mayor cuando $p$ se acerca a 0.5. Dado que el tamaño de muestra ($n$) es directamente proporcional a $p(1-p)$ en la fórmula, usar $p=0.5$ resulta en el **tamaño de muestra más grande posible** para un margen de error y un nivel de confianza determinados.\n",
        "\n",
        "Esto es una estrategia conservadora que garantiza que el tamaño de muestra calculado sea suficiente para lograr el margen de error deseado, independientemente de cuál sea la proporción poblacional real. Si utilizáramos una $p$ estimada que estuviera lejos de 0.5 (y esa estimación fuera incorrecta), podríamos calcular un tamaño de muestra insuficiente. Usar $p=0.5$ nos protege contra este riesgo cuando no tenemos información previa confiable.\n",
        "\n",
        "En resumen, $p=0.5$ se utiliza para maximizar el tamaño de muestra y asegurar que el estudio tenga la potencia suficiente para estimar la proporción poblacional dentro del margen de error especificado, en ausencia de cualquier otra información sobre la verdadera proporción."
      ]
    },
    {
      "cell_type": "markdown",
      "metadata": {
        "id": "e99d6d77"
      },
      "source": [
        "**Conclusión Breve (Escenario 1):** Para estimar la proporción de pacientes que mejoran con el tratamiento con un margen de error del 4% y un 95% de confianza, utilizando la estimación previa del 69%, se necesitan aproximadamente ${tamano_muestra_ej15_escenario1}$ pacientes en la muestra.\n",
        "\n",
        "### Escenario 2: Si se desea ser conservador (usar $p=0.5$)\n",
        "\n",
        "**Problema:** Si se desea ser conservador (usar $p=0.5$), ¿cuál sería el tamaño de muestra necesario para un margen de error del 4 % y confianza del 95 %?\n",
        "\n",
        "**Datos:**\n",
        "- Usar $p = 0.5$ para ser conservador.\n",
        "- Margen de error ($E$) = 0.04\n",
        "- Nivel de confianza = 95 % ($\\alpha = 0.05$)"
      ]
    },
    {
      "cell_type": "markdown",
      "metadata": {
        "id": "092f8f10"
      },
      "source": [
        "**Conclusión Breve (Escenario 2):** Si se desea ser conservador y no utilizar la estimación previa, para lograr un margen de error del 4% con un 95% de confianza, se necesitaría una muestra más grande de aproximadamente ${tamano_muestra_ej15_escenario2}$ pacientes. Esto confirma que usar $p=0.5$ resulta en un tamaño de muestra mayor, siendo una opción segura cuando no se tiene una estimación confiable de la proporción poblacional."
      ]
    },
    {
      "cell_type": "markdown",
      "metadata": {
        "id": "61eb1009"
      },
      "source": [
        "**Conclusión Breve (Ejercicio 16):** Para estimar el tiempo promedio de espera en urgencias con un margen de error de 2 minutos y un 95% de confianza, sabiendo que la desviación estándar poblacional es de 8 minutos, se necesitan aproximadamente ${tamano_muestra_ej16}$ pacientes en la muestra."
      ]
    },
    {
      "cell_type": "markdown",
      "metadata": {
        "id": "e062aab9"
      },
      "source": [
        "**Conclusión Breve (Ejercicio 17):** Para estimar el consumo mensual promedio de los clientes residenciales con un margen de error de 10 kWh y un 90% de confianza, sabiendo que la desviación estándar poblacional es de 50 kWh, se necesitan aproximadamente ${tamano_muestra_ej17}$ clientes en la muestra."
      ]
    },
    {
      "cell_type": "markdown",
      "metadata": {
        "id": "ca2e7eb2"
      },
      "source": [
        "**Conclusión Breve (Ejercicio 18):** Para estimar el peso promedio de los paquetes transportados con un margen de error de 0.5 kg y un 99% de confianza, sabiendo que la desviación estándar poblacional es de 1.2 kg, se necesitan aproximadamente ${tamano_muestra_ej18}$ paquetes en la muestra."
      ]
    },
    {
      "cell_type": "markdown",
      "metadata": {
        "id": "ac75de4b"
      },
      "source": [
        "**Conclusión Breve (Ejercicio 19):** Para estimar la duración promedio de las reuniones con un margen de error de 1.5 minutos y un 95% de confianza, sabiendo que la desviación estándar poblacional es de 5 minutos, se necesitan aproximadamente ${tamano_muestra_ej19}$ reuniones en la muestra."
      ]
    },
    {
      "cell_type": "markdown",
      "metadata": {
        "id": "a7340a59"
      },
      "source": [
        "**Conclusión Breve (Ejercicio 20):** Para estimar el puntaje promedio del examen estandarizado con un margen de error de 3 puntos y un 90% de confianza, sabiendo que la desviación estándar poblacional es de 12 puntos, se necesitan aproximadamente ${tamano_muestra_ej20}$ exámenes en la muestra."
      ]
    },
    {
      "cell_type": "markdown",
      "metadata": {
        "id": "d1c6b29c"
      },
      "source": [
        "**4. Determinación del Valor Crítico y la Región de Rechazo (reiteración para claridad):**\n",
        "\n",
        "*   **Valor Crítico Z:** ${valor_critico_z_ej21:.4f}$\n",
        "*   **Región de Rechazo:** Rechazamos la hipótesis nula ($H_0$) si el estadístico de prueba Z calculado es menor o igual al valor crítico Z. En este caso, si $Z_{calculado} \\le {valor_critico_z_ej21:.4f}$.\n",
        "\n",
        "**5. Cálculo del Estadístico de Prueba y el Valor p (reiteración para claridad):**\n",
        "\n",
        "*   **Estadístico de Prueba Z calculado:** ${estadistico_z_ej21:.4f}$\n",
        "*   **Valor p:** ${valor_p_ej21:.4f}$"
      ]
    },
    {
      "cell_type": "markdown",
      "metadata": {
        "id": "9027b2c9"
      },
      "source": [
        "**7. Decisión Estadística y Conclusión Práctica:**\n",
        "\n",
        "*   **Decisión Estadística (usando el valor crítico):**\n",
        "    Comparamos el estadístico de prueba calculado (${estadistico_z_ej21:.4f}$) con el valor crítico (${valor_critico_z_ej21:.4f}$).\n",
        "    Dado que ${estadistico_z_ej21:.4f} \\le {valor_critico_z_ej21:.4f}$, el estadístico de prueba cae en la región de rechazo. Por lo tanto, **rechazamos la hipótesis nula ($H_0$)**.\n",
        "\n",
        "*   **Decisión Estadística (usando el valor p):**\n",
        "    Comparamos el valor p (${valor_p_ej21:.4f}$) con el nivel de significancia ($\\alpha = 0.05$).\n",
        "    Dado que el valor p (${valor_p_ej21:.4f}$) es menor que $\\alpha$ (0.05), **rechazamos la hipótesis nula ($H_0$)**.\n",
        "\n",
        "*   **Conclusión Práctica:**\n",
        "    Con un nivel de significancia del 0.05, hay suficiente evidencia estadística para rechazar la afirmación de la empresa de que el peso promedio de sus paquetes de cereal es de 500 g. La evidencia sugiere que el peso promedio es significativamente menor a 500 g, apoyando la sospecha de subllenado.\n",
        "\n",
        "*   **Significado del Valor p:**\n",
        "    El valor p (${valor_p_ej21:.4f}$) representa la probabilidad de obtener una media muestral de 495 g (o una más extrema) si la hipótesis nula fuera cierta (es decir, si el verdadero peso promedio fuera 500 g). Un valor p tan pequeño indica que es muy improbable observar una media muestral de 495 g por pura casualidad si la máquina estuviera correctamente calibrada.\n",
        "\n",
        "* * *"
      ]
    },
    {
      "cell_type": "markdown",
      "metadata": {
        "id": "8431edb9"
      },
      "source": [
        "**4. Determinación del Valor Crítico y la Región de Rechazo (reiteración para claridad):**\n",
        "\n",
        "*   **Valor Crítico Z:** ${valor_critico_z_ej22:.4f}$\n",
        "*   **Región de Rechazo:** Rechazamos la hipótesis nula ($H_0$) si el estadístico de prueba Z calculado es menor o igual al valor crítico Z. En este caso, si $Z_{calculado} \\le {valor_critico_z_ej22:.4f}$.\n",
        "\n",
        "**5. Cálculo del Estadístico de Prueba y el Valor p (reiteración para claridad):**\n",
        "\n",
        "*   **Estadístico de Prueba Z calculado:** ${estadistico_z_ej22:.4f}$\n",
        "*   **Valor p:** ${valor_p_ej22:.4f}$"
      ]
    },
    {
      "cell_type": "markdown",
      "metadata": {
        "id": "a2c7ad8f"
      },
      "source": [
        "**7. Decisión Estadística y Conclusión Práctica:**\n",
        "\n",
        "*   **Decisión Estadística (usando el valor crítico):**\n",
        "    Comparamos el estadístico de prueba calculado (${estadistico_z_ej22:.4f}$) con el valor crítico (${valor_critico_z_ej22:.4f}$).\n",
        "    Dado que ${estadistico_z_ej22:.4f} \\le {valor_critico_z_ej22:.4f}$, el estadístico de prueba cae en la región de rechazo. Por lo tanto, **rechazamos la hipótesis nula ($H_0$)**.\n",
        "\n",
        "*   **Decisión Estadística (usando el valor p):**\n",
        "    Comparamos el valor p (${valor_p_ej22:.4f}$) con el nivel de significancia ($\\alpha = 0.01$).\n",
        "    Dado que el valor p (${valor_p_ej22:.4f}$) es menor que $\\alpha$ (0.01), **rechazamos la hipótesis nula ($H_0$)**.\n",
        "\n",
        "*   **Conclusión Práctica:**\n",
        "    Con un nivel de significancia del 0.01, hay suficiente evidencia estadística para rechazar la afirmación del fabricante de que la duración promedio de las baterías es de 1200 horas. La evidencia sugiere que la duración promedio es significativamente menor a 1200 horas, apoyando la alegación del cliente.\n",
        "\n",
        "*   **Significado del Valor p:**\n",
        "    El valor p (${valor_p_ej22:.4f}$) representa la probabilidad de obtener una media muestral de 1180 horas (o una más extrema) si la hipótesis nula fuera cierta (es decir, si el verdadero promedio poblacional fuera 1200 horas). Un valor p tan pequeño indica que es muy improbable observar una media muestral de 1180 horas por pura casualidad si las baterías realmente duraran 1200 horas en promedio.\n",
        "\n",
        "* * *"
      ]
    },
    {
      "cell_type": "markdown",
      "metadata": {
        "id": "5cedc4ec"
      },
      "source": [
        "**4. Determinación del Valor Crítico y la Región de Rechazo (reiteración para claridad):**\n",
        "\n",
        "*   **Valores Críticos Z:** ${valor_critico_z_inferior_ej23:.4f}$ y ${valor_critico_z_superior_ej23:.4f}$\n",
        "*   **Región de Rechazo:** Rechazamos la hipótesis nula ($H_0$) si el estadístico de prueba Z calculado es menor o igual a ${valor_critico_z_inferior_ej23:.4f}$ o mayor o igual a ${valor_critico_z_superior_ej23:.4f}$.\n",
        "\n",
        "**5. Cálculo del Estadístico de Prueba y el Valor p (reiteración para claridad):**\n",
        "\n",
        "*   **Estadístico de Prueba Z calculado:** ${estadistico_z_ej23:.4f}$\n",
        "*   **Valor p:** ${valor_p_ej23:.4f}$"
      ]
    },
    {
      "cell_type": "markdown",
      "metadata": {
        "id": "3309d7f5"
      },
      "source": [
        "**7. Decisión Estadística y Conclusión Práctica:**\n",
        "\n",
        "*   **Decisión Estadística (usando los valores críticos):**\n",
        "    Comparamos el estadístico de prueba calculado (${estadistico_z_ej23:.4f}$) con los valores críticos (${valor_critico_z_inferior_ej23:.4f}$ y ${valor_critico_z_superior_ej23:.4f}$).\n",
        "    Dado que ${valor_critico_z_inferior_ej23:.4f} < {estadistico_z_ej23:.4f} < {valor_critico_z_superior_ej23:.4f}$, el estadístico de prueba *no* cae en la región de rechazo. Por lo tanto, **no rechazamos la hipótesis nula ($H_0$)**.\n",
        "\n",
        "*   **Decisión Estadística (usando el valor p):**\n",
        "    Comparamos el valor p (${valor_p_ej23:.4f}$) con el nivel de significancia ($\\alpha = 0.05$).\n",
        "    Dado que el valor p (${valor_p_ej23:.4f}$) es mayor que $\\alpha$ (0.05), **no rechazamos la hipótesis nula ($H_0$)**.\n",
        "\n",
        "*   **Conclusión Práctica:**\n",
        "    Con un nivel de significancia del 0.05, no hay suficiente evidencia estadística para rechazar la afirmación de que el puntaje promedio de la clase es diferente al promedio nacional de 75 puntos. La diferencia observada en la media muestral (78 puntos) podría deberse a la variabilidad aleatoria de la muestra.\n",
        "\n",
        "*   **Significado del Valor p:**\n",
        "    El valor p (${valor_p_ej23:.4f}$) representa la probabilidad de obtener una media muestral tan extrema o más extrema (es decir, 78 o más, o 72 o menos) si la hipótesis nula fuera cierta (si el verdadero promedio de la clase fuera 75 puntos). Un valor p relativamente grande (mayor que 0.05) indica que observar una media muestral de 78 puntos no es un evento inusual si el verdadero promedio poblacional es 75 puntos.\n",
        "\n",
        "* * *"
      ]
    },
    {
      "cell_type": "markdown",
      "metadata": {
        "id": "215f9b9e"
      },
      "source": [
        "**4. Determinación del Valor Crítico y la Región de Rechazo (reiteración para claridad):**\n",
        "\n",
        "*   **Valor Crítico Z:** ${valor_critico_z_ej24:.4f}$\n",
        "*   **Región de Rechazo:** Rechazamos la hipótesis nula ($H_0$) si el estadístico de prueba Z calculado es menor o igual al valor crítico Z. En este caso, si $Z_{calculado} \\le {valor_critico_z_ej24:.4f}$.\n",
        "\n",
        "**5. Cálculo del Estadístico de Prueba y el Valor p (reiteración para claridad):**\n",
        "\n",
        "*   **Estadístico de Prueba Z calculado:** ${estadistico_z_ej24:.4f}$\n",
        "*   **Valor p:** ${valor_p_ej24:.4f}$"
      ]
    },
    {
      "cell_type": "markdown",
      "metadata": {
        "id": "11b4e697"
      },
      "source": [
        "**7. Decisión Estadística y Conclusión Práctica:**\n",
        "\n",
        "*   **Decisión Estadística (usando el valor crítico):**\n",
        "    Comparamos el estadístico de prueba calculado (${estadistico_z_ej24:.4f}$) con el valor crítico (${valor_critico_z_ej24:.4f}$).\n",
        "    Dado que ${estadistico_z_ej24:.4f} > {valor_critico_z_ej24:.4f}$, el estadístico de prueba *no* cae en la región de rechazo. Por lo tanto, **no rechazamos la hipótesis nula ($H_0$)**.\n",
        "\n",
        "*   **Decisión Estadística (usando el valor p):**\n",
        "    Comparamos el valor p (${valor_p_ej24:.4f}$) con el nivel de significancia ($\\alpha = 0.05$).\n",
        "    Dado que el valor p (${valor_p_ej24:.4f}$) es mayor que $\\alpha$ (0.05), **no rechazamos la hipótesis nula ($H_0$)**.\n",
        "\n",
        "*   **Conclusión Práctica:**\n",
        "    Con un nivel de significancia del 0.05, no hay suficiente evidencia estadística para rechazar la afirmación del laboratorio de que su medicamento reduce la presión arterial en 10 mmHg en promedio. La reducción promedio observada de 8 mmHg en la muestra de 25 pacientes podría deberse a la variabilidad aleatoria de la muestra.\n",
        "*   **Significado del Valor p:**\n",
        "    El valor p (${valor_p_ej24:.4f}$) representa la probabilidad de obtener una reducción promedio de 8 mmHg (o una reducción aún menor) si la hipótesis nula fuera cierta (es decir, si la verdadera reducción promedio fuera 10 mmHg). Un valor p relativamente grande (mayor que 0.05) indica que observar una reducción promedio de 8 mmHg no es un evento inusual si el medicamento realmente reduce la presión en 10 mmHg en promedio.\n",
        "\n",
        "* * *"
      ]
    },
    {
      "cell_type": "markdown",
      "metadata": {
        "id": "1898078b"
      },
      "source": [
        "**4. Determinación del Valor Crítico y la Región de Rechazo (reiteración para claridad):**\n",
        "\n",
        "*   **Valor Crítico Z:** ${valor_critico_z_ej25:.4f}$\n",
        "*   **Región de Rechazo:** Rechazamos la hipótesis nula ($H_0$) si el estadístico de prueba Z calculado es menor o igual al valor crítico Z. En este caso, si $Z_{calculado} \\le {valor_critico_z_ej25:.4f}$.\n",
        "\n",
        "**5. Cálculo del Estadístico de Prueba y el Valor p (reiteración para claridad):**\n",
        "\n",
        "*   **Estadístico de Prueba Z calculado:** ${estadistico_z_ej25:.4f}$\n",
        "*   **Valor p:** ${valor_p_ej25:.4f}$"
      ]
    },
    {
      "cell_type": "markdown",
      "metadata": {
        "id": "895068ce"
      },
      "source": [
        "**7. Decisión Estadística y Conclusión Práctica:**\n",
        "\n",
        "*   **Decisión Estadística (usando el valor crítico):**\n",
        "    Comparamos el estadístico de prueba calculado (${estadistico_z_ej25:.4f}$) con el valor crítico (${valor_critico_z_ej25:.4f}$).\n",
        "    Dado que ${estadistico_z_ej25:.4f} > {valor_critico_z_ej25:.4f}$, el estadístico de prueba *no* cae en la región de rechazo. Por lo tanto, **no rechazamos la hipótesis nula ($H_0$)**.\n",
        "\n",
        "*   **Decisión Estadística (usando el valor p):**\n",
        "    Comparamos el valor p (${valor_p_ej25:.4f}$) con el nivel de significancia ($\\alpha = 0.01$).\n",
        "    Dado que el valor p (${valor_p_ej25:.4f}$) es mayor que $\\alpha$ (0.01), **no rechazamos la hipótesis nula ($H_0$)**.\n",
        "\n",
        "*   **Conclusión Práctica:**\n",
        "    Con un nivel de significancia del 0.01, no hay suficiente evidencia estadística para rechazar la afirmación de que la media de llenado de las botellas es de 500 mL. La media muestral observada de 498 mL podría deberse a la variabilidad aleatoria de la muestra.\n",
        "*   **Significado del Valor p:**\n",
        "    El valor p (${valor_p_ej25:.4f}$) representa la probabilidad de obtener una media muestral de 498 mL (o una media aún menor) si la hipótesis nula fuera cierta (es decir, si la verdadera media de llenado fuera 500 mL). Un valor p relativamente grande (mayor que 0.01) indica que observar una media muestral de 498 mL no es un evento inusual si la máquina está correctamente calibrada.\n",
        "\n",
        "* * *"
      ]
    },
    {
      "cell_type": "markdown",
      "metadata": {
        "id": "3fc0c8b1"
      },
      "source": [
        "**4. Determinación del Valor Crítico y la Región de Rechazo (reiteración para claridad):**\n",
        "\n",
        "*   **Grados de Libertad:** ${grados_libertad_ej26}$\n",
        "*   **Valor Crítico t:** ${valor_critico_t_ej26:.4f}$\n",
        "*   **Región de Rechazo:** Rechazamos la hipótesis nula ($H_0$) si el estadístico de prueba t calculado es mayor o igual al valor crítico t. En este caso, si $t_{calculado} \\ge {valor_critico_t_ej26:.4f}$.\n",
        "\n",
        "**5. Cálculo del Estadístico de Prueba y el Valor p (reiteración para claridad):**\n",
        "\n",
        "*   **Estadístico de Prueba t calculado:** ${estadistico_t_ej26:.4f}$\n",
        "*   **Valor p:** ${valor_p_ej26:.4f}$"
      ]
    },
    {
      "cell_type": "markdown",
      "metadata": {
        "id": "8f1c2130"
      },
      "source": [
        "**7. Decisión Estadística y Conclusión Práctica:**\n",
        "\n",
        "*   **Decisión Estadística (usando el valor crítico):**\n",
        "    Comparamos el estadístico de prueba calculado (${estadistico_t_ej26:.4f}$) con el valor crítico (${valor_critico_t_ej26:.4f}$).\n",
        "    Dado que ${estadistico_t_ej26:.4f} > {valor_critico_t_ej26:.4f}$, el estadístico de prueba cae en la región de rechazo. Por lo tanto, **rechazamos la hipótesis nula ($H_0$)**.\n",
        "\n",
        "*   **Decisión Estadística (usando el valor p):**\n",
        "    Comparamos el valor p (${valor_p_ej26:.4f}$) con el nivel de significancia ($\\alpha = 0.05$).\n",
        "    Dado que el valor p (${valor_p_ej26:.4f}$) es menor que $\\alpha$ (0.05), **rechazamos la hipótesis nula ($H_0$)**.\n",
        "\n",
        "*   **Conclusión Práctica:**\n",
        "    Con un nivel de significancia del 0.05, hay suficiente evidencia estadística para rechazar la afirmación del restaurante de que su tiempo promedio de entrega a domicilio es de 25 minutos. La evidencia sugiere que el tiempo promedio de entrega es significativamente mayor a 25 minutos, apoyando la sospecha del cliente.\n",
        "*   **Significado del Valor p:**\n",
        "    El valor p (${valor_p_ej26:.4f}$) representa la probabilidad de obtener una media muestral de 28 minutos (o una mayor) si la hipótesis nula fuera cierta (es decir, si el verdadero tiempo promedio de entrega fuera 25 minutos). Un valor p tan pequeño indica que es muy improbable observar una media muestral de 28 minutos por pura casualidad si el tiempo promedio real fuera 25 minutos.\n",
        "\n",
        "* * *"
      ]
    },
    {
      "cell_type": "markdown",
      "metadata": {
        "id": "dc2fd133"
      },
      "source": [
        "**4. Determinación del Valor Crítico y la Región de Rechazo (reiteración para claridad):**\n",
        "\n",
        "*   **Grados de Libertad:** ${grados_libertad_ej27}$\n",
        "*   **Valores Críticos t:** ${valor_critico_t_inferior_ej27:.4f}$ y ${valor_critico_t_superior_ej27:.4f}$\n",
        "*   **Región de Rechazo:** Rechazamos la hipótesis nula ($H_0$) si el estadístico de prueba t calculado es menor o igual a ${valor_critico_t_inferior_ej27:.4f}$ o mayor o igual a ${valor_critico_t_superior_ej27:.4f}$.\n",
        "\n",
        "**5. Cálculo del Estadístico de Prueba y el Valor p (reiteración para claridad):**\n",
        "\n",
        "*   **Estadístico de Prueba t calculado:** ${estadistico_t_ej27:.4f}$\n",
        "*   **Valor p:** ${valor_p_ej27:.4f}$"
      ]
    },
    {
      "cell_type": "markdown",
      "metadata": {
        "id": "3d8bddea"
      },
      "source": [
        "**7. Decisión Estadística y Conclusión Práctica:**\n",
        "\n",
        "*   **Decisión Estadística (usando los valores críticos):**\n",
        "    Comparamos el estadístico de prueba calculado (${estadistico_t_ej27:.4f}$) con los valores críticos (${valor_critico_t_inferior_ej27:.4f}$ y ${valor_critico_t_superior_ej27:.4f}$).\n",
        "    Dado que ${valor_critico_t_inferior_ej27:.4f} < {estadistico_t_ej27:.4f} < {valor_critico_t_superior_ej27:.4f}$, el estadístico de prueba *no* cae en la región de rechazo. Por lo tanto, **no rechazamos la hipótesis nula ($H_0$)**.\n",
        "\n",
        "*   **Decisión Estadística (usando el valor p):**\n",
        "    Comparamos el valor p (${valor_p_ej27:.4f}$) con el nivel de significancia ($\\alpha = 0.01$).\n",
        "    Dado que el valor p (${valor_p_ej27:.4f}$) es mayor que $\\alpha$ (0.01), **no rechazamos la hipótesis nula ($H_0$)**.\n",
        "\n",
        "*   **Conclusión Práctica:**\n",
        "    Con un nivel de significancia del 0.01, no hay suficiente evidencia estadística para rechazar la afirmación del colegio de que el promedio de su clase en matemáticas es 80. La media muestral observada de 75 puntos podría deberse a la variabilidad aleatoria de la muestra.\n",
        "*   **Significado del Valor p:**\n",
        "    El valor p (${valor_p_ej27:.4f}$) representa la probabilidad de obtener una media muestral tan extrema o más extrema (es decir, 75 o menos, o 85 o más) si la hipótesis nula fuera cierta (si el verdadero promedio de la clase fuera 80 puntos). Un valor p relativamente grande (mayor que 0.01) indica que observar una media muestral de 75 puntos no es un evento inusual si el verdadero promedio poblacional es 80 puntos.\n",
        "\n",
        "* * *"
      ]
    },
    {
      "cell_type": "markdown",
      "metadata": {
        "id": "68fc628e"
      },
      "source": [
        "**4. Determinación del Valor Crítico y la Región de Rechazo (reiteración para claridad):**\n",
        "\n",
        "*   **Grados de Libertad:** ${grados_libertad_ej28}$\n",
        "*   **Valor Crítico t:** ${valor_critico_t_ej28:.4f}$\n",
        "*   **Región de Rechazo:** Rechazamos la hipótesis nula ($H_0$) si el estadístico de prueba t calculado es menor o igual al valor crítico t. En este caso, si $t_{calculado} \\le {valor_critico_t_ej28:.4f}$.\n",
        "\n",
        "**5. Cálculo del Estadístico de Prueba y el Valor p (reiteración para claridad):**\n",
        "\n",
        "*   **Estadístico de Prueba t calculado:** ${estadistico_t_ej28:.4f}$\n",
        "*   **Valor p:** ${valor_p_ej28:.4f}$"
      ]
    },
    {
      "cell_type": "markdown",
      "metadata": {
        "id": "a0b5ce8d"
      },
      "source": [
        "**7. Decisión Estadística y Conclusión Práctica:**\n",
        "\n",
        "*   **Decisión Estadística (usando el valor crítico):**\n",
        "    Comparamos el estadístico de prueba calculado (${estadistico_t_ej28:.4f}$) con el valor crítico (${valor_critico_t_ej28:.4f}$).\n",
        "    Dado que ${estadistico_t_ej28:.4f} > {valor_critico_t_ej28:.4f}$, el estadístico de prueba *no* cae en la región de rechazo. Por lo tanto, **no rechazamos la hipótesis nula ($H_0$)**.\n",
        "\n",
        "*   **Decisión Estadística (usando el valor p):**\n",
        "    Comparamos el valor p (${valor_p_ej28:.4f}$) con el nivel de significancia ($\\alpha = 0.05$).\n",
        "    Dado que el valor p (${valor_p_ej28:.4f}$) es mayor que $\\alpha$ (0.05), **no rechazamos la hipótesis nula ($H_0$)**.\n",
        "\n",
        "*   **Conclusión Práctica:**\n",
        "    Con un nivel de significancia del 0.05, no hay suficiente evidencia estadística para rechazar la afirmación del fabricante de que su auto consume 15 km/L en promedio. La media muestral observada de 14 km/L podría deberse a la variabilidad aleatoria de la muestra.\n",
        "*   **Significado del Valor p:**\n",
        "    El valor p (${valor_p_ej28:.4f}$) representa la probabilidad de obtener una media muestral de 14 km/L (o una media aún menor) si la hipótesis nula fuera cierta (es decir, si el verdadero consumo promedio fuera 15 km/L). Un valor p relativamente grande (mayor que 0.05) indica que observar una media muestral de 14 km/L no es un evento inusual si el verdadero promedio poblacional es 15 km/L.\n",
        "\n",
        "* * *"
      ]
    },
    {
      "cell_type": "markdown",
      "metadata": {
        "id": "33d358e0"
      },
      "source": [
        "**4. Determinación del Valor Crítico y la Región de Rechazo (reiteración para claridad):**\n",
        "\n",
        "*   **Grados de Libertad:** ${grados_libertad_ej29}$\n",
        "*   **Valor Crítico t:** ${valor_critico_t_ej29:.4f}$\n",
        "*   **Región de Rechazo:** Rechazamos la hipótesis nula ($H_0$) si el estadístico de prueba t calculado es menor o igual al valor crítico t. En este caso, si $t_{calculado} \\le {valor_critico_t_ej29:.4f}$.\n",
        "\n",
        "**5. Cálculo del Estadístico de Prueba y el Valor p (reiteración para claridad):**\n",
        "\n",
        "*   **Estadístico de Prueba t calculado:** ${estadistico_t_ej29:.4f}$\n",
        "*   **Valor p:** ${valor_p_ej29:.4f}$"
      ]
    },
    {
      "cell_type": "markdown",
      "metadata": {
        "id": "aaad2f81"
      },
      "source": [
        "**7. Decisión Estadística y Conclusión Práctica:**\n",
        "\n",
        "*   **Decisión Estadística (usando el valor crítico):**\n",
        "    Comparamos el estadístico de prueba calculado (${estadistico_t_ej29:.4f}$) con el valor crítico (${valor_critico_t_ej29:.4f}$).\n",
        "    Dado que ${estadistico_t_ej29:.4f} > {valor_critico_t_ej29:.4f}$, el estadístico de prueba *no* cae en la región de rechazo. Por lo tanto, **no rechazamos la hipótesis nula ($H_0$)**.\n",
        "\n",
        "*   **Decisión Estadística (usando el valor p):**\n",
        "    Comparamos el valor p (${valor_p_ej29:.4f}$) con el nivel de significancia ($\\alpha = 0.10$).\n",
        "    Dado que el valor p (${valor_p_ej29:.4f}$) es mayor que $\\alpha$ (0.10), **no rechazamos la hipótesis nula ($H_0$)**.\n",
        "\n",
        "*   **Conclusión Práctica:**\n",
        "    Con un nivel de significancia del 0.10, no hay suficiente evidencia estadística para rechazar la afirmación de que el suplemento aumenta el nivel de hierro en la sangre en 2 mg/dL en promedio. El aumento promedio observado de 1.5 mg/dL en la muestra de 8 pacientes podría deberse a la variabilidad aleatoria de la muestra.\n",
        "*   **Significado del Valor p:**\n",
        "    El valor p (${valor_p_ej29:.4f}$) representa la probabilidad de obtener un aumento promedio de 1.5 mg/dL (o un aumento aún menor) si la hipótesis nula fuera cierta (es decir, if the true average increase was 2 mg/dL). A relatively large p-value (greater than 0.10) indicates that observing a sample average increase of 1.5 mg/dL is not an unusual event if the supplement truly increases iron by 2 mg/dL on average.\n",
        "\n",
        "* * *"
      ]
    },
    {
      "cell_type": "markdown",
      "metadata": {
        "id": "721e1e3d"
      },
      "source": [
        "**4. Determinación del Valor Crítico y la Región de Rechazo (reiteración para claridad):**\n",
        "\n",
        "*   **Grados de Libertad:** ${grados_libertad_ej30}$\n",
        "*   **Valor Crítico t:** ${valor_critico_t_ej30:.4f}$\n",
        "*   **Región de Rechazo:** Rechazamos la hipótesis nula ($H_0$) si el estadístico de prueba t calculado es menor o igual al valor crítico t. En este caso, si $t_{calculado} \\le {valor_critico_t_ej30:.4f}$.\n",
        "\n",
        "**5. Cálculo del Estadístico de Prueba y el Valor p (reiteración para claridad):**\n",
        "\n",
        "*   **Estadístico de Prueba t calculado:** ${estadistico_t_ej30:.4f}$\n",
        "*   **Valor p:** ${valor_p_ej30:.4f}$"
      ]
    },
    {
      "cell_type": "markdown",
      "metadata": {
        "id": "69502535"
      },
      "source": [
        "**7. Decisión Estadística y Conclusión Práctica:**\n",
        "\n",
        "*   **Decisión Estadística (usando el valor crítico):**\n",
        "    Comparamos el estadístico de prueba calculado (${estadistico_t_ej30:.4f}$) con el valor crítico (${valor_critico_t_ej30:.4f}$).\n",
        "    Dado que ${estadistico_t_ej30:.4f} > {valor_critico_t_ej30:.4f}$, el estadístico de prueba *no* cae en la región de rechazo. Por lo tanto, **no rechazamos la hipótesis nula ($H_0$)**.\n",
        "\n",
        "*   **Decisión Estadística (usando el valor p):**\n",
        "    Comparamos el valor p (${valor_p_ej30:.4f}$) con el nivel de significancia ($\\alpha = 0.05$).\n",
        "    Dado que el valor p (${valor_p_ej30:.4f}$) es mayor que $\\alpha$ (0.05), **no rechazamos la hipótesis nula ($H_0$)**.\n",
        "\n",
        "*   **Conclusión Práctica:**\n",
        "    Con un nivel de significancia del 0.05, no hay suficiente evidencia estadística para rechazar la afirmación del fabricante de que sus focos duran 10,000 horas en promedio. La media muestral observada de 9,800 horas podría deberse a la variabilidad aleatoria de la muestra.\n",
        "*   **Significado del Valor p:**\n",
        "    El valor p (${valor_p_ej30:.4f}$) representa la probabilidad de obtener una media muestral de 9,800 horas (o una media aún menor) si la hipótesis nula fuera cierta (es decir, si la verdadera duración promedio fuera 10,000 horas). Un valor p relativamente grande (mayor que 0.05) indica que observar una media muestral de 9,800 horas no es un evento inusual si el verdadero promedio poblacional es 10,000 horas.\n",
        "\n",
        "* * *"
      ]
    },
    {
      "cell_type": "markdown",
      "metadata": {
        "id": "a80dc0f6"
      },
      "source": [
        "**4. Determinación de los Valores Críticos y las Regiones de Rechazo (reiteración para claridad):**\n",
        "\n",
        "*   **Grados de Libertad:** ${grados_libertad_ej31}$\n",
        "*   **Valores Críticos χ²:** ${valor_critico_chi2_inferior_ej31:.4f}$ y ${valor_critico_chi2_superior_ej31:.4f}$\n",
        "*   **Regiones de Rechazo:** Rechazamos la hipótesis nula ($H_0$) si el estadístico de prueba $\\chi^2$ calculado es menor o igual a ${valor_critico_chi2_inferior_ej31:.4f}$ o mayor o igual a ${valor_critico_chi2_superior_ej31:.4f}$.\n",
        "\n",
        "**5. Cálculo del Estadístico de Prueba y el Valor p (reiteración para claridad):**\n",
        "\n",
        "*   **Estadístico de Prueba χ² calculado:** ${estadistico_chi2_ej31:.4f}$\n",
        "*   **Valor p:** ${valor_p_ej31:.4f}$"
      ]
    },
    {
      "cell_type": "markdown",
      "metadata": {
        "id": "c141dd35"
      },
      "source": [
        "**7. Decisión Estadística y Conclusión Práctica:**\n",
        "\n",
        "* **Decisión Estadística (usando los valores críticos):**\n",
        "Comparamos el estadístico de prueba calculado (${estadistico_chi2_ej31:.4f}$) con los valores críticos (${valor_critico_chi2_inferior_ej31:.4f}$ y ${valor_critico_chi2_superior_ej31:.4f}$).\n",
        "Dado que ${estadistico_chi2_ej31:.4f} > ${valor_critico_chi2_superior_ej31:.4f}$, el estadístico de prueba cae en la región de rechazo superior. Por lo tanto, **rechazamos la hipótesis nula ($H_0$)**.\n",
        "* **Decisión Estadística (usando el valor p):**\n",
        "Comparamos el valor p (${valor_p_ej31:.4f}$) con el nivel de significancia ($\\alpha = 0.05$).\n",
        "Dado que el valor p (${valor_p_ej31:.4f}$) es menor que $\\alpha$ (0.05), **rechazamos la hipótesis nula ($H_0$)**.\n",
        "* **Conclusión Práctica:**\n",
        "Con un nivel de significancia del 0.05, hay suficiente evidencia estadística para rechazar la afirmación de la compañía de telefonía de que la varianza del tiempo de duración de las llamadas es de 2.5 minutos². La evidencia sugiere que la varianza poblacional es significativamente diferente de 2.5, y específicamente, la varianza muestral observada sugiere que es mayor.\n",
        "* **Significado del Valor p:**\n",
        "El valor p (${valor_p_ej31:.4f}$) representa la probabilidad de obtener una varianza muestral tan extrema o más extrema (es decir, una varianza de 4 o más, o una varianza muy pequeña) if the null hypothesis were true (i.e., if the true population variance were 2.5). Such a small p-value indicates that observing a sample variance of 4 is highly unlikely by random chance if the true population variance were 2.5.\n",
        "\n",
        "* * *"
      ]
    },
    {
      "cell_type": "markdown",
      "metadata": {
        "id": "26001572"
      },
      "source": [
        "**7. Decisión Estadística y Conclusión Práctica:**\n",
        "\n",
        "* **Decisión Estadística (usando el valor crítico):**\n",
        "Comparamos el estadístico de prueba calculado (${estadistico_chi2_ej32:.4f}$) con el valor crítico (${valor_critico_chi2_ej32:.4f}$).\n",
        "Dado que ${estadistico_chi2_ej32:.4f} > {valor_critico_chi2_ej32:.4f}$, el estadístico de prueba cae en la región de rechazo. Por lo tanto, **rechazamos la hipótesis nula ($H_0$)**.\n",
        "* **Decisión Estadística (usando el valor p):**\n",
        "Comparamos el valor p (${valor_p_ej32:.4f}$) con el nivel de significancia ($\\alpha = 0.01$).\n",
        "Dado que el valor p (${valor_p_ej32:.4f}$) es menor que $\\alpha$ (0.01), **rechazamos la hipótesis nula ($H_0$)**.\n",
        "* **Conclusión Práctica:**\n",
        "Con un nivel de significancia del 0.01, hay suficiente evidencia estadística para rechazar la afirmación de que la varianza del llenado de botellas es de 1.2 ml². La evidencia sugiere que la varianza poblacional es significativamente mayor a 1.2 ml², lo que indica un problema con la máquina embotelladora que necesita ser calibrada.\n",
        "* **Significado del Valor p:**\n",
        "El valor p (${valor_p_ej32:.4f}$) representa la probabilidad de obtener una varianza muestral de 2.0 ml² (o una mayor) if the null hypothesis were true (i.e., if the true population variance were 1.2 ml²). A small p-value indicates that observing a sample variance of 2.0 is unlikely by random chance if the machine were operating correctly.\n",
        "\n",
        "* * *"
      ]
    },
    {
      "cell_type": "markdown",
      "metadata": {
        "id": "30fe190b"
      },
      "source": [
        "**7. Decisión Estadística y Conclusión Práctica:**\n",
        "\n",
        "* **Decisión Estadística (usando el valor crítico):**\n",
        "Comparamos el estadístico de prueba calculado (${estadistico_chi2_ej33:.4f}$) con el valor crítico (${valor_critico_chi2_ej33:.4f}$).\n",
        "Dado que ${estadistico_chi2_ej33:.4f} < {valor_critico_chi2_ej33:.4f}$, el estadístico de prueba cae en la región de rechazo. Por lo tanto, **rechazamos la hipótesis nula ($H_0$)**.\n",
        "* **Decisión Estadística (usando el valor p):**\n",
        "Comparamos el valor p (${valor_p_ej33:.4f}$) con el nivel de significancia ($\\alpha = 0.05$).\n",
        "Dado que el valor p (${valor_p_ej33:.4f}$) es menor que $\\alpha$ (0.05), **rechazamos la hipótesis nula ($H_0$)**.\n",
        "* **Conclusión Práctica:**\n",
        "Con un nivel de significancia del 0.05, hay suficiente evidencia estadística para rechazar la afirmación del control de calidad de que la varianza en el grosor de las piezas metálicas es de al menos 0.5 mm². La evidencia sugiere que la varianza poblacional es significativamente menor a 0.5 mm².\n",
        "* **Significado del Valor p:**\n",
        "El valor p (${valor_p_ej33:.4f}$) representa la probabilidad de obtener una varianza muestral de 0.3 mm² (o una menor) if the null hypothesis were true (i.e., if the true population variance were 0.5 mm²). A small p-value indicates that observing a sample variance of 0.3 is unlikely by random chance if the true population variance were 0.5 or more.\n",
        "\n",
        "* * *"
      ]
    },
    {
      "cell_type": "markdown",
      "metadata": {
        "id": "f109f61f"
      },
      "source": [
        "**7. Decisión Estadística y Conclusión Práctica:**\n",
        "\n",
        "*   **Decisión Estadística (usando los valores críticos):**\n",
        "    Comparamos el estadístico de prueba calculado (${estadistico_chi2_ej31:.4f}$) con los valores críticos (${valor_critico_chi2_inferior_ej31:.4f}$ y ${valor_critico_chi2_superior_ej31:.4f}$).\n",
        "    Dado que ${estadistico_chi2_ej31:.4f} > ${valor_critico_chi2_superior_ej31:.4f}$, el estadístico de prueba cae en la región de rechazo superior. Por lo tanto, **rechazamos la hipótesis nula ($H_0$)**.\n",
        "\n",
        "*   **Decisión Estadística (usando el valor p):**\n",
        "    Comparamos el valor p (${valor_p_ej31:.4f}$) con el nivel de significancia ($\\alpha = 0.05$).\n",
        "    Dado que el valor p (${valor_p_ej31:.4f}$) es menor que $\\alpha$ (0.05), **rechazamos la hipótesis nula ($H_0$)**.\n",
        "\n",
        "*   **Conclusión Práctica:**\n",
        "    Con un nivel de significancia del 0.05, hay suficiente evidencia estadística para rechazar la afirmación de la compañía de telefonía de que la varianza del tiempo de duración de las llamadas es de 2.5 minutos². La evidencia sugiere que la varianza poblacional es significativamente diferente de 2.5, y específicamente, la varianza muestral observada sugiere que es mayor.\n",
        "*   **Significado del Valor p:**\n",
        "    El valor p (${valor_p_ej31:.4f}$) representa la probabilidad de obtener una varianza muestral tan extrema o más extrema (es decir, una varianza de 4 o más, o una varianza muy pequeña) if the null hypothesis were true (i.e., if the true population variance were 2.5). Such a small p-value indicates that observing a sample variance of 4 is highly unlikely by random chance if the true population variance were 2.5.\n",
        "\n",
        "* * *"
      ]
    },
    {
      "cell_type": "markdown",
      "metadata": {
        "id": "1d167a2c"
      },
      "source": [
        "**4. Determinación del Valor Crítico y la Región de Rechazo (reiteración para claridad):**\n",
        "\n",
        "*   **Grados de Libertad:** ${grados_libertad_ej32}$\n",
        "*   **Valor Crítico χ²:** ${valor_critico_chi2_ej32:.4f}$\n",
        "*   **Región de Rechazo:** Rechazamos la hipótesis nula ($H_0$) si el estadístico de prueba $\\chi^2$ calculado es mayor o igual al valor crítico $\\chi^2$. En este caso, si $\\chi^2_{calculado} \\ge {valor_critico_chi2_ej32:.4f}$.\n",
        "\n",
        "**5. Cálculo del Estadístico de Prueba y el Valor p (reiteración para claridad):**\n",
        "\n",
        "*   **Estadístico de Prueba χ² calculado:** ${estadistico_chi2_ej32:.4f}$\n",
        "*   **Valor p:** ${valor_p_ej32:.4f}$"
      ]
    },
    {
      "cell_type": "markdown",
      "metadata": {
        "id": "e6db48da"
      },
      "source": [
        "**7. Decisión Estadística y Conclusión Práctica:**\n",
        "\n",
        "*   **Decisión Estadística (usando el valor crítico):**\n",
        "    Comparamos el estadístico de prueba calculado (${estadistico_chi2_ej32:.4f}$) con el valor crítico (${valor_critico_chi2_ej32:.4f}$).\n",
        "    Dado que ${estadistico_chi2_ej32:.4f} > {valor_critico_chi2_ej32:.4f}$, el estadístico de prueba cae en la región de rechazo. Por lo tanto, **rechazamos la hipótesis nula ($H_0$)**.\n",
        "\n",
        "*   **Decisión Estadística (usando el valor p):**\n",
        "    Comparamos el valor p (${valor_p_ej32:.4f}$) con el nivel de significancia ($\\alpha = 0.01$).\n",
        "    Dado que el valor p (${valor_p_ej32:.4f}$) es menor que $\\alpha$ (0.01), **rechazamos la hipótesis nula ($H_0$)**.\n",
        "\n",
        "*   **Conclusión Práctica:**\n",
        "    Con un nivel de significancia del 0.01, hay suficiente evidencia estadística para rechazar la afirmación de que la varianza del llenado de botellas es de 1.2 ml². La evidencia sugiere que la varianza poblacional es significativamente mayor a 1.2 ml², lo que indica un problema con la máquina embotelladora que necesita ser calibrada.\n",
        "*   **Significado del Valor p:**\n",
        "    El valor p (${valor_p_ej32:.4f}$) representa la probabilidad de obtener una varianza muestral de 2.0 ml² (o una mayor) if the null hypothesis were true (i.e., if the true population variance were 1.2 ml²). A small p-value indicates that observing a sample variance of 2.0 is unlikely by random chance if the machine were operating correctly.\n",
        "\n",
        "* * *"
      ]
    },
    {
      "cell_type": "markdown",
      "metadata": {
        "id": "a910d82c"
      },
      "source": [
        "**4. Determinación del Valor Crítico y la Región de Rechazo (reiteración para claridad):**\n",
        "\n",
        "*   **Grados de Libertad:** ${grados_libertad_ej33}$\n",
        "*   **Valor Crítico χ²:** ${valor_critico_chi2_ej33:.4f}$\n",
        "*   **Región de Rechazo:** Rechazamos la hipótesis nula ($H_0$) si el estadístico de prueba $\\chi^2$ calculado es menor o igual al valor crítico $\\chi^2$. En este caso, si $\\chi^2_{calculado} \\le {valor_critico_chi2_ej33:.4f}$.\n",
        "\n",
        "**5. Cálculo del Estadístico de Prueba y el Valor p (reiteración para claridad):**\n",
        "\n",
        "*   **Estadístico de Prueba χ² calculado:** ${estadistico_chi2_ej33:.4f}$\n",
        "*   **Valor p:** ${valor_p_ej33:.4f}$"
      ]
    },
    {
      "cell_type": "markdown",
      "metadata": {
        "id": "bdf5a273"
      },
      "source": [
        "**7. Decisión Estadística y Conclusión Práctica:**\n",
        "\n",
        "*   **Decisión Estadística (usando el valor crítico):**\n",
        "    Comparamos el estadístico de prueba calculado (${estadistico_chi2_ej33:.4f}$) con el valor crítico (${valor_critico_chi2_ej33:.4f}$).\n",
        "    Dado que ${estadistico_chi2_ej33:.4f} < {valor_critico_chi2_ej33:.4f}$, el estadístico de prueba cae en la región de rechazo. Por lo tanto, **rechazamos la hipótesis nula ($H_0$)**.\n",
        "\n",
        "*   **Decisión Estadística (usando el valor p):**\n",
        "    Comparamos el valor p (${valor_p_ej33:.4f}$) con el nivel de significancia ($\\alpha = 0.05$).\n",
        "    Dado que el valor p (${valor_p_ej33:.4f}$) es menor que $\\alpha$ (0.05), **rechazamos la hipótesis nula ($H_0$)**.\n",
        "\n",
        "*   **Conclusión Práctica:**\n",
        "    Con un nivel de significancia del 0.05, hay suficiente evidencia estadística para rechazar la afirmación del control de calidad de que la varianza en el grosor de las piezas metálicas es de al menos 0.5 mm². La evidencia sugiere que la varianza poblacional es significativamente menor a 0.5 mm².\n",
        "*   **Significado del Valor p:**\n",
        "    El valor p (${valor_p_ej33:.4f}$) representa la probabilidad de obtener una varianza muestral de 0.3 mm² (o una menor) if the null hypothesis were true (i.e., if the true population variance were 0.5 mm²). A small p-value indicates that observing a sample variance of 0.3 is unlikely by random chance if the true population variance were 0.5 or more.\n",
        "\n",
        "* * *"
      ]
    },
    {
      "cell_type": "markdown",
      "metadata": {
        "id": "3e6968a7"
      },
      "source": [
        "**2. Identificación del Estadístico de Prueba y su Distribución:**\n",
        "\n",
        "Para probar una hipótesis sobre la varianza poblacional ($\\sigma^2$) cuando se tiene una muestra aleatoria de una población normal, utilizamos el estadístico de prueba Chi-cuadrado ($\\chi^2$). Bajo la hipótesis nula, este estadístico sigue una distribución Chi-cuadrado con $n-1$ grados de libertad.\n",
        "\n",
        "Fórmula del estadístico $\\chi^2$:\n",
        "$$ \\chi^2 = \\frac{(n-1)s^2}{\\sigma_0^2} $$\n",
        "\n",
        "Donde:\n",
        "- $n$ es el tamaño de la muestra.\n",
        "- $s^2$ es la varianza muestral.\n",
        "- $\\sigma_0^2$ es la varianza poblacional bajo la hipótesis nula ($H_0$)."
      ]
    },
    {
      "cell_type": "code",
      "metadata": {
        "id": "4f3b8ab9"
      },
      "source": [
        "import numpy as np\n",
        "from scipy.stats import chi2\n",
        "import matplotlib.pyplot as plt\n",
        "\n",
        "# Datos del problema (Ejercicio 33)\n",
        "varianza_poblacional_h0_ej33 = 0.5  # mm^2 (valor bajo H0)\n",
        "varianza_muestral_ej33 = 0.3  # mm^2\n",
        "tamano_muestra_ej33 = 12\n",
        "nivel_significancia_ej33 = 0.05\n",
        "\n",
        "# Grados de libertad\n",
        "grados_libertad_ej33 = tamano_muestra_ej33 - 1\n",
        "\n",
        "# 3. Cálculo del Estadístico de Prueba Chi-cuadrado\n",
        "estadistico_chi2_ej33 = (grados_libertad_ej33 * varianza_muestral_ej33) / varianza_poblacional_h0_ej33\n",
        "\n",
        "print(f\"Estadístico de Prueba χ²: {estadistico_chi2_ej33:.4f}\")\n",
        "print(f\"Grados de Libertad: {grados_libertad_ej33}\")\n",
        "\n",
        "# 4. Determinación del Valor Crítico y la Región de Rechazo\n",
        "# Para una prueba unilateral izquierda con distribución χ², el valor crítico χ² es el valor tal que el área a su izquierda es alpha.\n",
        "valor_critico_chi2_ej33 = chi2.ppf(nivel_significancia_ej33, grados_libertad_ej33)\n",
        "\n",
        "print(f\"Valor Crítico χ² (para α={nivel_significancia_ej33} y df={grados_libertad_ej33}): {valor_critico_chi2_ej33:.4f}\")\n",
        "print(\"Región de Rechazo: Rechazar H0 si χ²_calculado <= χ²_critico\")\n",
        "\n",
        "# 5. Cálculo del Valor p\n",
        "# Para una prueba unilateral izquierda con distribución χ², el valor p es el área a la izquierda del estadístico χ² calculado.\n",
        "valor_p_ej33 = chi2.cdf(estadistico_chi2_ej33, grados_libertad_ej33)\n",
        "\n",
        "print(f\"Valor p: {valor_p_ej33:.4f}\")"
      ],
      "execution_count": null,
      "outputs": []
    },
    {
      "cell_type": "markdown",
      "metadata": {
        "id": "1f942d00"
      },
      "source": [
        "**4. Determinación del Valor Crítico y la Región de Rechazo (reiteración para claridad):**\n",
        "\n",
        "*   **Grados de Libertad:** ${grados_libertad_ej33}$\n",
        "*   **Valor Crítico χ²:** ${valor_critico_chi2_ej33:.4f}$\n",
        "*   **Región de Rechazo:** Rechazamos la hipótesis nula ($H_0$) si el estadístico de prueba $\\chi^2$ calculado es menor o igual al valor crítico $\\chi^2$. En este caso, si $\\chi^2_{calculado} \\le {valor_critico_chi2_ej33:.4f}$.\n",
        "\n",
        "**5. Cálculo del Estadístico de Prueba y el Valor p (reiteración para claridad):**\n",
        "\n",
        "*   **Estadístico de Prueba χ² calculado:** ${estadistico_chi2_ej33:.4f}$\n",
        "*   **Valor p:** ${valor_p_ej33:.4f}$"
      ]
    },
    {
      "cell_type": "markdown",
      "metadata": {
        "id": "9949ea5a"
      },
      "source": [
        "**6. Gráfico de la Distribución:**\n",
        "\n",
        "Visualicemos la distribución Chi-cuadrado, el valor crítico, la región de rechazo y el estadístico de prueba calculado."
      ]
    },
    {
      "cell_type": "code",
      "metadata": {
        "id": "d1e641cc"
      },
      "source": [
        "# Generar valores para el eje x de la distribución Chi-cuadrado\n",
        "# La distribución Chi-cuadrado es asimétrica y solo toma valores no negativos.\n",
        "# El rango del eje x puede variar dependiendo de los grados de libertad.\n",
        "# Un rango común es desde 0 hasta un valor que cubre la mayor parte de la distribución,\n",
        "# como el percentil 99.9 o un poco más allá del valor crítico superior.\n",
        "x = np.linspace(0, chi2.ppf(0.99, grados_libertad_ej33) + 2, 1000) # Ajustar rango para prueba unilateral izquierda\n",
        "y = chi2.pdf(x, grados_libertad_ej33) # PDF de la distribución Chi-cuadrado\n",
        "\n",
        "plt.figure(figsize=(10, 6))\n",
        "plt.plot(x, y, label=f'Distribución χ² (df={grados_libertad_ej33})')\n",
        "\n",
        "# Rellenar la región de rechazo (área a la izquierda del valor crítico)\n",
        "x_rechazo = np.linspace(0, valor_critico_chi2_ej33, 100)\n",
        "y_rechazo = chi2.pdf(x_rechazo, grados_libertad_ej33)\n",
        "plt.fill_between(x_rechazo, y_rechazo, color='red', alpha=0.5, label='Región de Rechazo (α=0.05)')\n",
        "\n",
        "# Marcar el valor crítico\n",
        "plt.axvline(valor_critico_chi2_ej33, color='red', linestyle='--', label=f'Valor Crítico χ² = {valor_critico_chi2_ej33:.4f}')\n",
        "\n",
        "# Marcar el estadístico de prueba calculado\n",
        "plt.axvline(estadistico_chi2_ej33, color='blue', linestyle='-', label=f'Estadístico χ² Calculado = {estadistico_chi2_ej33:.4f}')\n",
        "\n",
        "# Añadir etiquetas y título\n",
        "plt.title(f'Distribución χ² con Región de Rechazo (df={grados_libertad_ej33}, Prueba Unilateral Izquierda)')\n",
        "plt.xlabel('Valor de χ²')\n",
        "plt.ylabel('Densidad de Probabilidad')\n",
        "plt.legend()\n",
        "plt.grid(True)\n",
        "plt.show()"
      ],
      "execution_count": null,
      "outputs": []
    },
    {
      "cell_type": "markdown",
      "metadata": {
        "id": "834a73ee"
      },
      "source": [
        "**7. Decisión Estadística y Conclusión Práctica:**\n",
        "\n",
        "*   **Decisión Estadística (usando el valor crítico):**\n",
        "    Comparamos el estadístico de prueba calculado (${estadistico_chi2_ej33:.4f}$) con el valor crítico (${valor_critico_chi2_ej33:.4f}$).\n",
        "    Dado que ${estadistico_chi2_ej33:.4f} < {valor_critico_chi2_ej33:.4f}$, el estadístico de prueba cae en la región de rechazo. Por lo tanto, **rechazamos la hipótesis nula ($H_0$)**.\n",
        "\n",
        "*   **Decisión Estadística (usando el valor p):**\n",
        "    Comparamos el valor p (${valor_p_ej33:.4f}$) con el nivel de significancia ($\\alpha = 0.05$).\n",
        "    Dado que el valor p (${valor_p_ej33:.4f}$) es menor que $\\alpha$ (0.05), **rechazamos la hipótesis nula ($H_0$)**.\n",
        "\n",
        "*   **Conclusión Práctica:**\n",
        "    Con un nivel de significancia del 0.05, hay suficiente evidencia estadística para rechazar la afirmación del control de calidad de que la varianza en el grosor de las piezas metálicas es de al menos 0.5 mm². La evidencia sugiere que la varianza poblacional es significativamente menor a 0.5 mm².\n",
        "*   **Significado del Valor p:**\n",
        "    El valor p (${valor_p_ej33:.4f}$) representa la probabilidad de obtener una varianza muestral de 0.3 mm² (o una menor) si la hipótesis nula fuera cierta (es decir, si la verdadera varianza poblacional fuera 0.5 mm²). Un valor p tan pequeño indica que es muy improbable observar una varianza muestral de 0.3 por pura casualidad si la verdadera varianza poblacional fuera 0.5 o más.\n",
        "\n",
        "* * *"
      ]
    }
  ]
}